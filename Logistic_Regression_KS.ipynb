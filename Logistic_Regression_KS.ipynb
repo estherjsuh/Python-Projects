{
 "cells": [
  {
   "cell_type": "markdown",
   "metadata": {},
   "source": [
    "# Logistic Regression with Kick Starter Data"
   ]
  },
  {
   "cell_type": "markdown",
   "metadata": {},
   "source": [
    "### Import data"
   ]
  },
  {
   "cell_type": "code",
   "execution_count": 45,
   "metadata": {
    "collapsed": false
   },
   "outputs": [],
   "source": [
    "import pandas as pd\n",
    "import numpy as np\n",
    "import matplotlib.pyplot as plt\n",
    "import seaborn as sns\n",
    "%matplotlib inline"
   ]
  },
  {
   "cell_type": "code",
   "execution_count": 2,
   "metadata": {
    "collapsed": false
   },
   "outputs": [
    {
     "name": "stderr",
     "output_type": "stream",
     "text": [
      "/Users/esther/anaconda/lib/python2.7/site-packages/IPython/core/interactiveshell.py:2723: DtypeWarning: Columns (13,14,15) have mixed types. Specify dtype option on import or set low_memory=False.\n",
      "  interactivity=interactivity, compiler=compiler, result=result)\n"
     ]
    }
   ],
   "source": [
    "ks= pd.read_csv(\"ks-projects-201612.csv\")"
   ]
  },
  {
   "cell_type": "code",
   "execution_count": 3,
   "metadata": {
    "collapsed": false
   },
   "outputs": [
    {
     "data": {
      "text/plain": [
       "(323750, 17)"
      ]
     },
     "execution_count": 3,
     "metadata": {},
     "output_type": "execute_result"
    }
   ],
   "source": [
    "ks.shape"
   ]
  },
  {
   "cell_type": "code",
   "execution_count": 4,
   "metadata": {
    "collapsed": false
   },
   "outputs": [
    {
     "data": {
      "text/plain": [
       "Index([u'ID ', u'name ', u'category ', u'main_category ', u'currency ',\n",
       "       u'deadline ', u'goal ', u'launched ', u'pledged ', u'state ',\n",
       "       u'backers ', u'country ', u'usd pledged ', u'Unnamed: 13',\n",
       "       u'Unnamed: 14', u'Unnamed: 15', u'Unnamed: 16'],\n",
       "      dtype='object')"
      ]
     },
     "execution_count": 4,
     "metadata": {},
     "output_type": "execute_result"
    }
   ],
   "source": [
    "ks.columns"
   ]
  },
  {
   "cell_type": "markdown",
   "metadata": {},
   "source": [
    "### Drop last 4 columns"
   ]
  },
  {
   "cell_type": "code",
   "execution_count": 5,
   "metadata": {
    "collapsed": true
   },
   "outputs": [],
   "source": [
    "ks = ks.iloc[:, :-4]"
   ]
  },
  {
   "cell_type": "code",
   "execution_count": 6,
   "metadata": {
    "collapsed": false
   },
   "outputs": [
    {
     "data": {
      "text/plain": [
       "Index([u'ID ', u'name ', u'category ', u'main_category ', u'currency ',\n",
       "       u'deadline ', u'goal ', u'launched ', u'pledged ', u'state ',\n",
       "       u'backers ', u'country ', u'usd pledged '],\n",
       "      dtype='object')"
      ]
     },
     "execution_count": 6,
     "metadata": {},
     "output_type": "execute_result"
    }
   ],
   "source": [
    "ks.columns"
   ]
  },
  {
   "cell_type": "markdown",
   "metadata": {},
   "source": [
    "### Remove trailing spaces in column names"
   ]
  },
  {
   "cell_type": "code",
   "execution_count": 7,
   "metadata": {
    "collapsed": true
   },
   "outputs": [],
   "source": [
    "ks = ks.rename(columns=lambda x: x.strip())"
   ]
  },
  {
   "cell_type": "code",
   "execution_count": 8,
   "metadata": {
    "collapsed": false
   },
   "outputs": [
    {
     "data": {
      "text/plain": [
       "Index([u'ID', u'name', u'category', u'main_category', u'currency', u'deadline',\n",
       "       u'goal', u'launched', u'pledged', u'state', u'backers', u'country',\n",
       "       u'usd pledged'],\n",
       "      dtype='object')"
      ]
     },
     "execution_count": 8,
     "metadata": {},
     "output_type": "execute_result"
    }
   ],
   "source": [
    "ks.columns"
   ]
  },
  {
   "cell_type": "code",
   "execution_count": 9,
   "metadata": {
    "collapsed": false
   },
   "outputs": [
    {
     "data": {
      "text/plain": [
       "failed        168221\n",
       "successful    113081\n",
       "canceled       32354\n",
       "live            4428\n",
       "undefined       3555\n",
       "suspended       1479\n",
       "0                 96\n",
       "1                 15\n",
       "25                11\n",
       "5                 11\n",
       "10                10\n",
       "100                8\n",
       "50                 7\n",
       "65                 6\n",
       "20                 5\n",
       "35                 5\n",
       "55                 5\n",
       "2                  5\n",
       "110                5\n",
       "6                  4\n",
       "21                 4\n",
       "30                 4\n",
       "125                3\n",
       "200                3\n",
       "390                3\n",
       "130                3\n",
       "150                3\n",
       "90                 3\n",
       "525                2\n",
       "11044              2\n",
       "               ...  \n",
       "1410               1\n",
       "300                1\n",
       "301                1\n",
       "306                1\n",
       "16185              1\n",
       "7326.46            1\n",
       "8609.6             1\n",
       "6093               1\n",
       "12590              1\n",
       "6091               1\n",
       "8047               1\n",
       "2718               1\n",
       "5661               1\n",
       "13                 1\n",
       "16                 1\n",
       "9951               1\n",
       "201                1\n",
       "202                1\n",
       "33.06              1\n",
       "1100               1\n",
       "5831               1\n",
       "846                1\n",
       "9857.8             1\n",
       "1111.11            1\n",
       "1731               1\n",
       "1595               1\n",
       "3075               1\n",
       "1598               1\n",
       "485                1\n",
       "6790               1\n",
       "Name: state, dtype: int64"
      ]
     },
     "execution_count": 9,
     "metadata": {},
     "output_type": "execute_result"
    }
   ],
   "source": [
    "ks['state'].value_counts()"
   ]
  },
  {
   "cell_type": "markdown",
   "metadata": {},
   "source": [
    "### Filter dataset down to state = failed & successful "
   ]
  },
  {
   "cell_type": "code",
   "execution_count": 11,
   "metadata": {
    "collapsed": false
   },
   "outputs": [],
   "source": [
    "ks= ks[(ks['state']==\"failed\") | (ks['state']==\"successful\")]"
   ]
  },
  {
   "cell_type": "code",
   "execution_count": 63,
   "metadata": {
    "collapsed": false
   },
   "outputs": [
    {
     "data": {
      "text/plain": [
       "(281302, 13)"
      ]
     },
     "execution_count": 63,
     "metadata": {},
     "output_type": "execute_result"
    }
   ],
   "source": [
    "ks.shape\n",
    "# 42,448 rows dropped"
   ]
  },
  {
   "cell_type": "code",
   "execution_count": 12,
   "metadata": {
    "collapsed": false
   },
   "outputs": [
    {
     "data": {
      "text/plain": [
       "failed        168221\n",
       "successful    113081\n",
       "Name: state, dtype: int64"
      ]
     },
     "execution_count": 12,
     "metadata": {},
     "output_type": "execute_result"
    }
   ],
   "source": [
    "ks['state'].value_counts()"
   ]
  },
  {
   "cell_type": "code",
   "execution_count": 275,
   "metadata": {
    "collapsed": false
   },
   "outputs": [
    {
     "data": {
      "text/plain": [
       "<matplotlib.axes._subplots.AxesSubplot at 0x11d692790>"
      ]
     },
     "execution_count": 275,
     "metadata": {},
     "output_type": "execute_result"
    },
    {
     "data": {
      "image/png": "[encoded data removed]",
      "text/plain": [
       "<matplotlib.figure.Figure at 0x1210aca10>"
      ]
     },
     "metadata": {},
     "output_type": "display_data"
    }
   ],
   "source": [
    "sns.countplot(x='state', data=ks)"
   ]
  },
  {
   "cell_type": "code",
   "execution_count": 13,
   "metadata": {
    "collapsed": false
   },
   "outputs": [
    {
     "data": {
      "text/plain": [
       "{'Art',\n",
       " 'Comics',\n",
       " 'Crafts',\n",
       " 'Dance',\n",
       " 'Design',\n",
       " 'Fashion',\n",
       " 'Film & Video',\n",
       " 'Food',\n",
       " 'Games',\n",
       " 'Journalism',\n",
       " 'Music',\n",
       " 'Photography',\n",
       " 'Publishing',\n",
       " 'Technology',\n",
       " 'Theater'}"
      ]
     },
     "execution_count": 13,
     "metadata": {},
     "output_type": "execute_result"
    }
   ],
   "source": [
    "set(ks['main_category'])"
   ]
  },
  {
   "cell_type": "code",
   "execution_count": 283,
   "metadata": {
    "collapsed": false
   },
   "outputs": [
    {
     "data": {
      "text/plain": [
       "<matplotlib.text.Text at 0x1390ff290>"
      ]
     },
     "execution_count": 283,
     "metadata": {},
     "output_type": "execute_result"
    },
    {
     "data": {
      "image/png": "[encoded data removed]",
      "text/plain": [
       "<matplotlib.figure.Figure at 0x138e4d8d0>"
      ]
     },
     "metadata": {},
     "output_type": "display_data"
    }
   ],
   "source": [
    "ks_cat= ks['main_category'].value_counts().sort_values()\n",
    "sns.set_style('whitegrid')\n",
    "plt.figure(figsize=(10,8))\n",
    "sns.barplot(y=ks_cat.index, x=ks_cat.values,palette='rainbow').set_title('# of Kickstarter per Category')"
   ]
  },
  {
   "cell_type": "markdown",
   "metadata": {},
   "source": [
    "### Attack nulls!"
   ]
  },
  {
   "cell_type": "code",
   "execution_count": 22,
   "metadata": {
    "collapsed": false
   },
   "outputs": [
    {
     "data": {
      "text/plain": [
       "ID                 0\n",
       "name               1\n",
       "category           0\n",
       "main_category      0\n",
       "currency           0\n",
       "deadline           0\n",
       "goal               0\n",
       "launched           0\n",
       "pledged            0\n",
       "state              0\n",
       "backers            0\n",
       "country            0\n",
       "usd pledged      210\n",
       "dtype: int64"
      ]
     },
     "execution_count": 22,
     "metadata": {},
     "output_type": "execute_result"
    }
   ],
   "source": [
    "ks.isnull().sum()"
   ]
  },
  {
   "cell_type": "code",
   "execution_count": 27,
   "metadata": {
    "collapsed": false
   },
   "outputs": [
    {
     "data": {
      "text/html": [
       "<div>\n",
       "<table border=\"1\" class=\"dataframe\">\n",
       "  <thead>\n",
       "    <tr style=\"text-align: right;\">\n",
       "      <th></th>\n",
       "      <th>ID</th>\n",
       "      <th>name</th>\n",
       "      <th>category</th>\n",
       "      <th>main_category</th>\n",
       "      <th>currency</th>\n",
       "      <th>deadline</th>\n",
       "      <th>goal</th>\n",
       "      <th>launched</th>\n",
       "      <th>pledged</th>\n",
       "      <th>state</th>\n",
       "      <th>backers</th>\n",
       "      <th>country</th>\n",
       "      <th>usd pledged</th>\n",
       "    </tr>\n",
       "  </thead>\n",
       "  <tbody>\n",
       "    <tr>\n",
       "      <th>289847</th>\n",
       "      <td>796533179</td>\n",
       "      <td>NaN</td>\n",
       "      <td>Painting</td>\n",
       "      <td>Art</td>\n",
       "      <td>USD</td>\n",
       "      <td>2011-12-05 05:59:00</td>\n",
       "      <td>35000</td>\n",
       "      <td>2011-11-06 23:55:55</td>\n",
       "      <td>220</td>\n",
       "      <td>failed</td>\n",
       "      <td>5</td>\n",
       "      <td>US</td>\n",
       "      <td>220</td>\n",
       "    </tr>\n",
       "  </tbody>\n",
       "</table>\n",
       "</div>"
      ],
      "text/plain": [
       "               ID name  category main_category currency             deadline  \\\n",
       "289847  796533179  NaN  Painting           Art      USD  2011-12-05 05:59:00   \n",
       "\n",
       "         goal             launched pledged   state backers country usd pledged  \n",
       "289847  35000  2011-11-06 23:55:55     220  failed       5      US         220  "
      ]
     },
     "execution_count": 27,
     "metadata": {},
     "output_type": "execute_result"
    }
   ],
   "source": [
    "null_name = ks['name'].isnull()\n",
    "ks[null_name]"
   ]
  },
  {
   "cell_type": "code",
   "execution_count": 29,
   "metadata": {
    "collapsed": false
   },
   "outputs": [],
   "source": [
    "ks['name'] = ks['name'].fillna(value=\"None\")"
   ]
  },
  {
   "cell_type": "code",
   "execution_count": 38,
   "metadata": {
    "collapsed": false
   },
   "outputs": [],
   "source": [
    "ks['usd pledged'] = ks['usd pledged'].fillna(0)"
   ]
  },
  {
   "cell_type": "code",
   "execution_count": 39,
   "metadata": {
    "collapsed": false
   },
   "outputs": [
    {
     "data": {
      "text/plain": [
       "ID               0\n",
       "name             0\n",
       "category         0\n",
       "main_category    0\n",
       "currency         0\n",
       "deadline         0\n",
       "goal             0\n",
       "launched         0\n",
       "pledged          0\n",
       "state            0\n",
       "backers          0\n",
       "country          0\n",
       "usd pledged      0\n",
       "dtype: int64"
      ]
     },
     "execution_count": 39,
     "metadata": {},
     "output_type": "execute_result"
    }
   ],
   "source": [
    "ks.isnull().sum()\n",
    "# YAY! No more nulls"
   ]
  },
  {
   "cell_type": "markdown",
   "metadata": {},
   "source": [
    "### Convert dtypes"
   ]
  },
  {
   "cell_type": "code",
   "execution_count": 40,
   "metadata": {
    "collapsed": false
   },
   "outputs": [
    {
     "data": {
      "text/plain": [
       "ID                int64\n",
       "name             object\n",
       "category         object\n",
       "main_category    object\n",
       "currency         object\n",
       "deadline         object\n",
       "goal             object\n",
       "launched         object\n",
       "pledged          object\n",
       "state            object\n",
       "backers          object\n",
       "country          object\n",
       "usd pledged      object\n",
       "dtype: object"
      ]
     },
     "execution_count": 40,
     "metadata": {},
     "output_type": "execute_result"
    }
   ],
   "source": [
    "ks.dtypes"
   ]
  },
  {
   "cell_type": "code",
   "execution_count": 42,
   "metadata": {
    "collapsed": false
   },
   "outputs": [],
   "source": [
    "# grabbing numeric columns to convert\n",
    "cols= ['goal', 'pledged', 'backers', 'usd pledged']\n",
    "ks[cols] = ks[cols].apply(pd.to_numeric, errors='coerce', axis=1)"
   ]
  },
  {
   "cell_type": "code",
   "execution_count": 43,
   "metadata": {
    "collapsed": false
   },
   "outputs": [
    {
     "data": {
      "text/plain": [
       "ID                 int64\n",
       "name              object\n",
       "category          object\n",
       "main_category     object\n",
       "currency          object\n",
       "deadline          object\n",
       "goal             float64\n",
       "launched          object\n",
       "pledged          float64\n",
       "state             object\n",
       "backers          float64\n",
       "country           object\n",
       "usd pledged      float64\n",
       "dtype: object"
      ]
     },
     "execution_count": 43,
     "metadata": {},
     "output_type": "execute_result"
    }
   ],
   "source": [
    "ks.dtypes"
   ]
  },
  {
   "cell_type": "markdown",
   "metadata": {},
   "source": [
    "### Convert currency to USD"
   ]
  },
  {
   "cell_type": "code",
   "execution_count": 106,
   "metadata": {
    "collapsed": false
   },
   "outputs": [
    {
     "data": {
      "text/plain": [
       "{'AUD',\n",
       " 'CAD',\n",
       " 'CHF',\n",
       " 'DKK',\n",
       " 'EUR',\n",
       " 'GBP',\n",
       " 'HKD',\n",
       " 'MXN',\n",
       " 'NOK',\n",
       " 'NZD',\n",
       " 'SEK',\n",
       " 'SGD',\n",
       " 'USD'}"
      ]
     },
     "execution_count": 106,
     "metadata": {},
     "output_type": "execute_result"
    }
   ],
   "source": [
    "set(ks['currency'])\n",
    "\n",
    "#AUD .78\n",
    "#CAD .79\n",
    "#CHF 1.05\n",
    "#DKK .17\n",
    "#EUR 1.24\n",
    "#GBP 1.42\n",
    "#HKD .13\n",
    "#MXN .055\n",
    "#NOK .13\n",
    "#NZD .74\n",
    "#SEK .12\n",
    "#SGD .76\n",
    "#USD 1"
   ]
  },
  {
   "cell_type": "code",
   "execution_count": 123,
   "metadata": {
    "collapsed": false
   },
   "outputs": [],
   "source": [
    "def convert_to_usd(cur, goal):\n",
    "    if cur=='AUD':\n",
    "        return goal*.78\n",
    "    elif cur=='CAD':\n",
    "        return goal*.79\n",
    "    elif cur=='CHF':\n",
    "        return goal*1.05\n",
    "    elif cur=='DKK':\n",
    "        return goal*.17\n",
    "    elif cur=='EUR':\n",
    "        return goal*1.24\n",
    "    elif cur=='GBP':\n",
    "        return goal*1.42\n",
    "    elif cur=='HKD':\n",
    "        return goal*.13\n",
    "    elif cur=='MXN':\n",
    "        return goal*.055\n",
    "    elif cur=='NOK':\n",
    "        return goal*.13\n",
    "    elif cur=='NZD':\n",
    "        return goal*.74\n",
    "    elif cur=='SEK':\n",
    "        return goal*.12\n",
    "    elif cur=='SGD':\n",
    "        return goal*.76\n",
    "    return goal*1\n",
    "\n",
    "\n",
    "ks['usd_goal']= ks.apply(lambda x: convert_to_usd(x['currency'], x['goal']), axis=1)\n",
    "\n",
    "## I only converted the 'goal' column since the'usd pledged' column already exists"
   ]
  },
  {
   "cell_type": "markdown",
   "metadata": {},
   "source": [
    "### Average goal, pledged, and backers per category"
   ]
  },
  {
   "cell_type": "code",
   "execution_count": 130,
   "metadata": {
    "collapsed": false
   },
   "outputs": [
    {
     "data": {
      "text/html": [
       "<div>\n",
       "<table border=\"1\" class=\"dataframe\">\n",
       "  <thead>\n",
       "    <tr style=\"text-align: right;\">\n",
       "      <th></th>\n",
       "      <th>backers</th>\n",
       "      <th>usd pledged</th>\n",
       "      <th>usd_goal</th>\n",
       "    </tr>\n",
       "    <tr>\n",
       "      <th>main_category</th>\n",
       "      <th></th>\n",
       "      <th></th>\n",
       "      <th></th>\n",
       "    </tr>\n",
       "  </thead>\n",
       "  <tbody>\n",
       "    <tr>\n",
       "      <th>Art</th>\n",
       "      <td>43.0</td>\n",
       "      <td>3072.0</td>\n",
       "      <td>35603.0</td>\n",
       "    </tr>\n",
       "    <tr>\n",
       "      <th>Comics</th>\n",
       "      <td>146.0</td>\n",
       "      <td>6825.0</td>\n",
       "      <td>23620.0</td>\n",
       "    </tr>\n",
       "    <tr>\n",
       "      <th>Crafts</th>\n",
       "      <td>30.0</td>\n",
       "      <td>1516.0</td>\n",
       "      <td>10416.0</td>\n",
       "    </tr>\n",
       "    <tr>\n",
       "      <th>Dance</th>\n",
       "      <td>45.0</td>\n",
       "      <td>3425.0</td>\n",
       "      <td>8197.0</td>\n",
       "    </tr>\n",
       "    <tr>\n",
       "      <th>Design</th>\n",
       "      <td>269.0</td>\n",
       "      <td>23159.0</td>\n",
       "      <td>41468.0</td>\n",
       "    </tr>\n",
       "    <tr>\n",
       "      <th>Fashion</th>\n",
       "      <td>70.0</td>\n",
       "      <td>5662.0</td>\n",
       "      <td>22797.0</td>\n",
       "    </tr>\n",
       "    <tr>\n",
       "      <th>Film &amp; Video</th>\n",
       "      <td>73.0</td>\n",
       "      <td>6521.0</td>\n",
       "      <td>67477.0</td>\n",
       "    </tr>\n",
       "    <tr>\n",
       "      <th>Food</th>\n",
       "      <td>59.0</td>\n",
       "      <td>5222.0</td>\n",
       "      <td>49838.0</td>\n",
       "    </tr>\n",
       "    <tr>\n",
       "      <th>Games</th>\n",
       "      <td>387.0</td>\n",
       "      <td>22649.0</td>\n",
       "      <td>43672.0</td>\n",
       "    </tr>\n",
       "    <tr>\n",
       "      <th>Journalism</th>\n",
       "      <td>44.0</td>\n",
       "      <td>2801.0</td>\n",
       "      <td>46968.0</td>\n",
       "    </tr>\n",
       "    <tr>\n",
       "      <th>Music</th>\n",
       "      <td>58.0</td>\n",
       "      <td>3918.0</td>\n",
       "      <td>14258.0</td>\n",
       "    </tr>\n",
       "    <tr>\n",
       "      <th>Photography</th>\n",
       "      <td>41.0</td>\n",
       "      <td>3273.0</td>\n",
       "      <td>11129.0</td>\n",
       "    </tr>\n",
       "    <tr>\n",
       "      <th>Publishing</th>\n",
       "      <td>58.0</td>\n",
       "      <td>3208.0</td>\n",
       "      <td>18092.0</td>\n",
       "    </tr>\n",
       "    <tr>\n",
       "      <th>Technology</th>\n",
       "      <td>188.0</td>\n",
       "      <td>20921.0</td>\n",
       "      <td>108781.0</td>\n",
       "    </tr>\n",
       "    <tr>\n",
       "      <th>Theater</th>\n",
       "      <td>50.0</td>\n",
       "      <td>4021.0</td>\n",
       "      <td>22852.0</td>\n",
       "    </tr>\n",
       "  </tbody>\n",
       "</table>\n",
       "</div>"
      ],
      "text/plain": [
       "               backers  usd pledged  usd_goal\n",
       "main_category                                \n",
       "Art               43.0       3072.0   35603.0\n",
       "Comics           146.0       6825.0   23620.0\n",
       "Crafts            30.0       1516.0   10416.0\n",
       "Dance             45.0       3425.0    8197.0\n",
       "Design           269.0      23159.0   41468.0\n",
       "Fashion           70.0       5662.0   22797.0\n",
       "Film & Video      73.0       6521.0   67477.0\n",
       "Food              59.0       5222.0   49838.0\n",
       "Games            387.0      22649.0   43672.0\n",
       "Journalism        44.0       2801.0   46968.0\n",
       "Music             58.0       3918.0   14258.0\n",
       "Photography       41.0       3273.0   11129.0\n",
       "Publishing        58.0       3208.0   18092.0\n",
       "Technology       188.0      20921.0  108781.0\n",
       "Theater           50.0       4021.0   22852.0"
      ]
     },
     "execution_count": 130,
     "metadata": {},
     "output_type": "execute_result"
    }
   ],
   "source": [
    "ks.pivot_table(index='main_category', values=['usd_goal', 'usd pledged', 'backers'], aggfunc=np.mean).round()"
   ]
  },
  {
   "cell_type": "markdown",
   "metadata": {},
   "source": [
    "### Data Visualization on Failed vs. Successful Kickstarters"
   ]
  },
  {
   "cell_type": "code",
   "execution_count": 209,
   "metadata": {
    "collapsed": false
   },
   "outputs": [
    {
     "data": {
      "text/plain": [
       "<matplotlib.text.Text at 0x11fa2e850>"
      ]
     },
     "execution_count": 209,
     "metadata": {},
     "output_type": "execute_result"
    },
    {
     "data": {
      "image/png": "[encoded data removed]",
      "text/plain": [
       "<matplotlib.figure.Figure at 0x11eba39d0>"
      ]
     },
     "metadata": {},
     "output_type": "display_data"
    }
   ],
   "source": [
    "plt.figure(figsize=(12,8))\n",
    "sns.barplot(y='main_category',x='usd_goal',data=ks,hue='state',palette='coolwarm').set_title('Avg. Goal $ per Category')"
   ]
  },
  {
   "cell_type": "code",
   "execution_count": 210,
   "metadata": {
    "collapsed": false
   },
   "outputs": [
    {
     "data": {
      "text/plain": [
       "<matplotlib.text.Text at 0x120470e90>"
      ]
     },
     "execution_count": 210,
     "metadata": {},
     "output_type": "execute_result"
    },
    {
     "data": {
      "image/png": "[encoded data removed]",
      "text/plain": [
       "<matplotlib.figure.Figure at 0x120615110>"
      ]
     },
     "metadata": {},
     "output_type": "display_data"
    }
   ],
   "source": [
    "plt.figure(figsize=(12,8))\n",
    "sns.barplot(y='main_category',x='usd pledged',data=ks,hue='state',palette='coolwarm').set_title('Avg. Pledged $ per Category')"
   ]
  },
  {
   "cell_type": "code",
   "execution_count": 211,
   "metadata": {
    "collapsed": false
   },
   "outputs": [
    {
     "data": {
      "text/plain": [
       "<matplotlib.text.Text at 0x1230c6250>"
      ]
     },
     "execution_count": 211,
     "metadata": {},
     "output_type": "execute_result"
    },
    {
     "data": {
      "image/png": "[encoded data removed]",
      "text/plain": [
       "<matplotlib.figure.Figure at 0x11f717290>"
      ]
     },
     "metadata": {},
     "output_type": "display_data"
    }
   ],
   "source": [
    "plt.figure(figsize=(12,8))\n",
    "sns.barplot(y='main_category',x='backers',data=ks,hue='state',palette='coolwarm').set_title('Avg. Backers per Category')"
   ]
  },
  {
   "cell_type": "code",
   "execution_count": 134,
   "metadata": {
    "collapsed": false
   },
   "outputs": [
    {
     "data": {
      "text/html": [
       "<div>\n",
       "<table border=\"1\" class=\"dataframe\">\n",
       "  <thead>\n",
       "    <tr style=\"text-align: right;\">\n",
       "      <th></th>\n",
       "      <th></th>\n",
       "      <th>Avg_Goal</th>\n",
       "      <th>Avg_Backers</th>\n",
       "      <th>Total_KS</th>\n",
       "      <th>Avg_Pledged</th>\n",
       "    </tr>\n",
       "    <tr>\n",
       "      <th>main_category</th>\n",
       "      <th>state</th>\n",
       "      <th></th>\n",
       "      <th></th>\n",
       "      <th></th>\n",
       "      <th></th>\n",
       "    </tr>\n",
       "  </thead>\n",
       "  <tbody>\n",
       "    <tr>\n",
       "      <th rowspan=\"2\" valign=\"top\">Art</th>\n",
       "      <th>failed</th>\n",
       "      <td>60459.0</td>\n",
       "      <td>9.0</td>\n",
       "      <td>12092</td>\n",
       "      <td>628.0</td>\n",
       "    </tr>\n",
       "    <tr>\n",
       "      <th>successful</th>\n",
       "      <td>4470.0</td>\n",
       "      <td>85.0</td>\n",
       "      <td>9654</td>\n",
       "      <td>6134.0</td>\n",
       "    </tr>\n",
       "    <tr>\n",
       "      <th rowspan=\"2\" valign=\"top\">Comics</th>\n",
       "      <th>failed</th>\n",
       "      <td>47491.0</td>\n",
       "      <td>21.0</td>\n",
       "      <td>3406</td>\n",
       "      <td>994.0</td>\n",
       "    </tr>\n",
       "    <tr>\n",
       "      <th>successful</th>\n",
       "      <td>5549.0</td>\n",
       "      <td>240.0</td>\n",
       "      <td>4499</td>\n",
       "      <td>11239.0</td>\n",
       "    </tr>\n",
       "    <tr>\n",
       "      <th rowspan=\"2\" valign=\"top\">Crafts</th>\n",
       "      <th>failed</th>\n",
       "      <td>13104.0</td>\n",
       "      <td>6.0</td>\n",
       "      <td>4630</td>\n",
       "      <td>302.0</td>\n",
       "    </tr>\n",
       "    <tr>\n",
       "      <th>successful</th>\n",
       "      <td>2970.0</td>\n",
       "      <td>95.0</td>\n",
       "      <td>1671</td>\n",
       "      <td>4879.0</td>\n",
       "    </tr>\n",
       "    <tr>\n",
       "      <th rowspan=\"2\" valign=\"top\">Dance</th>\n",
       "      <th>failed</th>\n",
       "      <td>15333.0</td>\n",
       "      <td>10.0</td>\n",
       "      <td>1089</td>\n",
       "      <td>619.0</td>\n",
       "    </tr>\n",
       "    <tr>\n",
       "      <th>successful</th>\n",
       "      <td>4498.0</td>\n",
       "      <td>64.0</td>\n",
       "      <td>2101</td>\n",
       "      <td>4880.0</td>\n",
       "    </tr>\n",
       "    <tr>\n",
       "      <th rowspan=\"2\" valign=\"top\">Design</th>\n",
       "      <th>failed</th>\n",
       "      <td>58446.0</td>\n",
       "      <td>33.0</td>\n",
       "      <td>12039</td>\n",
       "      <td>2725.0</td>\n",
       "    </tr>\n",
       "    <tr>\n",
       "      <th>successful</th>\n",
       "      <td>15787.0</td>\n",
       "      <td>626.0</td>\n",
       "      <td>7959</td>\n",
       "      <td>54069.0</td>\n",
       "    </tr>\n",
       "    <tr>\n",
       "      <th rowspan=\"2\" valign=\"top\">Fashion</th>\n",
       "      <th>failed</th>\n",
       "      <td>27785.0</td>\n",
       "      <td>10.0</td>\n",
       "      <td>11500</td>\n",
       "      <td>789.0</td>\n",
       "    </tr>\n",
       "    <tr>\n",
       "      <th>successful</th>\n",
       "      <td>9485.0</td>\n",
       "      <td>228.0</td>\n",
       "      <td>4310</td>\n",
       "      <td>18664.0</td>\n",
       "    </tr>\n",
       "    <tr>\n",
       "      <th rowspan=\"2\" valign=\"top\">Film &amp; Video</th>\n",
       "      <th>failed</th>\n",
       "      <td>108185.0</td>\n",
       "      <td>15.0</td>\n",
       "      <td>29653</td>\n",
       "      <td>1497.0</td>\n",
       "    </tr>\n",
       "    <tr>\n",
       "      <th>successful</th>\n",
       "      <td>11080.0</td>\n",
       "      <td>153.0</td>\n",
       "      <td>21404</td>\n",
       "      <td>13481.0</td>\n",
       "    </tr>\n",
       "    <tr>\n",
       "      <th rowspan=\"2\" valign=\"top\">Food</th>\n",
       "      <th>failed</th>\n",
       "      <td>64682.0</td>\n",
       "      <td>13.0</td>\n",
       "      <td>13602</td>\n",
       "      <td>1053.0</td>\n",
       "    </tr>\n",
       "    <tr>\n",
       "      <th>successful</th>\n",
       "      <td>11422.0</td>\n",
       "      <td>179.0</td>\n",
       "      <td>5256</td>\n",
       "      <td>16012.0</td>\n",
       "    </tr>\n",
       "    <tr>\n",
       "      <th rowspan=\"2\" valign=\"top\">Games</th>\n",
       "      <th>failed</th>\n",
       "      <td>63500.0</td>\n",
       "      <td>47.0</td>\n",
       "      <td>13013</td>\n",
       "      <td>2315.0</td>\n",
       "    </tr>\n",
       "    <tr>\n",
       "      <th>successful</th>\n",
       "      <td>16180.0</td>\n",
       "      <td>858.0</td>\n",
       "      <td>9385</td>\n",
       "      <td>50844.0</td>\n",
       "    </tr>\n",
       "    <tr>\n",
       "      <th rowspan=\"2\" valign=\"top\">Journalism</th>\n",
       "      <th>failed</th>\n",
       "      <td>59707.0</td>\n",
       "      <td>8.0</td>\n",
       "      <td>2657</td>\n",
       "      <td>521.0</td>\n",
       "    </tr>\n",
       "    <tr>\n",
       "      <th>successful</th>\n",
       "      <td>8018.0</td>\n",
       "      <td>153.0</td>\n",
       "      <td>869</td>\n",
       "      <td>9772.0</td>\n",
       "    </tr>\n",
       "    <tr>\n",
       "      <th rowspan=\"2\" valign=\"top\">Music</th>\n",
       "      <th>failed</th>\n",
       "      <td>24083.0</td>\n",
       "      <td>9.0</td>\n",
       "      <td>19193</td>\n",
       "      <td>617.0</td>\n",
       "    </tr>\n",
       "    <tr>\n",
       "      <th>successful</th>\n",
       "      <td>5594.0</td>\n",
       "      <td>100.0</td>\n",
       "      <td>21763</td>\n",
       "      <td>6828.0</td>\n",
       "    </tr>\n",
       "    <tr>\n",
       "      <th rowspan=\"2\" valign=\"top\">Photography</th>\n",
       "      <th>failed</th>\n",
       "      <td>13589.0</td>\n",
       "      <td>9.0</td>\n",
       "      <td>5743</td>\n",
       "      <td>607.0</td>\n",
       "    </tr>\n",
       "    <tr>\n",
       "      <th>successful</th>\n",
       "      <td>6261.0</td>\n",
       "      <td>104.0</td>\n",
       "      <td>2903</td>\n",
       "      <td>8546.0</td>\n",
       "    </tr>\n",
       "    <tr>\n",
       "      <th rowspan=\"2\" valign=\"top\">Publishing</th>\n",
       "      <th>failed</th>\n",
       "      <td>24463.0</td>\n",
       "      <td>10.0</td>\n",
       "      <td>19920</td>\n",
       "      <td>604.0</td>\n",
       "    </tr>\n",
       "    <tr>\n",
       "      <th>successful</th>\n",
       "      <td>5715.0</td>\n",
       "      <td>151.0</td>\n",
       "      <td>10255</td>\n",
       "      <td>8265.0</td>\n",
       "    </tr>\n",
       "    <tr>\n",
       "      <th rowspan=\"2\" valign=\"top\">Technology</th>\n",
       "      <th>failed</th>\n",
       "      <td>134101.0</td>\n",
       "      <td>22.0</td>\n",
       "      <td>16347</td>\n",
       "      <td>2413.0</td>\n",
       "    </tr>\n",
       "    <tr>\n",
       "      <th>successful</th>\n",
       "      <td>27014.0</td>\n",
       "      <td>724.0</td>\n",
       "      <td>5062</td>\n",
       "      <td>80690.0</td>\n",
       "    </tr>\n",
       "    <tr>\n",
       "      <th rowspan=\"2\" valign=\"top\">Theater</th>\n",
       "      <th>failed</th>\n",
       "      <td>54646.0</td>\n",
       "      <td>12.0</td>\n",
       "      <td>3337</td>\n",
       "      <td>981.0</td>\n",
       "    </tr>\n",
       "    <tr>\n",
       "      <th>successful</th>\n",
       "      <td>5139.0</td>\n",
       "      <td>71.0</td>\n",
       "      <td>5990</td>\n",
       "      <td>5714.0</td>\n",
       "    </tr>\n",
       "  </tbody>\n",
       "</table>\n",
       "</div>"
      ],
      "text/plain": [
       "                          Avg_Goal  Avg_Backers  Total_KS  Avg_Pledged\n",
       "main_category state                                                   \n",
       "Art           failed       60459.0          9.0     12092        628.0\n",
       "              successful    4470.0         85.0      9654       6134.0\n",
       "Comics        failed       47491.0         21.0      3406        994.0\n",
       "              successful    5549.0        240.0      4499      11239.0\n",
       "Crafts        failed       13104.0          6.0      4630        302.0\n",
       "              successful    2970.0         95.0      1671       4879.0\n",
       "Dance         failed       15333.0         10.0      1089        619.0\n",
       "              successful    4498.0         64.0      2101       4880.0\n",
       "Design        failed       58446.0         33.0     12039       2725.0\n",
       "              successful   15787.0        626.0      7959      54069.0\n",
       "Fashion       failed       27785.0         10.0     11500        789.0\n",
       "              successful    9485.0        228.0      4310      18664.0\n",
       "Film & Video  failed      108185.0         15.0     29653       1497.0\n",
       "              successful   11080.0        153.0     21404      13481.0\n",
       "Food          failed       64682.0         13.0     13602       1053.0\n",
       "              successful   11422.0        179.0      5256      16012.0\n",
       "Games         failed       63500.0         47.0     13013       2315.0\n",
       "              successful   16180.0        858.0      9385      50844.0\n",
       "Journalism    failed       59707.0          8.0      2657        521.0\n",
       "              successful    8018.0        153.0       869       9772.0\n",
       "Music         failed       24083.0          9.0     19193        617.0\n",
       "              successful    5594.0        100.0     21763       6828.0\n",
       "Photography   failed       13589.0          9.0      5743        607.0\n",
       "              successful    6261.0        104.0      2903       8546.0\n",
       "Publishing    failed       24463.0         10.0     19920        604.0\n",
       "              successful    5715.0        151.0     10255       8265.0\n",
       "Technology    failed      134101.0         22.0     16347       2413.0\n",
       "              successful   27014.0        724.0      5062      80690.0\n",
       "Theater       failed       54646.0         12.0      3337        981.0\n",
       "              successful    5139.0         71.0      5990       5714.0"
      ]
     },
     "execution_count": 134,
     "metadata": {},
     "output_type": "execute_result"
    }
   ],
   "source": [
    "x= ks.groupby(['main_category', 'state']).agg({'ID':'count', 'usd_goal':'mean', 'usd pledged': 'mean', 'backers': 'mean'})\n",
    "x= x.rename(columns={'ID': 'Total_KS', 'usd_goal': 'Avg_Goal', 'usd pledged': 'Avg_Pledged', 'backers': 'Avg_Backers'})\n",
    "x.round()"
   ]
  },
  {
   "cell_type": "markdown",
   "metadata": {},
   "source": [
    "### Clean country data"
   ]
  },
  {
   "cell_type": "code",
   "execution_count": 140,
   "metadata": {
    "collapsed": false
   },
   "outputs": [
    {
     "data": {
      "text/plain": [
       "country  state     \n",
       "AT       failed           223\n",
       "         successful        60\n",
       "AU       failed          3733\n",
       "         successful      1450\n",
       "BE       failed           250\n",
       "         successful        79\n",
       "CA       failed          6832\n",
       "         successful      3067\n",
       "CH       failed           303\n",
       "         successful        86\n",
       "DE       failed          1600\n",
       "         successful       530\n",
       "DK       failed           441\n",
       "         successful       231\n",
       "ES       failed           847\n",
       "         successful       242\n",
       "FR       failed          1045\n",
       "         successful       512\n",
       "GB       failed         14480\n",
       "         successful      9340\n",
       "HK       failed            33\n",
       "         successful        14\n",
       "IE       failed           339\n",
       "         successful       133\n",
       "IT       failed          1162\n",
       "         successful       232\n",
       "LU       failed            20\n",
       "         successful        13\n",
       "MX       failed             2\n",
       "         successful         2\n",
       "N,\"0     failed           105\n",
       "         successful       105\n",
       "NL       failed          1459\n",
       "         successful       410\n",
       "NO       failed           322\n",
       "         successful       108\n",
       "NZ       failed           662\n",
       "         successful       330\n",
       "SE       failed           730\n",
       "         successful       335\n",
       "SG       failed            37\n",
       "         successful        32\n",
       "US       failed        133596\n",
       "         successful     95770\n",
       "Name: ID, dtype: int64"
      ]
     },
     "execution_count": 140,
     "metadata": {},
     "output_type": "execute_result"
    }
   ],
   "source": [
    "ks.groupby(['country', 'state'])['ID'].count()"
   ]
  },
  {
   "cell_type": "markdown",
   "metadata": {},
   "source": [
    "### Fix data error - where country == N,\"0"
   ]
  },
  {
   "cell_type": "code",
   "execution_count": 144,
   "metadata": {
    "collapsed": false
   },
   "outputs": [
    {
     "data": {
      "text/plain": [
       "USD    151\n",
       "GBP     22\n",
       "EUR     21\n",
       "CAD      5\n",
       "AUD      5\n",
       "DKK      3\n",
       "NOK      2\n",
       "SEK      1\n",
       "Name: currency, dtype: int64"
      ]
     },
     "execution_count": 144,
     "metadata": {},
     "output_type": "execute_result"
    }
   ],
   "source": [
    "ks[ks['country']=='N,\"0']['currency'].value_counts()"
   ]
  },
  {
   "cell_type": "code",
   "execution_count": 150,
   "metadata": {
    "collapsed": false
   },
   "outputs": [
    {
     "data": {
      "text/plain": [
       "DE      2130\n",
       "NL      1869\n",
       "FR      1557\n",
       "IT      1394\n",
       "ES      1089\n",
       "IE       472\n",
       "BE       329\n",
       "AT       283\n",
       "LU        33\n",
       "N,\"0      21\n",
       "Name: country, dtype: int64"
      ]
     },
     "execution_count": 150,
     "metadata": {},
     "output_type": "execute_result"
    }
   ],
   "source": [
    "## I will convert country=='N,\"0' and currency=='EUR to country= DE\n",
    "ks[ks['currency']=='EUR']['country'].value_counts()"
   ]
  },
  {
   "cell_type": "code",
   "execution_count": 161,
   "metadata": {
    "collapsed": false
   },
   "outputs": [],
   "source": [
    "def update_country(cn, cur):\n",
    "    if cn=='N,\"0':\n",
    "        if cur=='USD':\n",
    "            return 'US'\n",
    "        elif cur=='GBP':\n",
    "            return 'GB'\n",
    "        elif cur=='EUR':\n",
    "            return 'DE'\n",
    "        elif cur=='CAD':\n",
    "            return 'CA'\n",
    "        elif cur=='AUD':\n",
    "            return 'AU'\n",
    "        elif cur=='DKK':\n",
    "            return 'DK'\n",
    "        elif cur=='NOK':\n",
    "            return 'NO'\n",
    "        elif cur=='SEK':\n",
    "            return 'SE'\n",
    "    return cn\n",
    "                        \n",
    "ks['revised_country']= ks.apply(lambda x: update_country(x['country'], x['currency']), axis=1)"
   ]
  },
  {
   "cell_type": "markdown",
   "metadata": {},
   "source": [
    "### Compute Success Rates per Country"
   ]
  },
  {
   "cell_type": "code",
   "execution_count": 254,
   "metadata": {
    "collapsed": false
   },
   "outputs": [],
   "source": [
    "df = pd.DataFrame(ks.groupby(['revised_country', 'state'])['ID'].count())\n",
    "df = df.unstack()\n",
    "\n",
    "df['ID', 'country_success_rate'] = (df['ID', 'successful'] / (df['ID', 'failed']+ df['ID', 'successful']))*100\n",
    "df['ID','total_success_rate'] = (df['ID','successful'] / 113081)*100"
   ]
  },
  {
   "cell_type": "code",
   "execution_count": 336,
   "metadata": {
    "collapsed": false
   },
   "outputs": [
    {
     "data": {
      "text/html": [
       "<div>\n",
       "<table border=\"1\" class=\"dataframe\">\n",
       "  <thead>\n",
       "    <tr>\n",
       "      <th></th>\n",
       "      <th colspan=\"4\" halign=\"left\">ID</th>\n",
       "    </tr>\n",
       "    <tr>\n",
       "      <th>state</th>\n",
       "      <th>failed</th>\n",
       "      <th>successful</th>\n",
       "      <th>country_success_rate</th>\n",
       "      <th>total_success_rate</th>\n",
       "    </tr>\n",
       "    <tr>\n",
       "      <th>revised_country</th>\n",
       "      <th></th>\n",
       "      <th></th>\n",
       "      <th></th>\n",
       "      <th></th>\n",
       "    </tr>\n",
       "  </thead>\n",
       "  <tbody>\n",
       "    <tr>\n",
       "      <th>AT</th>\n",
       "      <td>223</td>\n",
       "      <td>60</td>\n",
       "      <td>21.201413</td>\n",
       "      <td>0.053059</td>\n",
       "    </tr>\n",
       "    <tr>\n",
       "      <th>AU</th>\n",
       "      <td>3737</td>\n",
       "      <td>1451</td>\n",
       "      <td>27.968389</td>\n",
       "      <td>1.283151</td>\n",
       "    </tr>\n",
       "    <tr>\n",
       "      <th>BE</th>\n",
       "      <td>250</td>\n",
       "      <td>79</td>\n",
       "      <td>24.012158</td>\n",
       "      <td>0.069861</td>\n",
       "    </tr>\n",
       "    <tr>\n",
       "      <th>CA</th>\n",
       "      <td>6834</td>\n",
       "      <td>3070</td>\n",
       "      <td>30.997577</td>\n",
       "      <td>2.714868</td>\n",
       "    </tr>\n",
       "    <tr>\n",
       "      <th>CH</th>\n",
       "      <td>303</td>\n",
       "      <td>86</td>\n",
       "      <td>22.107969</td>\n",
       "      <td>0.076052</td>\n",
       "    </tr>\n",
       "    <tr>\n",
       "      <th>DE</th>\n",
       "      <td>1617</td>\n",
       "      <td>534</td>\n",
       "      <td>24.825662</td>\n",
       "      <td>0.472228</td>\n",
       "    </tr>\n",
       "    <tr>\n",
       "      <th>DK</th>\n",
       "      <td>442</td>\n",
       "      <td>233</td>\n",
       "      <td>34.518519</td>\n",
       "      <td>0.206047</td>\n",
       "    </tr>\n",
       "    <tr>\n",
       "      <th>ES</th>\n",
       "      <td>847</td>\n",
       "      <td>242</td>\n",
       "      <td>22.222222</td>\n",
       "      <td>0.214006</td>\n",
       "    </tr>\n",
       "    <tr>\n",
       "      <th>FR</th>\n",
       "      <td>1045</td>\n",
       "      <td>512</td>\n",
       "      <td>32.883751</td>\n",
       "      <td>0.452773</td>\n",
       "    </tr>\n",
       "    <tr>\n",
       "      <th>GB</th>\n",
       "      <td>14488</td>\n",
       "      <td>9354</td>\n",
       "      <td>39.233286</td>\n",
       "      <td>8.271947</td>\n",
       "    </tr>\n",
       "    <tr>\n",
       "      <th>HK</th>\n",
       "      <td>33</td>\n",
       "      <td>14</td>\n",
       "      <td>29.787234</td>\n",
       "      <td>0.012381</td>\n",
       "    </tr>\n",
       "    <tr>\n",
       "      <th>IE</th>\n",
       "      <td>339</td>\n",
       "      <td>133</td>\n",
       "      <td>28.177966</td>\n",
       "      <td>0.117615</td>\n",
       "    </tr>\n",
       "    <tr>\n",
       "      <th>IT</th>\n",
       "      <td>1162</td>\n",
       "      <td>232</td>\n",
       "      <td>16.642755</td>\n",
       "      <td>0.205163</td>\n",
       "    </tr>\n",
       "    <tr>\n",
       "      <th>LU</th>\n",
       "      <td>20</td>\n",
       "      <td>13</td>\n",
       "      <td>39.393939</td>\n",
       "      <td>0.011496</td>\n",
       "    </tr>\n",
       "    <tr>\n",
       "      <th>MX</th>\n",
       "      <td>2</td>\n",
       "      <td>2</td>\n",
       "      <td>50.000000</td>\n",
       "      <td>0.001769</td>\n",
       "    </tr>\n",
       "    <tr>\n",
       "      <th>NL</th>\n",
       "      <td>1459</td>\n",
       "      <td>410</td>\n",
       "      <td>21.936865</td>\n",
       "      <td>0.362572</td>\n",
       "    </tr>\n",
       "    <tr>\n",
       "      <th>NO</th>\n",
       "      <td>323</td>\n",
       "      <td>109</td>\n",
       "      <td>25.231481</td>\n",
       "      <td>0.096391</td>\n",
       "    </tr>\n",
       "    <tr>\n",
       "      <th>NZ</th>\n",
       "      <td>662</td>\n",
       "      <td>330</td>\n",
       "      <td>33.266129</td>\n",
       "      <td>0.291826</td>\n",
       "    </tr>\n",
       "    <tr>\n",
       "      <th>SE</th>\n",
       "      <td>731</td>\n",
       "      <td>335</td>\n",
       "      <td>31.425891</td>\n",
       "      <td>0.296248</td>\n",
       "    </tr>\n",
       "    <tr>\n",
       "      <th>SG</th>\n",
       "      <td>37</td>\n",
       "      <td>32</td>\n",
       "      <td>46.376812</td>\n",
       "      <td>0.028298</td>\n",
       "    </tr>\n",
       "    <tr>\n",
       "      <th>US</th>\n",
       "      <td>133667</td>\n",
       "      <td>95850</td>\n",
       "      <td>41.761612</td>\n",
       "      <td>84.762250</td>\n",
       "    </tr>\n",
       "  </tbody>\n",
       "</table>\n",
       "</div>"
      ],
      "text/plain": [
       "                     ID                                                   \n",
       "state            failed successful country_success_rate total_success_rate\n",
       "revised_country                                                           \n",
       "AT                  223         60            21.201413           0.053059\n",
       "AU                 3737       1451            27.968389           1.283151\n",
       "BE                  250         79            24.012158           0.069861\n",
       "CA                 6834       3070            30.997577           2.714868\n",
       "CH                  303         86            22.107969           0.076052\n",
       "DE                 1617        534            24.825662           0.472228\n",
       "DK                  442        233            34.518519           0.206047\n",
       "ES                  847        242            22.222222           0.214006\n",
       "FR                 1045        512            32.883751           0.452773\n",
       "GB                14488       9354            39.233286           8.271947\n",
       "HK                   33         14            29.787234           0.012381\n",
       "IE                  339        133            28.177966           0.117615\n",
       "IT                 1162        232            16.642755           0.205163\n",
       "LU                   20         13            39.393939           0.011496\n",
       "MX                    2          2            50.000000           0.001769\n",
       "NL                 1459        410            21.936865           0.362572\n",
       "NO                  323        109            25.231481           0.096391\n",
       "NZ                  662        330            33.266129           0.291826\n",
       "SE                  731        335            31.425891           0.296248\n",
       "SG                   37         32            46.376812           0.028298\n",
       "US               133667      95850            41.761612          84.762250"
      ]
     },
     "execution_count": 336,
     "metadata": {},
     "output_type": "execute_result"
    }
   ],
   "source": [
    "df"
   ]
  },
  {
   "cell_type": "markdown",
   "metadata": {},
   "source": [
    "### Read and merge country data"
   ]
  },
  {
   "cell_type": "code",
   "execution_count": 260,
   "metadata": {
    "collapsed": false
   },
   "outputs": [
    {
     "data": {
      "text/plain": [
       "Index([u'Alpha-2 code', u'Country', u'Latitude (average)',\n",
       "       u'Longitude (average)'],\n",
       "      dtype='object')"
      ]
     },
     "execution_count": 260,
     "metadata": {},
     "output_type": "execute_result"
    }
   ],
   "source": [
    "code= pd.read_csv(\"Country_List_ISO_3166_Codes_Latitude_Longitude.csv\")\n",
    "code = code[['Alpha-2 code','Country','Latitude (average)', 'Longitude (average)']]\n",
    "code.head()\n",
    "code.columns"
   ]
  },
  {
   "cell_type": "code",
   "execution_count": 313,
   "metadata": {
    "collapsed": false
   },
   "outputs": [
    {
     "data": {
      "text/html": [
       "<div>\n",
       "<table border=\"1\" class=\"dataframe\">\n",
       "  <thead>\n",
       "    <tr style=\"text-align: right;\">\n",
       "      <th></th>\n",
       "      <th>(ID, failed)</th>\n",
       "      <th>(ID, successful)</th>\n",
       "      <th>(ID, country_success_rate)</th>\n",
       "      <th>(ID, total_success_rate)</th>\n",
       "      <th>Country</th>\n",
       "      <th>Latitude (average)</th>\n",
       "      <th>Longitude (average)</th>\n",
       "    </tr>\n",
       "    <tr>\n",
       "      <th>revised_country</th>\n",
       "      <th></th>\n",
       "      <th></th>\n",
       "      <th></th>\n",
       "      <th></th>\n",
       "      <th></th>\n",
       "      <th></th>\n",
       "      <th></th>\n",
       "    </tr>\n",
       "  </thead>\n",
       "  <tbody>\n",
       "    <tr>\n",
       "      <th>AT</th>\n",
       "      <td>223</td>\n",
       "      <td>60</td>\n",
       "      <td>21.201413</td>\n",
       "      <td>0.053059</td>\n",
       "      <td>Austria</td>\n",
       "      <td>47.3333</td>\n",
       "      <td>13.3333</td>\n",
       "    </tr>\n",
       "    <tr>\n",
       "      <th>AU</th>\n",
       "      <td>3737</td>\n",
       "      <td>1451</td>\n",
       "      <td>27.968389</td>\n",
       "      <td>1.283151</td>\n",
       "      <td>Australia</td>\n",
       "      <td>-27.0000</td>\n",
       "      <td>133.0000</td>\n",
       "    </tr>\n",
       "    <tr>\n",
       "      <th>BE</th>\n",
       "      <td>250</td>\n",
       "      <td>79</td>\n",
       "      <td>24.012158</td>\n",
       "      <td>0.069861</td>\n",
       "      <td>Belgium</td>\n",
       "      <td>50.8333</td>\n",
       "      <td>4.0000</td>\n",
       "    </tr>\n",
       "    <tr>\n",
       "      <th>CA</th>\n",
       "      <td>6834</td>\n",
       "      <td>3070</td>\n",
       "      <td>30.997577</td>\n",
       "      <td>2.714868</td>\n",
       "      <td>Canada</td>\n",
       "      <td>60.0000</td>\n",
       "      <td>-95.0000</td>\n",
       "    </tr>\n",
       "    <tr>\n",
       "      <th>CH</th>\n",
       "      <td>303</td>\n",
       "      <td>86</td>\n",
       "      <td>22.107969</td>\n",
       "      <td>0.076052</td>\n",
       "      <td>Switzerland</td>\n",
       "      <td>47.0000</td>\n",
       "      <td>8.0000</td>\n",
       "    </tr>\n",
       "    <tr>\n",
       "      <th>DE</th>\n",
       "      <td>1617</td>\n",
       "      <td>534</td>\n",
       "      <td>24.825662</td>\n",
       "      <td>0.472228</td>\n",
       "      <td>Germany</td>\n",
       "      <td>51.0000</td>\n",
       "      <td>9.0000</td>\n",
       "    </tr>\n",
       "    <tr>\n",
       "      <th>DK</th>\n",
       "      <td>442</td>\n",
       "      <td>233</td>\n",
       "      <td>34.518519</td>\n",
       "      <td>0.206047</td>\n",
       "      <td>Denmark</td>\n",
       "      <td>56.0000</td>\n",
       "      <td>10.0000</td>\n",
       "    </tr>\n",
       "    <tr>\n",
       "      <th>ES</th>\n",
       "      <td>847</td>\n",
       "      <td>242</td>\n",
       "      <td>22.222222</td>\n",
       "      <td>0.214006</td>\n",
       "      <td>Spain</td>\n",
       "      <td>40.0000</td>\n",
       "      <td>-4.0000</td>\n",
       "    </tr>\n",
       "    <tr>\n",
       "      <th>FR</th>\n",
       "      <td>1045</td>\n",
       "      <td>512</td>\n",
       "      <td>32.883751</td>\n",
       "      <td>0.452773</td>\n",
       "      <td>France</td>\n",
       "      <td>46.0000</td>\n",
       "      <td>2.0000</td>\n",
       "    </tr>\n",
       "    <tr>\n",
       "      <th>GB</th>\n",
       "      <td>14488</td>\n",
       "      <td>9354</td>\n",
       "      <td>39.233286</td>\n",
       "      <td>8.271947</td>\n",
       "      <td>United Kingdom</td>\n",
       "      <td>54.0000</td>\n",
       "      <td>-2.0000</td>\n",
       "    </tr>\n",
       "    <tr>\n",
       "      <th>HK</th>\n",
       "      <td>33</td>\n",
       "      <td>14</td>\n",
       "      <td>29.787234</td>\n",
       "      <td>0.012381</td>\n",
       "      <td>Hong Kong</td>\n",
       "      <td>22.2500</td>\n",
       "      <td>114.1667</td>\n",
       "    </tr>\n",
       "    <tr>\n",
       "      <th>IE</th>\n",
       "      <td>339</td>\n",
       "      <td>133</td>\n",
       "      <td>28.177966</td>\n",
       "      <td>0.117615</td>\n",
       "      <td>Ireland</td>\n",
       "      <td>53.0000</td>\n",
       "      <td>-8.0000</td>\n",
       "    </tr>\n",
       "    <tr>\n",
       "      <th>IT</th>\n",
       "      <td>1162</td>\n",
       "      <td>232</td>\n",
       "      <td>16.642755</td>\n",
       "      <td>0.205163</td>\n",
       "      <td>Italy</td>\n",
       "      <td>42.8333</td>\n",
       "      <td>12.8333</td>\n",
       "    </tr>\n",
       "    <tr>\n",
       "      <th>LU</th>\n",
       "      <td>20</td>\n",
       "      <td>13</td>\n",
       "      <td>39.393939</td>\n",
       "      <td>0.011496</td>\n",
       "      <td>Luxembourg</td>\n",
       "      <td>49.7500</td>\n",
       "      <td>6.1667</td>\n",
       "    </tr>\n",
       "    <tr>\n",
       "      <th>MX</th>\n",
       "      <td>2</td>\n",
       "      <td>2</td>\n",
       "      <td>50.000000</td>\n",
       "      <td>0.001769</td>\n",
       "      <td>Mexico</td>\n",
       "      <td>23.0000</td>\n",
       "      <td>-102.0000</td>\n",
       "    </tr>\n",
       "    <tr>\n",
       "      <th>NL</th>\n",
       "      <td>1459</td>\n",
       "      <td>410</td>\n",
       "      <td>21.936865</td>\n",
       "      <td>0.362572</td>\n",
       "      <td>Netherlands</td>\n",
       "      <td>52.5000</td>\n",
       "      <td>5.7500</td>\n",
       "    </tr>\n",
       "    <tr>\n",
       "      <th>NO</th>\n",
       "      <td>323</td>\n",
       "      <td>109</td>\n",
       "      <td>25.231481</td>\n",
       "      <td>0.096391</td>\n",
       "      <td>Norway</td>\n",
       "      <td>62.0000</td>\n",
       "      <td>10.0000</td>\n",
       "    </tr>\n",
       "    <tr>\n",
       "      <th>NZ</th>\n",
       "      <td>662</td>\n",
       "      <td>330</td>\n",
       "      <td>33.266129</td>\n",
       "      <td>0.291826</td>\n",
       "      <td>New Zealand</td>\n",
       "      <td>-41.0000</td>\n",
       "      <td>174.0000</td>\n",
       "    </tr>\n",
       "    <tr>\n",
       "      <th>SE</th>\n",
       "      <td>731</td>\n",
       "      <td>335</td>\n",
       "      <td>31.425891</td>\n",
       "      <td>0.296248</td>\n",
       "      <td>Sweden</td>\n",
       "      <td>62.0000</td>\n",
       "      <td>15.0000</td>\n",
       "    </tr>\n",
       "    <tr>\n",
       "      <th>SG</th>\n",
       "      <td>37</td>\n",
       "      <td>32</td>\n",
       "      <td>46.376812</td>\n",
       "      <td>0.028298</td>\n",
       "      <td>Singapore</td>\n",
       "      <td>1.3667</td>\n",
       "      <td>103.8000</td>\n",
       "    </tr>\n",
       "    <tr>\n",
       "      <th>US</th>\n",
       "      <td>133667</td>\n",
       "      <td>95850</td>\n",
       "      <td>41.761612</td>\n",
       "      <td>84.762250</td>\n",
       "      <td>United States</td>\n",
       "      <td>38.0000</td>\n",
       "      <td>-97.0000</td>\n",
       "    </tr>\n",
       "  </tbody>\n",
       "</table>\n",
       "</div>"
      ],
      "text/plain": [
       "                 (ID, failed)  (ID, successful)  (ID, country_success_rate)  \\\n",
       "revised_country                                                               \n",
       "AT                        223                60                   21.201413   \n",
       "AU                       3737              1451                   27.968389   \n",
       "BE                        250                79                   24.012158   \n",
       "CA                       6834              3070                   30.997577   \n",
       "CH                        303                86                   22.107969   \n",
       "DE                       1617               534                   24.825662   \n",
       "DK                        442               233                   34.518519   \n",
       "ES                        847               242                   22.222222   \n",
       "FR                       1045               512                   32.883751   \n",
       "GB                      14488              9354                   39.233286   \n",
       "HK                         33                14                   29.787234   \n",
       "IE                        339               133                   28.177966   \n",
       "IT                       1162               232                   16.642755   \n",
       "LU                         20                13                   39.393939   \n",
       "MX                          2                 2                   50.000000   \n",
       "NL                       1459               410                   21.936865   \n",
       "NO                        323               109                   25.231481   \n",
       "NZ                        662               330                   33.266129   \n",
       "SE                        731               335                   31.425891   \n",
       "SG                         37                32                   46.376812   \n",
       "US                     133667             95850                   41.761612   \n",
       "\n",
       "                 (ID, total_success_rate)         Country  Latitude (average)  \\\n",
       "revised_country                                                                 \n",
       "AT                               0.053059         Austria             47.3333   \n",
       "AU                               1.283151       Australia            -27.0000   \n",
       "BE                               0.069861         Belgium             50.8333   \n",
       "CA                               2.714868          Canada             60.0000   \n",
       "CH                               0.076052     Switzerland             47.0000   \n",
       "DE                               0.472228         Germany             51.0000   \n",
       "DK                               0.206047         Denmark             56.0000   \n",
       "ES                               0.214006           Spain             40.0000   \n",
       "FR                               0.452773          France             46.0000   \n",
       "GB                               8.271947  United Kingdom             54.0000   \n",
       "HK                               0.012381       Hong Kong             22.2500   \n",
       "IE                               0.117615         Ireland             53.0000   \n",
       "IT                               0.205163           Italy             42.8333   \n",
       "LU                               0.011496      Luxembourg             49.7500   \n",
       "MX                               0.001769          Mexico             23.0000   \n",
       "NL                               0.362572     Netherlands             52.5000   \n",
       "NO                               0.096391          Norway             62.0000   \n",
       "NZ                               0.291826     New Zealand            -41.0000   \n",
       "SE                               0.296248          Sweden             62.0000   \n",
       "SG                               0.028298       Singapore              1.3667   \n",
       "US                              84.762250   United States             38.0000   \n",
       "\n",
       "                 Longitude (average)  \n",
       "revised_country                       \n",
       "AT                           13.3333  \n",
       "AU                          133.0000  \n",
       "BE                            4.0000  \n",
       "CA                          -95.0000  \n",
       "CH                            8.0000  \n",
       "DE                            9.0000  \n",
       "DK                           10.0000  \n",
       "ES                           -4.0000  \n",
       "FR                            2.0000  \n",
       "GB                           -2.0000  \n",
       "HK                          114.1667  \n",
       "IE                           -8.0000  \n",
       "IT                           12.8333  \n",
       "LU                            6.1667  \n",
       "MX                         -102.0000  \n",
       "NL                            5.7500  \n",
       "NO                           10.0000  \n",
       "NZ                          174.0000  \n",
       "SE                           15.0000  \n",
       "SG                          103.8000  \n",
       "US                          -97.0000  "
      ]
     },
     "execution_count": 313,
     "metadata": {},
     "output_type": "execute_result"
    }
   ],
   "source": [
    "df2 =pd.merge(df, code, how='inner', left_index=True, right_on='Alpha-2 code').set_index(df.index)\n",
    "df2.drop('Alpha-2 code', axis=1)"
   ]
  },
  {
   "cell_type": "markdown",
   "metadata": {},
   "source": [
    "## Prepare for Logistic Regression\n",
    "\n",
    "### 1. Convert categorical features to dummy variables "
   ]
  },
  {
   "cell_type": "code",
   "execution_count": 285,
   "metadata": {
    "collapsed": false
   },
   "outputs": [
    {
     "data": {
      "text/html": [
       "<div>\n",
       "<table border=\"1\" class=\"dataframe\">\n",
       "  <thead>\n",
       "    <tr style=\"text-align: right;\">\n",
       "      <th></th>\n",
       "      <th>successful</th>\n",
       "    </tr>\n",
       "  </thead>\n",
       "  <tbody>\n",
       "    <tr>\n",
       "      <th>0</th>\n",
       "      <td>0.0</td>\n",
       "    </tr>\n",
       "    <tr>\n",
       "      <th>1</th>\n",
       "      <td>0.0</td>\n",
       "    </tr>\n",
       "    <tr>\n",
       "      <th>2</th>\n",
       "      <td>0.0</td>\n",
       "    </tr>\n",
       "    <tr>\n",
       "      <th>4</th>\n",
       "      <td>1.0</td>\n",
       "    </tr>\n",
       "    <tr>\n",
       "      <th>5</th>\n",
       "      <td>1.0</td>\n",
       "    </tr>\n",
       "  </tbody>\n",
       "</table>\n",
       "</div>"
      ],
      "text/plain": [
       "   successful\n",
       "0         0.0\n",
       "1         0.0\n",
       "2         0.0\n",
       "4         1.0\n",
       "5         1.0"
      ]
     },
     "execution_count": 285,
     "metadata": {},
     "output_type": "execute_result"
    }
   ],
   "source": [
    "results= pd.get_dummies(ks['state'], drop_first=True)\n",
    "results.head()"
   ]
  },
  {
   "cell_type": "code",
   "execution_count": 286,
   "metadata": {
    "collapsed": false
   },
   "outputs": [
    {
     "data": {
      "text/html": [
       "<div>\n",
       "<table border=\"1\" class=\"dataframe\">\n",
       "  <thead>\n",
       "    <tr style=\"text-align: right;\">\n",
       "      <th></th>\n",
       "      <th>Comics</th>\n",
       "      <th>Crafts</th>\n",
       "      <th>Dance</th>\n",
       "      <th>Design</th>\n",
       "      <th>Fashion</th>\n",
       "      <th>Film &amp; Video</th>\n",
       "      <th>Food</th>\n",
       "      <th>Games</th>\n",
       "      <th>Journalism</th>\n",
       "      <th>Music</th>\n",
       "      <th>Photography</th>\n",
       "      <th>Publishing</th>\n",
       "      <th>Technology</th>\n",
       "      <th>Theater</th>\n",
       "    </tr>\n",
       "  </thead>\n",
       "  <tbody>\n",
       "    <tr>\n",
       "      <th>0</th>\n",
       "      <td>0.0</td>\n",
       "      <td>0.0</td>\n",
       "      <td>0.0</td>\n",
       "      <td>0.0</td>\n",
       "      <td>0.0</td>\n",
       "      <td>0.0</td>\n",
       "      <td>0.0</td>\n",
       "      <td>0.0</td>\n",
       "      <td>0.0</td>\n",
       "      <td>0.0</td>\n",
       "      <td>0.0</td>\n",
       "      <td>1.0</td>\n",
       "      <td>0.0</td>\n",
       "      <td>0.0</td>\n",
       "    </tr>\n",
       "    <tr>\n",
       "      <th>1</th>\n",
       "      <td>0.0</td>\n",
       "      <td>0.0</td>\n",
       "      <td>0.0</td>\n",
       "      <td>0.0</td>\n",
       "      <td>0.0</td>\n",
       "      <td>1.0</td>\n",
       "      <td>0.0</td>\n",
       "      <td>0.0</td>\n",
       "      <td>0.0</td>\n",
       "      <td>0.0</td>\n",
       "      <td>0.0</td>\n",
       "      <td>0.0</td>\n",
       "      <td>0.0</td>\n",
       "      <td>0.0</td>\n",
       "    </tr>\n",
       "    <tr>\n",
       "      <th>2</th>\n",
       "      <td>0.0</td>\n",
       "      <td>0.0</td>\n",
       "      <td>0.0</td>\n",
       "      <td>0.0</td>\n",
       "      <td>0.0</td>\n",
       "      <td>0.0</td>\n",
       "      <td>0.0</td>\n",
       "      <td>0.0</td>\n",
       "      <td>0.0</td>\n",
       "      <td>1.0</td>\n",
       "      <td>0.0</td>\n",
       "      <td>0.0</td>\n",
       "      <td>0.0</td>\n",
       "      <td>0.0</td>\n",
       "    </tr>\n",
       "    <tr>\n",
       "      <th>4</th>\n",
       "      <td>0.0</td>\n",
       "      <td>0.0</td>\n",
       "      <td>0.0</td>\n",
       "      <td>0.0</td>\n",
       "      <td>0.0</td>\n",
       "      <td>0.0</td>\n",
       "      <td>1.0</td>\n",
       "      <td>0.0</td>\n",
       "      <td>0.0</td>\n",
       "      <td>0.0</td>\n",
       "      <td>0.0</td>\n",
       "      <td>0.0</td>\n",
       "      <td>0.0</td>\n",
       "      <td>0.0</td>\n",
       "    </tr>\n",
       "    <tr>\n",
       "      <th>5</th>\n",
       "      <td>0.0</td>\n",
       "      <td>0.0</td>\n",
       "      <td>0.0</td>\n",
       "      <td>0.0</td>\n",
       "      <td>0.0</td>\n",
       "      <td>0.0</td>\n",
       "      <td>1.0</td>\n",
       "      <td>0.0</td>\n",
       "      <td>0.0</td>\n",
       "      <td>0.0</td>\n",
       "      <td>0.0</td>\n",
       "      <td>0.0</td>\n",
       "      <td>0.0</td>\n",
       "      <td>0.0</td>\n",
       "    </tr>\n",
       "  </tbody>\n",
       "</table>\n",
       "</div>"
      ],
      "text/plain": [
       "   Comics  Crafts  Dance  Design  Fashion  Film & Video  Food  Games  \\\n",
       "0     0.0     0.0    0.0     0.0      0.0           0.0   0.0    0.0   \n",
       "1     0.0     0.0    0.0     0.0      0.0           1.0   0.0    0.0   \n",
       "2     0.0     0.0    0.0     0.0      0.0           0.0   0.0    0.0   \n",
       "4     0.0     0.0    0.0     0.0      0.0           0.0   1.0    0.0   \n",
       "5     0.0     0.0    0.0     0.0      0.0           0.0   1.0    0.0   \n",
       "\n",
       "   Journalism  Music  Photography  Publishing  Technology  Theater  \n",
       "0         0.0    0.0          0.0         1.0         0.0      0.0  \n",
       "1         0.0    0.0          0.0         0.0         0.0      0.0  \n",
       "2         0.0    1.0          0.0         0.0         0.0      0.0  \n",
       "4         0.0    0.0          0.0         0.0         0.0      0.0  \n",
       "5         0.0    0.0          0.0         0.0         0.0      0.0  "
      ]
     },
     "execution_count": 286,
     "metadata": {},
     "output_type": "execute_result"
    }
   ],
   "source": [
    "cat = pd.get_dummies(ks['main_category'], drop_first=True)\n",
    "cat.head()"
   ]
  },
  {
   "cell_type": "code",
   "execution_count": 291,
   "metadata": {
    "collapsed": false
   },
   "outputs": [
    {
     "data": {
      "text/html": [
       "<div>\n",
       "<table border=\"1\" class=\"dataframe\">\n",
       "  <thead>\n",
       "    <tr style=\"text-align: right;\">\n",
       "      <th></th>\n",
       "      <th>AU</th>\n",
       "      <th>BE</th>\n",
       "      <th>CA</th>\n",
       "      <th>CH</th>\n",
       "      <th>DE</th>\n",
       "      <th>DK</th>\n",
       "      <th>ES</th>\n",
       "      <th>FR</th>\n",
       "      <th>GB</th>\n",
       "      <th>HK</th>\n",
       "      <th>IE</th>\n",
       "      <th>IT</th>\n",
       "      <th>LU</th>\n",
       "      <th>MX</th>\n",
       "      <th>NL</th>\n",
       "      <th>NO</th>\n",
       "      <th>NZ</th>\n",
       "      <th>SE</th>\n",
       "      <th>SG</th>\n",
       "      <th>US</th>\n",
       "    </tr>\n",
       "  </thead>\n",
       "  <tbody>\n",
       "    <tr>\n",
       "      <th>0</th>\n",
       "      <td>0.0</td>\n",
       "      <td>0.0</td>\n",
       "      <td>0.0</td>\n",
       "      <td>0.0</td>\n",
       "      <td>0.0</td>\n",
       "      <td>0.0</td>\n",
       "      <td>0.0</td>\n",
       "      <td>0.0</td>\n",
       "      <td>1.0</td>\n",
       "      <td>0.0</td>\n",
       "      <td>0.0</td>\n",
       "      <td>0.0</td>\n",
       "      <td>0.0</td>\n",
       "      <td>0.0</td>\n",
       "      <td>0.0</td>\n",
       "      <td>0.0</td>\n",
       "      <td>0.0</td>\n",
       "      <td>0.0</td>\n",
       "      <td>0.0</td>\n",
       "      <td>0.0</td>\n",
       "    </tr>\n",
       "    <tr>\n",
       "      <th>1</th>\n",
       "      <td>0.0</td>\n",
       "      <td>0.0</td>\n",
       "      <td>0.0</td>\n",
       "      <td>0.0</td>\n",
       "      <td>0.0</td>\n",
       "      <td>0.0</td>\n",
       "      <td>0.0</td>\n",
       "      <td>0.0</td>\n",
       "      <td>0.0</td>\n",
       "      <td>0.0</td>\n",
       "      <td>0.0</td>\n",
       "      <td>0.0</td>\n",
       "      <td>0.0</td>\n",
       "      <td>0.0</td>\n",
       "      <td>0.0</td>\n",
       "      <td>0.0</td>\n",
       "      <td>0.0</td>\n",
       "      <td>0.0</td>\n",
       "      <td>0.0</td>\n",
       "      <td>1.0</td>\n",
       "    </tr>\n",
       "  </tbody>\n",
       "</table>\n",
       "</div>"
      ],
      "text/plain": [
       "    AU   BE   CA   CH   DE   DK   ES   FR   GB   HK   IE   IT   LU   MX   NL  \\\n",
       "0  0.0  0.0  0.0  0.0  0.0  0.0  0.0  0.0  1.0  0.0  0.0  0.0  0.0  0.0  0.0   \n",
       "1  0.0  0.0  0.0  0.0  0.0  0.0  0.0  0.0  0.0  0.0  0.0  0.0  0.0  0.0  0.0   \n",
       "\n",
       "    NO   NZ   SE   SG   US  \n",
       "0  0.0  0.0  0.0  0.0  0.0  \n",
       "1  0.0  0.0  0.0  0.0  1.0  "
      ]
     },
     "execution_count": 291,
     "metadata": {},
     "output_type": "execute_result"
    }
   ],
   "source": [
    "country = pd.get_dummies(ks['revised_country'], drop_first=True)\n",
    "country.head(2)"
   ]
  },
  {
   "cell_type": "markdown",
   "metadata": {},
   "source": [
    "### 2. Combine variables necessary for the model"
   ]
  },
  {
   "cell_type": "code",
   "execution_count": 297,
   "metadata": {
    "collapsed": false
   },
   "outputs": [
    {
     "data": {
      "text/plain": [
       "(281302, 38)"
      ]
     },
     "execution_count": 297,
     "metadata": {},
     "output_type": "execute_result"
    }
   ],
   "source": [
    "model= ks[['usd_goal', 'usd pledged', 'backers']]\n",
    "model = pd.concat([model, results, cat, country], axis=1)\n",
    "model.shape"
   ]
  },
  {
   "cell_type": "code",
   "execution_count": 296,
   "metadata": {
    "collapsed": false
   },
   "outputs": [
    {
     "data": {
      "text/html": [
       "<div>\n",
       "<table border=\"1\" class=\"dataframe\">\n",
       "  <thead>\n",
       "    <tr style=\"text-align: right;\">\n",
       "      <th></th>\n",
       "      <th>usd_goal</th>\n",
       "      <th>usd pledged</th>\n",
       "      <th>backers</th>\n",
       "      <th>successful</th>\n",
       "      <th>Comics</th>\n",
       "      <th>Crafts</th>\n",
       "      <th>Dance</th>\n",
       "      <th>Design</th>\n",
       "      <th>Fashion</th>\n",
       "      <th>Film &amp; Video</th>\n",
       "      <th>...</th>\n",
       "      <th>IE</th>\n",
       "      <th>IT</th>\n",
       "      <th>LU</th>\n",
       "      <th>MX</th>\n",
       "      <th>NL</th>\n",
       "      <th>NO</th>\n",
       "      <th>NZ</th>\n",
       "      <th>SE</th>\n",
       "      <th>SG</th>\n",
       "      <th>US</th>\n",
       "    </tr>\n",
       "  </thead>\n",
       "  <tbody>\n",
       "    <tr>\n",
       "      <th>0</th>\n",
       "      <td>1420.0</td>\n",
       "      <td>0.0</td>\n",
       "      <td>0.0</td>\n",
       "      <td>0.0</td>\n",
       "      <td>0.0</td>\n",
       "      <td>0.0</td>\n",
       "      <td>0.0</td>\n",
       "      <td>0.0</td>\n",
       "      <td>0.0</td>\n",
       "      <td>0.0</td>\n",
       "      <td>...</td>\n",
       "      <td>0.0</td>\n",
       "      <td>0.0</td>\n",
       "      <td>0.0</td>\n",
       "      <td>0.0</td>\n",
       "      <td>0.0</td>\n",
       "      <td>0.0</td>\n",
       "      <td>0.0</td>\n",
       "      <td>0.0</td>\n",
       "      <td>0.0</td>\n",
       "      <td>0.0</td>\n",
       "    </tr>\n",
       "    <tr>\n",
       "      <th>1</th>\n",
       "      <td>45000.0</td>\n",
       "      <td>220.0</td>\n",
       "      <td>3.0</td>\n",
       "      <td>0.0</td>\n",
       "      <td>0.0</td>\n",
       "      <td>0.0</td>\n",
       "      <td>0.0</td>\n",
       "      <td>0.0</td>\n",
       "      <td>0.0</td>\n",
       "      <td>1.0</td>\n",
       "      <td>...</td>\n",
       "      <td>0.0</td>\n",
       "      <td>0.0</td>\n",
       "      <td>0.0</td>\n",
       "      <td>0.0</td>\n",
       "      <td>0.0</td>\n",
       "      <td>0.0</td>\n",
       "      <td>0.0</td>\n",
       "      <td>0.0</td>\n",
       "      <td>0.0</td>\n",
       "      <td>1.0</td>\n",
       "    </tr>\n",
       "  </tbody>\n",
       "</table>\n",
       "<p>2 rows × 38 columns</p>\n",
       "</div>"
      ],
      "text/plain": [
       "   usd_goal  usd pledged  backers  successful  Comics  Crafts  Dance  Design  \\\n",
       "0    1420.0          0.0      0.0         0.0     0.0     0.0    0.0     0.0   \n",
       "1   45000.0        220.0      3.0         0.0     0.0     0.0    0.0     0.0   \n",
       "\n",
       "   Fashion  Film & Video ...    IE   IT   LU   MX   NL   NO   NZ   SE   SG  \\\n",
       "0      0.0           0.0 ...   0.0  0.0  0.0  0.0  0.0  0.0  0.0  0.0  0.0   \n",
       "1      0.0           1.0 ...   0.0  0.0  0.0  0.0  0.0  0.0  0.0  0.0  0.0   \n",
       "\n",
       "    US  \n",
       "0  0.0  \n",
       "1  1.0  \n",
       "\n",
       "[2 rows x 38 columns]"
      ]
     },
     "execution_count": 296,
     "metadata": {},
     "output_type": "execute_result"
    }
   ],
   "source": [
    "model.head(2)"
   ]
  },
  {
   "cell_type": "code",
   "execution_count": 298,
   "metadata": {
    "collapsed": true
   },
   "outputs": [],
   "source": [
    "X= model.drop('successful', axis=1)\n",
    "y= model['successful']"
   ]
  },
  {
   "cell_type": "markdown",
   "metadata": {},
   "source": [
    "### 3. Split data to train/test sets"
   ]
  },
  {
   "cell_type": "code",
   "execution_count": 299,
   "metadata": {
    "collapsed": true
   },
   "outputs": [],
   "source": [
    "from sklearn.cross_validation import train_test_split"
   ]
  },
  {
   "cell_type": "code",
   "execution_count": 300,
   "metadata": {
    "collapsed": true
   },
   "outputs": [],
   "source": [
    "X_train, X_test, y_train, y_test = train_test_split(X, y, test_size=.3, random_state=101)"
   ]
  },
  {
   "cell_type": "markdown",
   "metadata": {},
   "source": [
    "### 4. Build, fit, predict model"
   ]
  },
  {
   "cell_type": "code",
   "execution_count": 301,
   "metadata": {
    "collapsed": true
   },
   "outputs": [],
   "source": [
    "from sklearn.linear_model import LogisticRegression"
   ]
  },
  {
   "cell_type": "code",
   "execution_count": 303,
   "metadata": {
    "collapsed": false
   },
   "outputs": [],
   "source": [
    "log= LogisticRegression()"
   ]
  },
  {
   "cell_type": "code",
   "execution_count": 304,
   "metadata": {
    "collapsed": false
   },
   "outputs": [
    {
     "data": {
      "text/plain": [
       "LogisticRegression(C=1.0, class_weight=None, dual=False, fit_intercept=True,\n",
       "          intercept_scaling=1, max_iter=100, multi_class='ovr', n_jobs=1,\n",
       "          penalty='l2', random_state=None, solver='liblinear', tol=0.0001,\n",
       "          verbose=0, warm_start=False)"
      ]
     },
     "execution_count": 304,
     "metadata": {},
     "output_type": "execute_result"
    }
   ],
   "source": [
    "log.fit(X_train, y_train)"
   ]
  },
  {
   "cell_type": "code",
   "execution_count": 305,
   "metadata": {
    "collapsed": true
   },
   "outputs": [],
   "source": [
    "predictions= log.predict(X_test)"
   ]
  },
  {
   "cell_type": "markdown",
   "metadata": {},
   "source": [
    "### 5. Review model accuracy : classification report and confusion matrix"
   ]
  },
  {
   "cell_type": "code",
   "execution_count": 306,
   "metadata": {
    "collapsed": true
   },
   "outputs": [],
   "source": [
    "from sklearn.metrics import classification_report"
   ]
  },
  {
   "cell_type": "code",
   "execution_count": 308,
   "metadata": {
    "collapsed": false
   },
   "outputs": [
    {
     "name": "stdout",
     "output_type": "stream",
     "text": [
      "             precision    recall  f1-score   support\n",
      "\n",
      "        0.0       0.98      0.96      0.97     50281\n",
      "        1.0       0.95      0.98      0.96     34110\n",
      "\n",
      "avg / total       0.97      0.97      0.97     84391\n",
      "\n"
     ]
    }
   ],
   "source": [
    "print(classification_report(y_test, predictions))"
   ]
  },
  {
   "cell_type": "code",
   "execution_count": 309,
   "metadata": {
    "collapsed": true
   },
   "outputs": [],
   "source": [
    "from sklearn.metrics import confusion_matrix"
   ]
  },
  {
   "cell_type": "code",
   "execution_count": 310,
   "metadata": {
    "collapsed": false
   },
   "outputs": [
    {
     "data": {
      "text/plain": [
       "array([[48378,  1903],\n",
       "       [  759, 33351]])"
      ]
     },
     "execution_count": 310,
     "metadata": {},
     "output_type": "execute_result"
    }
   ],
   "source": [
    "confusion_matrix(y_test, predictions)"
   ]
  }
 ],
 "metadata": {
  "anaconda-cloud": {},
  "kernelspec": {
   "display_name": "Python [Root]",
   "language": "python",
   "name": "Python [Root]"
  },
  "language_info": {
   "codemirror_mode": {
    "name": "ipython",
    "version": 2
   },
   "file_extension": ".py",
   "mimetype": "text/x-python",
   "name": "python",
   "nbconvert_exporter": "python",
   "pygments_lexer": "ipython2",
   "version": "2.7.12"
  }
 },
 "nbformat": 4,
 "nbformat_minor": 0
}
