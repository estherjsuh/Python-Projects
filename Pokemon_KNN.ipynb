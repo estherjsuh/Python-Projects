{
 "cells": [
  {
   "cell_type": "markdown",
   "metadata": {
    "_cell_guid": "a179711d-9d1d-46a4-9433-442043f6f292",
    "_uuid": "27ca109a5472f9d5486ba05b0d6bbcbc59cfe837"
   },
   "source": [
    "# Pokémon : K Nearest Neighbors \n",
    "## Gotta catch em all!\n",
    "\n",
    "### - Esther\n",
    "\n",
    "\n",
    "#### Data :\n",
    "link: https://www.kaggle.com/abcsds/pokemon\n",
    "* **Name** Name of the Pokemon\n",
    "* **Type 1** First ability\n",
    "* **Type 2** Second ability\n",
    "* **Total** Sum of all power points\n",
    "* **HP** Health Points\n",
    "* **Attack** Attack points\n",
    "* **Defense** Defense points\n",
    "* **Sp. Atk** Speed points on attack\n",
    "* **Sp. Def** Speed points on defense\n",
    "* **Speed** Speed points\n",
    "* **Generation** Number of generation (1-6)\n",
    "* **Legendary** True/False \n",
    "\n",
    "\n",
    "#### Objective :\n",
    "* Exploratory data analysis on Pokémons\n",
    "    * Pokémon type\n",
    "    * Legendary vs Non-Legendary\n",
    "    * Power (HP, Attack, Defense, Sp. Atk, Sp. Def, Speed) range per Generation\n",
    "* K-Nearest Neighbors (KNN) model using power variables to classify between Legendary vs. Non-Legendary Pokémon\n",
    "\n"
   ]
  },
  {
   "cell_type": "markdown",
   "metadata": {
    "_cell_guid": "a60b17e1-62f7-4178-b278-71fe8d33e545",
    "_uuid": "f3dc482a7bae6fa3d18c5c0c81eda3acc702973e"
   },
   "source": [
    "**Import Data**"
   ]
  },
  {
   "cell_type": "code",
   "execution_count": 1,
   "metadata": {
    "_cell_guid": "79c7e3d0-c299-4dcb-8224-4455121ee9b0",
    "_uuid": "d629ff2d2480ee46fbb7e2d37f6b5fab8052498a",
    "collapsed": true
   },
   "outputs": [],
   "source": [
    "import pandas as pd\n",
    "import numpy as np\n",
    "import matplotlib.pyplot as plt\n",
    "import seaborn as sns\n",
    "%matplotlib inline"
   ]
  },
  {
   "cell_type": "code",
   "execution_count": 2,
   "metadata": {
    "_cell_guid": "09496b6c-2191-4eaf-9ed4-a73db16b8e1d",
    "_uuid": "732523f23a25d3096710bfc439552cc2942a3301",
    "collapsed": true
   },
   "outputs": [],
   "source": [
    "pkmn = pd.read_csv(\"../input/Pokemon.csv\", index_col=0)"
   ]
  },
  {
   "cell_type": "code",
   "execution_count": 3,
   "metadata": {
    "_cell_guid": "f789b743-2cb1-412a-a25d-8955c4eae4ba",
    "_uuid": "8d725eac42eb93cb270faa9c226bc03132ecc887",
    "collapsed": false
   },
   "outputs": [
    {
     "data": {
      "text/plain": [
       "(800, 12)"
      ]
     },
     "execution_count": 3,
     "metadata": {},
     "output_type": "execute_result"
    }
   ],
   "source": [
    "pkmn.shape"
   ]
  },
  {
   "cell_type": "code",
   "execution_count": 4,
   "metadata": {
    "_cell_guid": "f08a27c3-9060-48ca-8a75-5fc79c9b0e85",
    "_uuid": "bd165a29d0628429d7abc47fd27047eb7e07991d",
    "collapsed": false
   },
   "outputs": [
    {
     "data": {
      "text/plain": [
       "Index(['Name', 'Type 1', 'Type 2', 'Total', 'HP', 'Attack', 'Defense',\n",
       "       'Sp. Atk', 'Sp. Def', 'Speed', 'Generation', 'Legendary'],\n",
       "      dtype='object')"
      ]
     },
     "execution_count": 4,
     "metadata": {},
     "output_type": "execute_result"
    }
   ],
   "source": [
    "pkmn.columns"
   ]
  },
  {
   "cell_type": "code",
   "execution_count": 6,
   "metadata": {
    "_cell_guid": "debd2859-db22-4773-992e-46e5c756ace0",
    "_uuid": "938113016a3a9423e0fc168e37f6bcc19e139043",
    "collapsed": false
   },
   "outputs": [
    {
     "data": {
      "text/plain": [
       "Name            0\n",
       "Type 1          0\n",
       "Type 2        386\n",
       "Total           0\n",
       "HP              0\n",
       "Attack          0\n",
       "Defense         0\n",
       "Sp. Atk         0\n",
       "Sp. Def         0\n",
       "Speed           0\n",
       "Generation      0\n",
       "Legendary       0\n",
       "dtype: int64"
      ]
     },
     "execution_count": 6,
     "metadata": {},
     "output_type": "execute_result"
    }
   ],
   "source": [
    "pkmn.isnull().sum()"
   ]
  },
  {
   "cell_type": "code",
   "execution_count": 7,
   "metadata": {
    "_cell_guid": "947a5d63-82d1-40e0-8b87-0d23bcb09e3f",
    "_uuid": "7cf2b6bc11425737abf975ccc19888b3f805fed2",
    "collapsed": false
   },
   "outputs": [
    {
     "data": {
      "text/plain": [
       "Text(0,0.5,'type')"
      ]
     },
     "execution_count": 7,
     "metadata": {},
     "output_type": "execute_result"
    },
    {
     "data": {
      "image/png": "[encoded data removed]",
      "text/plain": [
       "<matplotlib.figure.Figure at 0x7fb786d89160>"
      ]
     },
     "metadata": {},
     "output_type": "display_data"
    }
   ],
   "source": [
    "sns.set_style('darkgrid')\n",
    "plt.figure(figsize=(10,8))\n",
    "pkmn['Type 1'].value_counts().plot.barh(width=.9).set_title('Pokémon Type', fontsize=14)\n",
    "plt.xlabel('counts', fontsize=12)\n",
    "plt.ylabel('type', fontsize=12)"
   ]
  },
  {
   "cell_type": "markdown",
   "metadata": {
    "_cell_guid": "af965186-a2a6-48f1-8964-3748361e0ea9",
    "_uuid": "0db9b5ec1eb78797b41a8d2a5e92398f85ae91ae"
   },
   "source": [
    "**Legendary Pokémon by Type**"
   ]
  },
  {
   "cell_type": "code",
   "execution_count": 10,
   "metadata": {
    "_uuid": "1a08eff7cafd06df1160e087c8738ca9070d16cf",
    "collapsed": false
   },
   "outputs": [
    {
     "data": {
      "text/plain": [
       "False    735\n",
       "True      65\n",
       "Name: Legendary, dtype: int64"
      ]
     },
     "execution_count": 10,
     "metadata": {},
     "output_type": "execute_result"
    }
   ],
   "source": [
    "pkmn['Legendary'].value_counts()\n",
    "# 65 Legendary pokemons"
   ]
  },
  {
   "cell_type": "code",
   "execution_count": 11,
   "metadata": {
    "_cell_guid": "2b8e9a83-2fc0-4071-8760-aa43bf631cc2",
    "_uuid": "8e83bdcb93287b421561f7aa57b353f9d440d1f4",
    "collapsed": false
   },
   "outputs": [
    {
     "data": {
      "text/plain": [
       "Psychic     14\n",
       "Dragon      12\n",
       "Fire         5\n",
       "Water        4\n",
       "Steel        4\n",
       "Electric     4\n",
       "Rock         4\n",
       "Ground       4\n",
       "Grass        3\n",
       "Ghost        2\n",
       "Ice          2\n",
       "Dark         2\n",
       "Normal       2\n",
       "Flying       2\n",
       "Fairy        1\n",
       "Name: Type 1, dtype: int64"
      ]
     },
     "execution_count": 11,
     "metadata": {},
     "output_type": "execute_result"
    }
   ],
   "source": [
    "pkmn[pkmn['Legendary']==True]['Type 1'].value_counts()"
   ]
  },
  {
   "cell_type": "markdown",
   "metadata": {
    "_uuid": "d3ee601f3c3a9a5d4dfb7b9447bc2d6008f55a7c"
   },
   "source": [
    "**Generations of Pokémon**"
   ]
  },
  {
   "cell_type": "code",
   "execution_count": 12,
   "metadata": {
    "_cell_guid": "9ee91cd8-7601-4ce5-8ef1-df4871b23ff9",
    "_uuid": "8b3bc51c4a75b24be70c1a8b58762f4eeac1132d",
    "collapsed": false
   },
   "outputs": [
    {
     "data": {
      "text/plain": [
       "1    166\n",
       "5    165\n",
       "3    160\n",
       "4    121\n",
       "2    106\n",
       "6     82\n",
       "Name: Generation, dtype: int64"
      ]
     },
     "execution_count": 12,
     "metadata": {},
     "output_type": "execute_result"
    }
   ],
   "source": [
    "pkmn['Generation'].value_counts()"
   ]
  },
  {
   "cell_type": "code",
   "execution_count": 13,
   "metadata": {
    "_cell_guid": "36db126b-8d50-4cbd-b916-765803ded9fa",
    "_uuid": "7bbbca75ad48833e14694580156075b234ab7c17",
    "collapsed": true
   },
   "outputs": [],
   "source": [
    "pkmn2= pkmn.drop(['Total', 'Legendary'], axis=1)"
   ]
  },
  {
   "cell_type": "markdown",
   "metadata": {
    "_cell_guid": "142a4219-8983-463f-83fe-69b2bd9d3e6d",
    "_uuid": "a64edc1bc811426988bb16b3703359010d730cff"
   },
   "source": [
    "**Boxplot of powers per Generations 1-6**"
   ]
  },
  {
   "cell_type": "code",
   "execution_count": 17,
   "metadata": {
    "_cell_guid": "380274a9-aa0b-4d83-8b10-19009a1dfd79",
    "_uuid": "dad0d8412efa817132a581845addb9d0d8e2cf1b",
    "collapsed": false
   },
   "outputs": [
    {
     "data": {
      "text/plain": [
       "1         AxesSubplot(0.1,0.679412;0.363636x0.220588)\n",
       "2    AxesSubplot(0.536364,0.679412;0.363636x0.220588)\n",
       "3         AxesSubplot(0.1,0.414706;0.363636x0.220588)\n",
       "4    AxesSubplot(0.536364,0.414706;0.363636x0.220588)\n",
       "5             AxesSubplot(0.1,0.15;0.363636x0.220588)\n",
       "6        AxesSubplot(0.536364,0.15;0.363636x0.220588)\n",
       "dtype: object"
      ]
     },
     "execution_count": 17,
     "metadata": {},
     "output_type": "execute_result"
    },
    {
     "data": {
      "image/png": "[encoded data removed]",
      "text/plain": [
       "<matplotlib.figure.Figure at 0x7fb7826ee550>"
      ]
     },
     "metadata": {},
     "output_type": "display_data"
    }
   ],
   "source": [
    "pkmn2.groupby('Generation').boxplot(figsize=(16,10))"
   ]
  },
  {
   "cell_type": "markdown",
   "metadata": {
    "_cell_guid": "e5cf4833-877c-4b44-9d0d-cb0591d23ee4",
    "_uuid": "221326ac0cc75cdd760c3fb7292f51e8308a23d7"
   },
   "source": [
    "**Get data ready for KNN**\n",
    "\n",
    "* Remove object dtypes: Name, Type 1, Type 2\n",
    "* Remove 'Total' column since it totals power points that are variables in the data"
   ]
  },
  {
   "cell_type": "code",
   "execution_count": 18,
   "metadata": {
    "_cell_guid": "67bcca2a-4232-404a-8fe5-765d8a3450b0",
    "_uuid": "b924e2b888e63699245147b98eef35b9313e21c5",
    "collapsed": true
   },
   "outputs": [],
   "source": [
    "pkmn_knn= pkmn.copy()\n",
    "pkmn_knn.drop(['Name','Type 1', 'Type 2', 'Total'],axis=1, inplace=True)"
   ]
  },
  {
   "cell_type": "code",
   "execution_count": 19,
   "metadata": {
    "_cell_guid": "ff904687-85d3-4609-9dcf-60cf9f9bbcb1",
    "_uuid": "0b00dfe29a271f00da0eb8911be3e982a3be3148",
    "collapsed": false
   },
   "outputs": [
    {
     "data": {
      "text/html": [
       "<div>\n",
       "<style scoped>\n",
       "    .dataframe tbody tr th:only-of-type {\n",
       "        vertical-align: middle;\n",
       "    }\n",
       "\n",
       "    .dataframe tbody tr th {\n",
       "        vertical-align: top;\n",
       "    }\n",
       "\n",
       "    .dataframe thead th {\n",
       "        text-align: right;\n",
       "    }\n",
       "</style>\n",
       "<table border=\"1\" class=\"dataframe\">\n",
       "  <thead>\n",
       "    <tr style=\"text-align: right;\">\n",
       "      <th></th>\n",
       "      <th>HP</th>\n",
       "      <th>Attack</th>\n",
       "      <th>Defense</th>\n",
       "      <th>Sp. Atk</th>\n",
       "      <th>Sp. Def</th>\n",
       "      <th>Speed</th>\n",
       "      <th>Generation</th>\n",
       "      <th>Legendary</th>\n",
       "    </tr>\n",
       "    <tr>\n",
       "      <th>#</th>\n",
       "      <th></th>\n",
       "      <th></th>\n",
       "      <th></th>\n",
       "      <th></th>\n",
       "      <th></th>\n",
       "      <th></th>\n",
       "      <th></th>\n",
       "      <th></th>\n",
       "    </tr>\n",
       "  </thead>\n",
       "  <tbody>\n",
       "    <tr>\n",
       "      <th>1</th>\n",
       "      <td>45</td>\n",
       "      <td>49</td>\n",
       "      <td>49</td>\n",
       "      <td>65</td>\n",
       "      <td>65</td>\n",
       "      <td>45</td>\n",
       "      <td>1</td>\n",
       "      <td>False</td>\n",
       "    </tr>\n",
       "    <tr>\n",
       "      <th>2</th>\n",
       "      <td>60</td>\n",
       "      <td>62</td>\n",
       "      <td>63</td>\n",
       "      <td>80</td>\n",
       "      <td>80</td>\n",
       "      <td>60</td>\n",
       "      <td>1</td>\n",
       "      <td>False</td>\n",
       "    </tr>\n",
       "    <tr>\n",
       "      <th>3</th>\n",
       "      <td>80</td>\n",
       "      <td>82</td>\n",
       "      <td>83</td>\n",
       "      <td>100</td>\n",
       "      <td>100</td>\n",
       "      <td>80</td>\n",
       "      <td>1</td>\n",
       "      <td>False</td>\n",
       "    </tr>\n",
       "    <tr>\n",
       "      <th>3</th>\n",
       "      <td>80</td>\n",
       "      <td>100</td>\n",
       "      <td>123</td>\n",
       "      <td>122</td>\n",
       "      <td>120</td>\n",
       "      <td>80</td>\n",
       "      <td>1</td>\n",
       "      <td>False</td>\n",
       "    </tr>\n",
       "    <tr>\n",
       "      <th>4</th>\n",
       "      <td>39</td>\n",
       "      <td>52</td>\n",
       "      <td>43</td>\n",
       "      <td>60</td>\n",
       "      <td>50</td>\n",
       "      <td>65</td>\n",
       "      <td>1</td>\n",
       "      <td>False</td>\n",
       "    </tr>\n",
       "  </tbody>\n",
       "</table>\n",
       "</div>"
      ],
      "text/plain": [
       "   HP  Attack  Defense  Sp. Atk  Sp. Def  Speed  Generation  Legendary\n",
       "#                                                                     \n",
       "1  45      49       49       65       65     45           1      False\n",
       "2  60      62       63       80       80     60           1      False\n",
       "3  80      82       83      100      100     80           1      False\n",
       "3  80     100      123      122      120     80           1      False\n",
       "4  39      52       43       60       50     65           1      False"
      ]
     },
     "execution_count": 19,
     "metadata": {},
     "output_type": "execute_result"
    }
   ],
   "source": [
    "pkmn_knn.head()"
   ]
  },
  {
   "cell_type": "code",
   "execution_count": 20,
   "metadata": {
    "_cell_guid": "d0f4d876-e69a-4a23-9baf-e0d629ee409f",
    "_uuid": "8c7214968e91468f992b39ba4fd308f19bb51a22",
    "collapsed": false
   },
   "outputs": [
    {
     "data": {
      "text/plain": [
       "HP            int64\n",
       "Attack        int64\n",
       "Defense       int64\n",
       "Sp. Atk       int64\n",
       "Sp. Def       int64\n",
       "Speed         int64\n",
       "Generation    int64\n",
       "Legendary      bool\n",
       "dtype: object"
      ]
     },
     "execution_count": 20,
     "metadata": {},
     "output_type": "execute_result"
    }
   ],
   "source": [
    "pkmn_knn.dtypes"
   ]
  },
  {
   "cell_type": "code",
   "execution_count": 21,
   "metadata": {
    "_cell_guid": "e8b68140-0fd4-4cb9-a53f-19d0b68c2cb8",
    "_uuid": "e585aaedd134ab5c19336bf4acb3dbb00b288847",
    "collapsed": true
   },
   "outputs": [],
   "source": [
    "pkmn_knn['Legendary'] = pkmn_knn['Legendary'].astype(int)"
   ]
  },
  {
   "cell_type": "markdown",
   "metadata": {
    "_cell_guid": "35fcf812-3e40-4737-8a80-0195823c8de1",
    "_uuid": "00e3bfdd6e5b94fc7648f6ec7f460670fa734200"
   },
   "source": [
    "** Standardize data**"
   ]
  },
  {
   "cell_type": "code",
   "execution_count": 22,
   "metadata": {
    "_cell_guid": "484c0cd6-6a4c-4d8a-89b2-b25699b1d96a",
    "_uuid": "dbd9ac2ab311c7ac12e0c9ec23ec77be7ad96edc",
    "collapsed": true
   },
   "outputs": [],
   "source": [
    "from sklearn.preprocessing import StandardScaler\n",
    "scaler= StandardScaler()\n",
    "scaler.fit(pkmn_knn.drop('Legendary', axis=1))\n",
    "scaled_data= scaler.transform(pkmn_knn.drop('Legendary', axis=1))\n",
    "scaled= pd.DataFrame(scaled_data, columns=pkmn_knn.columns[:-1])"
   ]
  },
  {
   "cell_type": "code",
   "execution_count": 23,
   "metadata": {
    "_cell_guid": "658ed246-bd8d-478d-8104-3bbfdc7dadf9",
    "_uuid": "b5256659c2ff8e91168324bd02a2f3e69922d6a0",
    "collapsed": true
   },
   "outputs": [],
   "source": [
    "X= scaled\n",
    "y= pkmn_knn['Legendary']"
   ]
  },
  {
   "cell_type": "markdown",
   "metadata": {
    "_uuid": "1bcae7ea83d5d45de160f49cf4fce88bc8f0ba19"
   },
   "source": [
    "**Train Test Split Data for KNN**"
   ]
  },
  {
   "cell_type": "code",
   "execution_count": 24,
   "metadata": {
    "_cell_guid": "29869d9d-e972-489d-989a-2b4aab0928f9",
    "_uuid": "e8cf44c08f78afb6421805766d58c594a564ca99",
    "collapsed": false
   },
   "outputs": [
    {
     "name": "stderr",
     "output_type": "stream",
     "text": [
      "/opt/conda/lib/python3.6/site-packages/sklearn/cross_validation.py:41: DeprecationWarning: This module was deprecated in version 0.18 in favor of the model_selection module into which all the refactored classes and functions are moved. Also note that the interface of the new CV iterators are different from that of this module. This module will be removed in 0.20.\n",
      "  \"This module will be removed in 0.20.\", DeprecationWarning)\n"
     ]
    }
   ],
   "source": [
    "from sklearn.cross_validation import train_test_split"
   ]
  },
  {
   "cell_type": "code",
   "execution_count": 25,
   "metadata": {
    "_cell_guid": "86a1b45d-5318-4661-b630-9b3e20cdcda6",
    "_uuid": "48bbbaa7c759be614d9f27c040c2deadf8a54a84",
    "collapsed": true
   },
   "outputs": [],
   "source": [
    "X_train, X_test, y_train, y_test = train_test_split(X, y, test_size=.3, random_state=88)"
   ]
  },
  {
   "cell_type": "markdown",
   "metadata": {
    "_uuid": "fa05bf488838bf1ce769a073ec37312be6342340"
   },
   "source": [
    "**Import KNN with sklearn library**"
   ]
  },
  {
   "cell_type": "code",
   "execution_count": 26,
   "metadata": {
    "_cell_guid": "3ad0c4fa-9337-4ddc-bc08-b932a3970382",
    "_uuid": "b20244e049aca39c7ae3f276aa8a57de8f38a6a5",
    "collapsed": true
   },
   "outputs": [],
   "source": [
    "from sklearn.neighbors import KNeighborsClassifier"
   ]
  },
  {
   "cell_type": "code",
   "execution_count": 27,
   "metadata": {
    "_cell_guid": "c02ba4c9-b944-4b1a-b4c0-8b71dfd09a92",
    "_uuid": "43218ac70e8f288a83716072fc718ebd301c1146",
    "collapsed": true
   },
   "outputs": [],
   "source": [
    "knn= KNeighborsClassifier(n_neighbors=1)"
   ]
  },
  {
   "cell_type": "markdown",
   "metadata": {
    "_uuid": "1bf4bfef9b7d954c7cd2f388b31306077332b140"
   },
   "source": [
    "**Fit the training sets**"
   ]
  },
  {
   "cell_type": "code",
   "execution_count": 28,
   "metadata": {
    "_cell_guid": "314cf519-2799-44f2-8385-df7516a9ea59",
    "_uuid": "7f0d416f708eb257ee45d1030cbb1502e87cfabb",
    "collapsed": false
   },
   "outputs": [
    {
     "data": {
      "text/plain": [
       "KNeighborsClassifier(algorithm='auto', leaf_size=30, metric='minkowski',\n",
       "           metric_params=None, n_jobs=1, n_neighbors=1, p=2,\n",
       "           weights='uniform')"
      ]
     },
     "execution_count": 28,
     "metadata": {},
     "output_type": "execute_result"
    }
   ],
   "source": [
    "knn.fit(X_train, y_train)"
   ]
  },
  {
   "cell_type": "markdown",
   "metadata": {
    "_uuid": "d9fcb9e24367078616ee94cab509360c66fc9b75"
   },
   "source": [
    "**Predict on test set**"
   ]
  },
  {
   "cell_type": "code",
   "execution_count": 29,
   "metadata": {
    "_cell_guid": "f2ef3020-1883-4483-a9af-7341b3932df1",
    "_uuid": "83d462c4cf84d880fd506660d9a373fa16c468ae",
    "collapsed": true
   },
   "outputs": [],
   "source": [
    "predictions= knn.predict(X_test)"
   ]
  },
  {
   "cell_type": "markdown",
   "metadata": {
    "_uuid": "cc8601713ff983ec5dc928a528358ff612577fe2"
   },
   "source": [
    "**Evaluate accuracy rates of model**\n",
    "\n",
    "95.4%, not bad!"
   ]
  },
  {
   "cell_type": "code",
   "execution_count": 31,
   "metadata": {
    "_uuid": "06d559cae425c946795e28ae9a52b9409182687e",
    "collapsed": false
   },
   "outputs": [
    {
     "name": "stdout",
     "output_type": "stream",
     "text": [
      "accuracy = 0.954, precision = 0.953, recall = 0.954, f1 = 0.953\n"
     ]
    }
   ],
   "source": [
    "from sklearn.metrics import accuracy_score, f1_score, precision_score, recall_score, classification_report\n",
    "\n",
    "def get_metrics(y_test, predictions):  \n",
    "    # true positives / (true positives+false positives)\n",
    "    precision = precision_score(y_test, predictions, pos_label=None,\n",
    "                                    average='weighted')             \n",
    "    # true positives / (true positives + false negatives)\n",
    "    recall = recall_score(y_test, predictions, pos_label=None,\n",
    "                              average='weighted')\n",
    "    # harmonic mean of precision and recall\n",
    "    f1 = f1_score(y_test, predictions, pos_label=None, average='weighted')\n",
    "    # true positives + true negatives/ total\n",
    "    accuracy = accuracy_score(y_test, predictions)\n",
    "    return accuracy, precision, recall, f1\n",
    "\n",
    "accuracy, precision, recall, f1 = get_metrics(y_test, predictions)\n",
    "print(\"accuracy = %.3f, precision = %.3f, recall = %.3f, f1 = %.3f\" % (accuracy, precision, recall, f1))"
   ]
  },
  {
   "cell_type": "markdown",
   "metadata": {
    "_uuid": "99455285a321ee4eecf278514232b9c32f73eec4"
   },
   "source": [
    "** Plot Confusion Matrix**"
   ]
  },
  {
   "cell_type": "code",
   "execution_count": 42,
   "metadata": {
    "_uuid": "c38f58eabafc934ec5b301ca570ee51acbbfd69a",
    "collapsed": true
   },
   "outputs": [],
   "source": [
    "import itertools\n",
    "from sklearn.metrics import confusion_matrix\n",
    "\n",
    "def plot_confusion_matrix(cm, classes,\n",
    "                          normalize=False,\n",
    "                          title='Confusion matrix',\n",
    "                          cmap=plt.cm.winter):\n",
    "    if normalize:\n",
    "        cm = cm.astype('float') / cm.sum(axis=1)[:, np.newaxis]\n",
    "    plt.imshow(cm, interpolation='nearest', cmap=cmap)\n",
    "    plt.title(title, fontsize=30)\n",
    "    plt.colorbar()\n",
    "    tick_marks = np.arange(len(classes))\n",
    "    plt.xticks(tick_marks, classes, fontsize=15)\n",
    "    plt.yticks(tick_marks, classes, fontsize=15)\n",
    "    \n",
    "    fmt = '.2f' if normalize else 'd'\n",
    "    thresh = cm.max() / 2.\n",
    "\n",
    "    for i, j in itertools.product(range(cm.shape[0]), range(cm.shape[1])):\n",
    "        plt.text(j, i, format(cm[i, j], fmt), horizontalalignment=\"center\", \n",
    "                 color=\"white\" if cm[i, j] < thresh else \"black\", fontsize=30)\n",
    "    \n",
    "    plt.tight_layout()\n",
    "    plt.ylabel('True label', fontsize=20)\n",
    "    plt.xlabel('Predicted label', fontsize=20)\n",
    "\n",
    "    return plt"
   ]
  },
  {
   "cell_type": "code",
   "execution_count": 39,
   "metadata": {
    "_cell_guid": "d50a96b8-5107-4fa2-ac00-a95356db0e43",
    "_uuid": "eb61b878add0e93475a2b5103b363ace8237545f",
    "collapsed": false
   },
   "outputs": [
    {
     "data": {
      "image/png": "[encoded data removed]",
      "text/plain": [
       "<matplotlib.figure.Figure at 0x7fb77db9ecf8>"
      ]
     },
     "metadata": {},
     "output_type": "display_data"
    }
   ],
   "source": [
    "cm= confusion_matrix(y_test, predictions)\n",
    "fig = plt.figure(figsize=(8, 8))\n",
    "plot = plot_confusion_matrix(cm, classes=['Non-Legendary','Legendary'], normalize=False, title='Confusion Matrix')\n",
    "plt.show()"
   ]
  },
  {
   "cell_type": "markdown",
   "metadata": {
    "_uuid": "a29b2c20c245d244bb519df6c7ae02adeecedbcc"
   },
   "source": [
    "**Should we have chosen a different n_neighbors than 1?**\n",
    "\n",
    "* knn= KNeighborsClassifier(n_neighbors=1)"
   ]
  },
  {
   "cell_type": "code",
   "execution_count": 43,
   "metadata": {
    "_cell_guid": "ff33c976-f1a2-4957-98ce-d7ff71a562d5",
    "_uuid": "041b4bc227f701f12b06ba48f388e6bac447a4c3",
    "collapsed": true
   },
   "outputs": [],
   "source": [
    "error_rate = []\n",
    "\n",
    "for i in range(1,40):\n",
    "    \n",
    "    knn = KNeighborsClassifier(n_neighbors=i)\n",
    "    knn.fit(X_train,y_train)\n",
    "    pred_i = knn.predict(X_test)\n",
    "    error_rate.append(np.mean(pred_i != y_test))"
   ]
  },
  {
   "cell_type": "code",
   "execution_count": 44,
   "metadata": {
    "_cell_guid": "e1106fdb-590a-4807-8fc5-ba455704adc1",
    "_uuid": "a334e85318b217c4c9775c14e37f4b4ab751eeb2",
    "collapsed": false
   },
   "outputs": [
    {
     "data": {
      "text/plain": [
       "Text(0,0.5,'Error Rate')"
      ]
     },
     "execution_count": 44,
     "metadata": {},
     "output_type": "execute_result"
    },
    {
     "data": {
      "image/png": "[encoded data removed]",
      "text/plain": [
       "<matplotlib.figure.Figure at 0x7fb77dad12b0>"
      ]
     },
     "metadata": {},
     "output_type": "display_data"
    }
   ],
   "source": [
    "plt.figure(figsize=(10,6))\n",
    "plt.plot(range(1,40),error_rate,color='blue', linestyle='dashed', marker='o',\n",
    "         markerfacecolor='red', markersize=10)\n",
    "plt.title('Error Rate vs. K Value')\n",
    "plt.xlabel('K')\n",
    "plt.ylabel('Error Rate')"
   ]
  },
  {
   "cell_type": "markdown",
   "metadata": {
    "_uuid": "69e040d2cdfe4be0a78702e5d2923f01d3b45e99"
   },
   "source": [
    "The error rate is already low K=1, so I will keep the model as is."
   ]
  },
  {
   "cell_type": "markdown",
   "metadata": {
    "_uuid": "fb4e47643508d8188653a2db0739a5387aa95e3e"
   },
   "source": [
    "## Thank you for reading!\n",
    "\n",
    "#### Your feedback is very much appreciated!"
   ]
  },
  {
   "cell_type": "code",
   "execution_count": null,
   "metadata": {
    "_uuid": "aa66e3ca911d0564ca2fe278713a493cc5d9b665",
    "collapsed": true
   },
   "outputs": [],
   "source": []
  }
 ],
 "metadata": {
  "kernelspec": {
   "display_name": "Python [Root]",
   "language": "python",
   "name": "Python [Root]"
  },
  "language_info": {
   "codemirror_mode": {
    "name": "ipython",
    "version": 2
   },
   "file_extension": ".py",
   "mimetype": "text/x-python",
   "name": "python",
   "nbconvert_exporter": "python",
   "pygments_lexer": "ipython2",
   "version": "2.7.12"
  }
 },
 "nbformat": 4,
 "nbformat_minor": 1
}
