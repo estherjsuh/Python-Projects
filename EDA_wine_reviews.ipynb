{
 "cells": [
  {
   "cell_type": "markdown",
   "metadata": {
    "_cell_guid": "74345130-a2ed-4db1-8d2d-176c36e811d3",
    "_uuid": "9457152236ae0752889e0cfa56dcbba8c4098922"
   },
   "source": [
    "# Wine Reviews Project \n",
    "\n",
    "## Exploratory Data Analysis "
   ]
  },
  {
   "cell_type": "markdown",
   "metadata": {
    "_cell_guid": "04ff4544-450a-4aaa-b288-1cfa9e67f336",
    "_uuid": "3edf576c7534ad7b2b10a779ccf2641fde15353a"
   },
   "source": [
    "**Read in Data**"
   ]
  },
  {
   "cell_type": "code",
   "execution_count": 2,
   "metadata": {
    "_cell_guid": "79c7e3d0-c299-4dcb-8224-4455121ee9b0",
    "_uuid": "d629ff2d2480ee46fbb7e2d37f6b5fab8052498a",
    "collapsed": true
   },
   "outputs": [],
   "source": [
    "import numpy as np\n",
    "import pandas as pd\n",
    "import matplotlib.pyplot as plt\n",
    "import seaborn as sns\n",
    "%matplotlib inline"
   ]
  },
  {
   "cell_type": "code",
   "execution_count": 3,
   "metadata": {
    "_cell_guid": "91c23441-7b35-4588-9e32-b0e12a1249d0",
    "_uuid": "379a503eb6e5e6acaab36e4fee458cd77c72b050",
    "collapsed": false
   },
   "outputs": [
    {
     "data": {
      "text/plain": [
       "(150930, 10)"
      ]
     },
     "execution_count": 3,
     "metadata": {},
     "output_type": "execute_result"
    }
   ],
   "source": [
    "data = pd.read_csv('winemag-data_first150k.csv', index_col=0)\n",
    "data.shape"
   ]
  },
  {
   "cell_type": "markdown",
   "metadata": {
    "_cell_guid": "b1dba3cc-7257-4f40-a1ac-22d8bd17445c",
    "_uuid": "b76c4f5c04ed2f13bdd5d60542c0b638e403d2fa"
   },
   "source": [
    "**Remove Duplicates**\n",
    "\n",
    "53,109 rows removed"
   ]
  },
  {
   "cell_type": "code",
   "execution_count": 4,
   "metadata": {
    "_cell_guid": "b7b3810a-4475-4bcb-ad9b-ddab4484a3b4",
    "_uuid": "23701c035660d117b4c07b258ab4881c8623c0e3",
    "collapsed": false
   },
   "outputs": [
    {
     "data": {
      "text/plain": [
       "(97821, 10)"
      ]
     },
     "execution_count": 4,
     "metadata": {},
     "output_type": "execute_result"
    }
   ],
   "source": [
    "data = data.drop_duplicates('description')\n",
    "data.shape"
   ]
  },
  {
   "cell_type": "code",
   "execution_count": 5,
   "metadata": {
    "_cell_guid": "6290b73b-4fc8-413d-92b6-490af3716744",
    "_uuid": "433449f89950595d02fc877b3a86556e4d63bace",
    "collapsed": false
   },
   "outputs": [
    {
     "data": {
      "text/html": [
       "<div>\n",
       "<table border=\"1\" class=\"dataframe\">\n",
       "  <thead>\n",
       "    <tr style=\"text-align: right;\">\n",
       "      <th></th>\n",
       "      <th>country</th>\n",
       "      <th>description</th>\n",
       "      <th>designation</th>\n",
       "      <th>points</th>\n",
       "      <th>price</th>\n",
       "      <th>province</th>\n",
       "      <th>region_1</th>\n",
       "      <th>region_2</th>\n",
       "      <th>variety</th>\n",
       "      <th>winery</th>\n",
       "    </tr>\n",
       "  </thead>\n",
       "  <tbody>\n",
       "    <tr>\n",
       "      <th>0</th>\n",
       "      <td>US</td>\n",
       "      <td>This tremendous 100% varietal wine hails from ...</td>\n",
       "      <td>Martha's Vineyard</td>\n",
       "      <td>96</td>\n",
       "      <td>235.0</td>\n",
       "      <td>California</td>\n",
       "      <td>Napa Valley</td>\n",
       "      <td>Napa</td>\n",
       "      <td>Cabernet Sauvignon</td>\n",
       "      <td>Heitz</td>\n",
       "    </tr>\n",
       "    <tr>\n",
       "      <th>1</th>\n",
       "      <td>Spain</td>\n",
       "      <td>Ripe aromas of fig, blackberry and cassis are ...</td>\n",
       "      <td>Carodorum Selección Especial Reserva</td>\n",
       "      <td>96</td>\n",
       "      <td>110.0</td>\n",
       "      <td>Northern Spain</td>\n",
       "      <td>Toro</td>\n",
       "      <td>NaN</td>\n",
       "      <td>Tinta de Toro</td>\n",
       "      <td>Bodega Carmen Rodríguez</td>\n",
       "    </tr>\n",
       "    <tr>\n",
       "      <th>2</th>\n",
       "      <td>US</td>\n",
       "      <td>Mac Watson honors the memory of a wine once ma...</td>\n",
       "      <td>Special Selected Late Harvest</td>\n",
       "      <td>96</td>\n",
       "      <td>90.0</td>\n",
       "      <td>California</td>\n",
       "      <td>Knights Valley</td>\n",
       "      <td>Sonoma</td>\n",
       "      <td>Sauvignon Blanc</td>\n",
       "      <td>Macauley</td>\n",
       "    </tr>\n",
       "    <tr>\n",
       "      <th>3</th>\n",
       "      <td>US</td>\n",
       "      <td>This spent 20 months in 30% new French oak, an...</td>\n",
       "      <td>Reserve</td>\n",
       "      <td>96</td>\n",
       "      <td>65.0</td>\n",
       "      <td>Oregon</td>\n",
       "      <td>Willamette Valley</td>\n",
       "      <td>Willamette Valley</td>\n",
       "      <td>Pinot Noir</td>\n",
       "      <td>Ponzi</td>\n",
       "    </tr>\n",
       "    <tr>\n",
       "      <th>4</th>\n",
       "      <td>France</td>\n",
       "      <td>This is the top wine from La Bégude, named aft...</td>\n",
       "      <td>La Brûlade</td>\n",
       "      <td>95</td>\n",
       "      <td>66.0</td>\n",
       "      <td>Provence</td>\n",
       "      <td>Bandol</td>\n",
       "      <td>NaN</td>\n",
       "      <td>Provence red blend</td>\n",
       "      <td>Domaine de la Bégude</td>\n",
       "    </tr>\n",
       "  </tbody>\n",
       "</table>\n",
       "</div>"
      ],
      "text/plain": [
       "  country                                        description  \\\n",
       "0      US  This tremendous 100% varietal wine hails from ...   \n",
       "1   Spain  Ripe aromas of fig, blackberry and cassis are ...   \n",
       "2      US  Mac Watson honors the memory of a wine once ma...   \n",
       "3      US  This spent 20 months in 30% new French oak, an...   \n",
       "4  France  This is the top wine from La Bégude, named aft...   \n",
       "\n",
       "                            designation  points  price        province  \\\n",
       "0                     Martha's Vineyard      96  235.0      California   \n",
       "1  Carodorum Selección Especial Reserva      96  110.0  Northern Spain   \n",
       "2         Special Selected Late Harvest      96   90.0      California   \n",
       "3                               Reserve      96   65.0          Oregon   \n",
       "4                            La Brûlade      95   66.0        Provence   \n",
       "\n",
       "            region_1           region_2             variety  \\\n",
       "0        Napa Valley               Napa  Cabernet Sauvignon   \n",
       "1               Toro                NaN       Tinta de Toro   \n",
       "2     Knights Valley             Sonoma     Sauvignon Blanc   \n",
       "3  Willamette Valley  Willamette Valley          Pinot Noir   \n",
       "4             Bandol                NaN  Provence red blend   \n",
       "\n",
       "                    winery  \n",
       "0                    Heitz  \n",
       "1  Bodega Carmen Rodríguez  \n",
       "2                 Macauley  \n",
       "3                    Ponzi  \n",
       "4     Domaine de la Bégude  "
      ]
     },
     "execution_count": 5,
     "metadata": {},
     "output_type": "execute_result"
    }
   ],
   "source": [
    "data.head()"
   ]
  },
  {
   "cell_type": "code",
   "execution_count": 6,
   "metadata": {
    "_cell_guid": "c26ace20-300f-46b3-b165-7f5fc36a1aef",
    "_uuid": "3a72574d06d2ca3790c68d41c99164f5946ceec9",
    "collapsed": false
   },
   "outputs": [
    {
     "data": {
      "text/plain": [
       "country            3\n",
       "description        0\n",
       "designation    29885\n",
       "points             0\n",
       "price           8713\n",
       "province           3\n",
       "region_1       15926\n",
       "region_2       58343\n",
       "variety            0\n",
       "winery             0\n",
       "dtype: int64"
      ]
     },
     "execution_count": 6,
     "metadata": {},
     "output_type": "execute_result"
    }
   ],
   "source": [
    "data.isnull().sum()"
   ]
  },
  {
   "cell_type": "code",
   "execution_count": 7,
   "metadata": {
    "_cell_guid": "88c507bb-a031-4c4a-b798-4dfaf474160c",
    "_uuid": "a9fa7e3244aecb2170e718c22b17bfbb40f7517b",
    "collapsed": false
   },
   "outputs": [
    {
     "data": {
      "text/plain": [
       "country         object\n",
       "description     object\n",
       "designation     object\n",
       "points           int64\n",
       "price          float64\n",
       "province        object\n",
       "region_1        object\n",
       "region_2        object\n",
       "variety         object\n",
       "winery          object\n",
       "dtype: object"
      ]
     },
     "execution_count": 7,
     "metadata": {},
     "output_type": "execute_result"
    }
   ],
   "source": [
    "data.dtypes"
   ]
  },
  {
   "cell_type": "markdown",
   "metadata": {
    "_cell_guid": "f7c0da40-6f9d-4589-8c17-68e62602b8b2",
    "_uuid": "c796cd0701ef32a915cc12128ae3d8b9f779d4d1"
   },
   "source": [
    "**Drop null values from price & country columns only**"
   ]
  },
  {
   "cell_type": "code",
   "execution_count": 8,
   "metadata": {
    "_cell_guid": "f1ce0293-fd2b-4183-9f41-540c0e98d08d",
    "_uuid": "eb2190e8a621c9f2a86efa85deea58dc2481ac00",
    "collapsed": false
   },
   "outputs": [
    {
     "data": {
      "text/plain": [
       "(89105, 10)"
      ]
     },
     "execution_count": 8,
     "metadata": {},
     "output_type": "execute_result"
    }
   ],
   "source": [
    "data.dropna(subset=['price','country'],inplace=True)\n",
    "data.shape"
   ]
  },
  {
   "cell_type": "markdown",
   "metadata": {
    "_uuid": "c204e26949a658c9709f4038db88c64eae1e4130"
   },
   "source": [
    "**Correlation Coefficient between Price and Points**\n",
    "\n",
    "Slightly correlated.."
   ]
  },
  {
   "cell_type": "code",
   "execution_count": 9,
   "metadata": {
    "_uuid": "9cf1df075f2c8835cbbaee93e1aaa434081adcec",
    "collapsed": false
   },
   "outputs": [
    {
     "data": {
      "text/html": [
       "<div>\n",
       "<table border=\"1\" class=\"dataframe\">\n",
       "  <thead>\n",
       "    <tr style=\"text-align: right;\">\n",
       "      <th></th>\n",
       "      <th>price</th>\n",
       "      <th>points</th>\n",
       "    </tr>\n",
       "  </thead>\n",
       "  <tbody>\n",
       "    <tr>\n",
       "      <th>price</th>\n",
       "      <td>1.000000</td>\n",
       "      <td>0.447288</td>\n",
       "    </tr>\n",
       "    <tr>\n",
       "      <th>points</th>\n",
       "      <td>0.447288</td>\n",
       "      <td>1.000000</td>\n",
       "    </tr>\n",
       "  </tbody>\n",
       "</table>\n",
       "</div>"
      ],
      "text/plain": [
       "           price    points\n",
       "price   1.000000  0.447288\n",
       "points  0.447288  1.000000"
      ]
     },
     "execution_count": 9,
     "metadata": {},
     "output_type": "execute_result"
    }
   ],
   "source": [
    "data[['price','points']].corr()"
   ]
  },
  {
   "cell_type": "markdown",
   "metadata": {
    "_uuid": "d3d10612f0323c5156e7ef14d91964a3872ce78c"
   },
   "source": [
    "**Most expensive wine award goes to..**"
   ]
  },
  {
   "cell_type": "code",
   "execution_count": 10,
   "metadata": {
    "_uuid": "ed2c0287e441649fa0cf4d602fb880be75d95c06",
    "collapsed": false
   },
   "outputs": [
    {
     "data": {
      "text/html": [
       "<div>\n",
       "<table border=\"1\" class=\"dataframe\">\n",
       "  <thead>\n",
       "    <tr style=\"text-align: right;\">\n",
       "      <th></th>\n",
       "      <th>country</th>\n",
       "      <th>description</th>\n",
       "      <th>designation</th>\n",
       "      <th>points</th>\n",
       "      <th>price</th>\n",
       "      <th>province</th>\n",
       "      <th>region_1</th>\n",
       "      <th>region_2</th>\n",
       "      <th>variety</th>\n",
       "      <th>winery</th>\n",
       "    </tr>\n",
       "  </thead>\n",
       "  <tbody>\n",
       "    <tr>\n",
       "      <th>34920</th>\n",
       "      <td>France</td>\n",
       "      <td>A big, powerful wine that sums up the richness...</td>\n",
       "      <td>NaN</td>\n",
       "      <td>99</td>\n",
       "      <td>2300.0</td>\n",
       "      <td>Bordeaux</td>\n",
       "      <td>Pauillac</td>\n",
       "      <td>NaN</td>\n",
       "      <td>Bordeaux-style Red Blend</td>\n",
       "      <td>Château Latour</td>\n",
       "    </tr>\n",
       "  </tbody>\n",
       "</table>\n",
       "</div>"
      ],
      "text/plain": [
       "      country                                        description designation  \\\n",
       "34920  France  A big, powerful wine that sums up the richness...         NaN   \n",
       "\n",
       "       points   price  province  region_1 region_2                   variety  \\\n",
       "34920      99  2300.0  Bordeaux  Pauillac      NaN  Bordeaux-style Red Blend   \n",
       "\n",
       "               winery  \n",
       "34920  Château Latour  "
      ]
     },
     "execution_count": 10,
     "metadata": {},
     "output_type": "execute_result"
    }
   ],
   "source": [
    "max_price = data.loc[[data['price'].idxmax()]]\n",
    "max_price"
   ]
  },
  {
   "cell_type": "markdown",
   "metadata": {
    "_uuid": "a5a566d78f3297834b6032bf338a41ee4656d65c"
   },
   "source": [
    "**Perfect wines 💯**"
   ]
  },
  {
   "cell_type": "code",
   "execution_count": 11,
   "metadata": {
    "_uuid": "a8dd2224fde8f80445cbf18ddcaf9021497aa00d",
    "collapsed": false
   },
   "outputs": [
    {
     "name": "stdout",
     "output_type": "stream",
     "text": [
      "Number of wines with perfect scores: 11\n",
      "\n",
      "\n",
      "List of wines with perfect scores, price low to high :\n"
     ]
    },
    {
     "data": {
      "text/html": [
       "<div>\n",
       "<table border=\"1\" class=\"dataframe\">\n",
       "  <thead>\n",
       "    <tr style=\"text-align: right;\">\n",
       "      <th></th>\n",
       "      <th>country</th>\n",
       "      <th>price</th>\n",
       "      <th>province</th>\n",
       "      <th>variety</th>\n",
       "      <th>winery</th>\n",
       "    </tr>\n",
       "  </thead>\n",
       "  <tbody>\n",
       "    <tr>\n",
       "      <th>19354</th>\n",
       "      <td>US</td>\n",
       "      <td>65.0</td>\n",
       "      <td>Oregon</td>\n",
       "      <td>Syrah</td>\n",
       "      <td>Cayuse</td>\n",
       "    </tr>\n",
       "    <tr>\n",
       "      <th>98647</th>\n",
       "      <td>US</td>\n",
       "      <td>100.0</td>\n",
       "      <td>California</td>\n",
       "      <td>Pinot Noir</td>\n",
       "      <td>Williams Selyem</td>\n",
       "    </tr>\n",
       "    <tr>\n",
       "      <th>28954</th>\n",
       "      <td>Italy</td>\n",
       "      <td>195.0</td>\n",
       "      <td>Tuscany</td>\n",
       "      <td>Red Blend</td>\n",
       "      <td>Giovanni Chiappini</td>\n",
       "    </tr>\n",
       "    <tr>\n",
       "      <th>89399</th>\n",
       "      <td>US</td>\n",
       "      <td>200.0</td>\n",
       "      <td>California</td>\n",
       "      <td>Cabernet Sauvignon</td>\n",
       "      <td>Cardinale</td>\n",
       "    </tr>\n",
       "    <tr>\n",
       "      <th>111087</th>\n",
       "      <td>Italy</td>\n",
       "      <td>210.0</td>\n",
       "      <td>Tuscany</td>\n",
       "      <td>Prugnolo Gentile</td>\n",
       "      <td>Avignonesi</td>\n",
       "    </tr>\n",
       "    <tr>\n",
       "      <th>92916</th>\n",
       "      <td>US</td>\n",
       "      <td>215.0</td>\n",
       "      <td>California</td>\n",
       "      <td>Cabernet Sauvignon</td>\n",
       "      <td>Shafer</td>\n",
       "    </tr>\n",
       "    <tr>\n",
       "      <th>114272</th>\n",
       "      <td>US</td>\n",
       "      <td>245.0</td>\n",
       "      <td>California</td>\n",
       "      <td>Cabernet Blend</td>\n",
       "      <td>Sloan</td>\n",
       "    </tr>\n",
       "    <tr>\n",
       "      <th>19355</th>\n",
       "      <td>Australia</td>\n",
       "      <td>300.0</td>\n",
       "      <td>Victoria</td>\n",
       "      <td>Muscat</td>\n",
       "      <td>Chambers Rosewood Vineyards</td>\n",
       "    </tr>\n",
       "    <tr>\n",
       "      <th>24151</th>\n",
       "      <td>Italy</td>\n",
       "      <td>460.0</td>\n",
       "      <td>Tuscany</td>\n",
       "      <td>Merlot</td>\n",
       "      <td>Tenuta dell'Ornellaia</td>\n",
       "    </tr>\n",
       "    <tr>\n",
       "      <th>2145</th>\n",
       "      <td>France</td>\n",
       "      <td>848.0</td>\n",
       "      <td>Bordeaux</td>\n",
       "      <td>Bordeaux-style White Blend</td>\n",
       "      <td>Château Haut-Brion</td>\n",
       "    </tr>\n",
       "    <tr>\n",
       "      <th>26296</th>\n",
       "      <td>France</td>\n",
       "      <td>1400.0</td>\n",
       "      <td>Champagne</td>\n",
       "      <td>Chardonnay</td>\n",
       "      <td>Krug</td>\n",
       "    </tr>\n",
       "  </tbody>\n",
       "</table>\n",
       "</div>"
      ],
      "text/plain": [
       "          country   price    province                     variety  \\\n",
       "19354          US    65.0      Oregon                       Syrah   \n",
       "98647          US   100.0  California                  Pinot Noir   \n",
       "28954       Italy   195.0     Tuscany                   Red Blend   \n",
       "89399          US   200.0  California          Cabernet Sauvignon   \n",
       "111087      Italy   210.0     Tuscany            Prugnolo Gentile   \n",
       "92916          US   215.0  California          Cabernet Sauvignon   \n",
       "114272         US   245.0  California              Cabernet Blend   \n",
       "19355   Australia   300.0    Victoria                      Muscat   \n",
       "24151       Italy   460.0     Tuscany                      Merlot   \n",
       "2145       France   848.0    Bordeaux  Bordeaux-style White Blend   \n",
       "26296      France  1400.0   Champagne                  Chardonnay   \n",
       "\n",
       "                             winery  \n",
       "19354                        Cayuse  \n",
       "98647               Williams Selyem  \n",
       "28954            Giovanni Chiappini  \n",
       "89399                     Cardinale  \n",
       "111087                   Avignonesi  \n",
       "92916                        Shafer  \n",
       "114272                        Sloan  \n",
       "19355   Chambers Rosewood Vineyards  \n",
       "24151         Tenuta dell'Ornellaia  \n",
       "2145             Château Haut-Brion  \n",
       "26296                          Krug  "
      ]
     },
     "execution_count": 11,
     "metadata": {},
     "output_type": "execute_result"
    }
   ],
   "source": [
    "max_score =data[data['points']==100]\n",
    "print(\"Number of wines with perfect scores: \" + str(len(max_score)))\n",
    "print('\\n')\n",
    "print('List of wines with perfect scores, price low to high :')\n",
    "max_score[['country', 'price', 'province', 'variety', 'winery']].sort_values(by=['price'])"
   ]
  },
  {
   "cell_type": "markdown",
   "metadata": {
    "_cell_guid": "a56224b7-8a47-4e2b-863b-7ad9a3daa085",
    "_uuid": "682443388cf5e57780205557c99dc34c60ccc6c2"
   },
   "source": [
    "**Plot histogram to analyze the frequency of variables**\n",
    "\n",
    "Points (or ratings) are on the higher spectrum, considering that the wines were reviewed by [Wine Enthusiasts](https://www.winemag.com/)"
   ]
  },
  {
   "cell_type": "code",
   "execution_count": 12,
   "metadata": {
    "_cell_guid": "acf1dc85-4f6d-4a86-b178-5ba9d4593c71",
    "_uuid": "ab4fc49f097fe383b45cda4db4c116c77faa7409",
    "collapsed": false
   },
   "outputs": [
    {
     "data": {
      "text/plain": [
       "<matplotlib.text.Text at 0x12002d090>"
      ]
     },
     "execution_count": 12,
     "metadata": {},
     "output_type": "execute_result"
    },
    {
     "data": {
      "image/png": "[encoded data removed]",
      "text/plain": [
       "<matplotlib.figure.Figure at 0x1193bbe90>"
      ]
     },
     "metadata": {},
     "output_type": "display_data"
    }
   ],
   "source": [
    "sns.set_style('whitegrid')\n",
    "plt.figure(figsize=(10,6))\n",
    "data['points'].hist(bins=30, alpha=.65)\n",
    "plt.xlabel('Points')"
   ]
  },
  {
   "cell_type": "code",
   "execution_count": 13,
   "metadata": {
    "_cell_guid": "a44422a8-c728-4387-863f-dc8ab450b4f9",
    "_uuid": "e9b6fad44a7480c31af170185524e654f6296b3d",
    "collapsed": false
   },
   "outputs": [
    {
     "data": {
      "text/plain": [
       "<matplotlib.text.Text at 0x11f536bd0>"
      ]
     },
     "execution_count": 13,
     "metadata": {},
     "output_type": "execute_result"
    },
    {
     "data": {
      "image/png": "[encoded data removed]",
      "text/plain": [
       "<matplotlib.figure.Figure at 0x11f4fdb10>"
      ]
     },
     "metadata": {},
     "output_type": "display_data"
    }
   ],
   "source": [
    "plt.figure(figsize=(10,6))\n",
    "data['price'].hist(bins=50, alpha=.65)\n",
    "plt.xlabel('Price $')"
   ]
  },
  {
   "cell_type": "markdown",
   "metadata": {
    "_cell_guid": "23013733-a98f-4064-9e6d-e5a2d804a021",
    "_uuid": "5fbff8a15f0eefbdad0b6bb44aaf4836b71f80e7"
   },
   "source": [
    "**Round wine prices to nearest tens**\n",
    "\n",
    "The histogram (above) for wine prices seemed vague (range $0-100), so prices have been rounded to the nearest tens & re-plotted.\n",
    "\n",
    "The bar graph below shows that most wine prices range between $20-30."
   ]
  },
  {
   "cell_type": "code",
   "execution_count": 14,
   "metadata": {
    "_cell_guid": "58263e34-d7c0-4293-a69f-d4504a443e5a",
    "_uuid": "7b111e847415f92053d70416177bc3f90b07119f",
    "collapsed": true
   },
   "outputs": [],
   "source": [
    "import math\n",
    "data['rounded_price']= data['price'].apply(lambda x: math.ceil(x/10.0)*10)"
   ]
  },
  {
   "cell_type": "code",
   "execution_count": 15,
   "metadata": {
    "_cell_guid": "bd8d5155-b5f5-4b0b-b0f3-526713d326a6",
    "_uuid": "cfccbc20239dd0e392fb2821d1192f47706e8286",
    "collapsed": false
   },
   "outputs": [
    {
     "data": {
      "text/plain": [
       "<matplotlib.text.Text at 0x11a3253d0>"
      ]
     },
     "execution_count": 15,
     "metadata": {},
     "output_type": "execute_result"
    },
    {
     "data": {
      "image/png": "[encoded data removed]",
      "text/plain": [
       "<matplotlib.figure.Figure at 0x11a2d4550>"
      ]
     },
     "metadata": {},
     "output_type": "display_data"
    }
   ],
   "source": [
    "plt.figure(figsize=(20,10))\n",
    "data['rounded_price'].value_counts().sort_index().plot.bar()\n",
    "plt.xlabel('Rounded Price $')\n",
    "plt.ylabel('count')"
   ]
  },
  {
   "cell_type": "markdown",
   "metadata": {
    "_cell_guid": "f02b06f3-c852-4665-8319-820a44cf516f",
    "_uuid": "b9defc2bc96d061d71d94fc974964417dedd7577"
   },
   "source": [
    "**Analyze wine from countries**"
   ]
  },
  {
   "cell_type": "code",
   "execution_count": 16,
   "metadata": {
    "_cell_guid": "818f337a-b473-4863-9070-f9e24d78f452",
    "_uuid": "a82abf6d26265106d15271898c0e72c23fde5b2e",
    "collapsed": false
   },
   "outputs": [
    {
     "name": "stdout",
     "output_type": "stream",
     "text": [
      "Countries in dataset: \n",
      "['Albania', 'Argentina', 'Australia', 'Austria', 'Bosnia and Herzegovina', 'Brazil', 'Bulgaria', 'Canada', 'Chile', 'China', 'Croatia', 'Cyprus', 'Czech Republic', 'England', 'France', 'Georgia', 'Germany', 'Greece', 'Hungary', 'India', 'Israel', 'Italy', 'Japan', 'Lebanon', 'Lithuania', 'Luxembourg', 'Macedonia', 'Mexico', 'Moldova', 'Montenegro', 'Morocco', 'New Zealand', 'Portugal', 'Romania', 'Serbia', 'Slovakia', 'Slovenia', 'South Africa', 'South Korea', 'Spain', 'Switzerland', 'Turkey', 'US', 'US-France', 'Ukraine', 'Uruguay']\n",
      "\n",
      "\n",
      "Number of unique Countries in dataset: 46\n"
     ]
    }
   ],
   "source": [
    "print('Countries in dataset: ' + '\\n' + str(sorted(list(data['country'].unique()))))\n",
    "print('\\n')\n",
    "print('Number of unique Countries in dataset: ' + str(data['country'].nunique()))"
   ]
  },
  {
   "cell_type": "code",
   "execution_count": 17,
   "metadata": {
    "_cell_guid": "7f77cdca-3534-4579-b6e8-78652dc3fb21",
    "_uuid": "d0ff2ac5ad2c0e3c075dae51bc8877d0afcbf8fa",
    "collapsed": true
   },
   "outputs": [],
   "source": [
    "df = pd.DataFrame(data.groupby('country')['points','price'].mean())\n",
    "df1 = pd.DataFrame(data.groupby('country')['description'].count())\n",
    "country= df.join(df1)"
   ]
  },
  {
   "cell_type": "code",
   "execution_count": 18,
   "metadata": {
    "_cell_guid": "bd79086a-f32d-46aa-8d60-785987e3e0bf",
    "_uuid": "087ac99fe4b250bb5af240cf3a26fc2e963a53f8",
    "collapsed": true
   },
   "outputs": [],
   "source": [
    "country.columns= ['Avg. Points', 'Avg. Price', 'Count of Wine']"
   ]
  },
  {
   "cell_type": "code",
   "execution_count": 19,
   "metadata": {
    "_cell_guid": "f8763d57-8b7e-4100-9ffd-c49942c11a3f",
    "_uuid": "0b4da56080e2576027d2c69525a15daa3e35e3a7",
    "collapsed": false
   },
   "outputs": [
    {
     "data": {
      "text/html": [
       "<div>\n",
       "<table border=\"1\" class=\"dataframe\">\n",
       "  <thead>\n",
       "    <tr style=\"text-align: right;\">\n",
       "      <th></th>\n",
       "      <th>Avg. Points</th>\n",
       "      <th>Avg. Price</th>\n",
       "      <th>Count of Wine</th>\n",
       "    </tr>\n",
       "    <tr>\n",
       "      <th>country</th>\n",
       "      <th></th>\n",
       "      <th></th>\n",
       "      <th></th>\n",
       "    </tr>\n",
       "  </thead>\n",
       "  <tbody>\n",
       "    <tr>\n",
       "      <th>Albania</th>\n",
       "      <td>88.000000</td>\n",
       "      <td>20.000000</td>\n",
       "      <td>1</td>\n",
       "    </tr>\n",
       "    <tr>\n",
       "      <th>Argentina</th>\n",
       "      <td>86.082773</td>\n",
       "      <td>21.234572</td>\n",
       "      <td>3419</td>\n",
       "    </tr>\n",
       "    <tr>\n",
       "      <th>Australia</th>\n",
       "      <td>87.943835</td>\n",
       "      <td>31.630407</td>\n",
       "      <td>3098</td>\n",
       "    </tr>\n",
       "    <tr>\n",
       "      <th>Austria</th>\n",
       "      <td>89.337093</td>\n",
       "      <td>31.091479</td>\n",
       "      <td>1596</td>\n",
       "    </tr>\n",
       "    <tr>\n",
       "      <th>Bosnia and Herzegovina</th>\n",
       "      <td>85.333333</td>\n",
       "      <td>12.666667</td>\n",
       "      <td>3</td>\n",
       "    </tr>\n",
       "    <tr>\n",
       "      <th>Brazil</th>\n",
       "      <td>83.428571</td>\n",
       "      <td>20.928571</td>\n",
       "      <td>14</td>\n",
       "    </tr>\n",
       "    <tr>\n",
       "      <th>Bulgaria</th>\n",
       "      <td>85.767857</td>\n",
       "      <td>11.678571</td>\n",
       "      <td>56</td>\n",
       "    </tr>\n",
       "    <tr>\n",
       "      <th>Canada</th>\n",
       "      <td>88.716216</td>\n",
       "      <td>36.040541</td>\n",
       "      <td>148</td>\n",
       "    </tr>\n",
       "    <tr>\n",
       "      <th>Chile</th>\n",
       "      <td>86.281892</td>\n",
       "      <td>19.777027</td>\n",
       "      <td>3700</td>\n",
       "    </tr>\n",
       "    <tr>\n",
       "      <th>China</th>\n",
       "      <td>82.000000</td>\n",
       "      <td>17.000000</td>\n",
       "      <td>2</td>\n",
       "    </tr>\n",
       "    <tr>\n",
       "      <th>Croatia</th>\n",
       "      <td>86.746269</td>\n",
       "      <td>23.089552</td>\n",
       "      <td>67</td>\n",
       "    </tr>\n",
       "    <tr>\n",
       "      <th>Cyprus</th>\n",
       "      <td>86.066667</td>\n",
       "      <td>15.533333</td>\n",
       "      <td>15</td>\n",
       "    </tr>\n",
       "    <tr>\n",
       "      <th>Czech Republic</th>\n",
       "      <td>85.833333</td>\n",
       "      <td>18.000000</td>\n",
       "      <td>6</td>\n",
       "    </tr>\n",
       "    <tr>\n",
       "      <th>England</th>\n",
       "      <td>92.750000</td>\n",
       "      <td>47.500000</td>\n",
       "      <td>8</td>\n",
       "    </tr>\n",
       "    <tr>\n",
       "      <th>France</th>\n",
       "      <td>88.632266</td>\n",
       "      <td>44.910644</td>\n",
       "      <td>10184</td>\n",
       "    </tr>\n",
       "    <tr>\n",
       "      <th>Georgia</th>\n",
       "      <td>85.566667</td>\n",
       "      <td>18.266667</td>\n",
       "      <td>30</td>\n",
       "    </tr>\n",
       "    <tr>\n",
       "      <th>Germany</th>\n",
       "      <td>88.831309</td>\n",
       "      <td>42.537787</td>\n",
       "      <td>1482</td>\n",
       "    </tr>\n",
       "    <tr>\n",
       "      <th>Greece</th>\n",
       "      <td>86.213084</td>\n",
       "      <td>22.214953</td>\n",
       "      <td>535</td>\n",
       "    </tr>\n",
       "    <tr>\n",
       "      <th>Hungary</th>\n",
       "      <td>87.652174</td>\n",
       "      <td>47.166667</td>\n",
       "      <td>138</td>\n",
       "    </tr>\n",
       "    <tr>\n",
       "      <th>India</th>\n",
       "      <td>88.428571</td>\n",
       "      <td>13.000000</td>\n",
       "      <td>7</td>\n",
       "    </tr>\n",
       "    <tr>\n",
       "      <th>Israel</th>\n",
       "      <td>87.415254</td>\n",
       "      <td>30.853107</td>\n",
       "      <td>354</td>\n",
       "    </tr>\n",
       "    <tr>\n",
       "      <th>Italy</th>\n",
       "      <td>88.450379</td>\n",
       "      <td>37.896066</td>\n",
       "      <td>12152</td>\n",
       "    </tr>\n",
       "    <tr>\n",
       "      <th>Japan</th>\n",
       "      <td>85.000000</td>\n",
       "      <td>24.000000</td>\n",
       "      <td>1</td>\n",
       "    </tr>\n",
       "    <tr>\n",
       "      <th>Lebanon</th>\n",
       "      <td>85.851852</td>\n",
       "      <td>27.111111</td>\n",
       "      <td>27</td>\n",
       "    </tr>\n",
       "    <tr>\n",
       "      <th>Lithuania</th>\n",
       "      <td>84.250000</td>\n",
       "      <td>10.000000</td>\n",
       "      <td>4</td>\n",
       "    </tr>\n",
       "    <tr>\n",
       "      <th>Luxembourg</th>\n",
       "      <td>87.000000</td>\n",
       "      <td>40.666667</td>\n",
       "      <td>3</td>\n",
       "    </tr>\n",
       "    <tr>\n",
       "      <th>Macedonia</th>\n",
       "      <td>85.333333</td>\n",
       "      <td>15.333333</td>\n",
       "      <td>12</td>\n",
       "    </tr>\n",
       "    <tr>\n",
       "      <th>Mexico</th>\n",
       "      <td>85.092593</td>\n",
       "      <td>29.759259</td>\n",
       "      <td>54</td>\n",
       "    </tr>\n",
       "    <tr>\n",
       "      <th>Moldova</th>\n",
       "      <td>85.282609</td>\n",
       "      <td>16.173913</td>\n",
       "      <td>46</td>\n",
       "    </tr>\n",
       "    <tr>\n",
       "      <th>Montenegro</th>\n",
       "      <td>82.000000</td>\n",
       "      <td>10.000000</td>\n",
       "      <td>1</td>\n",
       "    </tr>\n",
       "    <tr>\n",
       "      <th>Morocco</th>\n",
       "      <td>88.272727</td>\n",
       "      <td>19.181818</td>\n",
       "      <td>11</td>\n",
       "    </tr>\n",
       "    <tr>\n",
       "      <th>New Zealand</th>\n",
       "      <td>87.600917</td>\n",
       "      <td>24.594037</td>\n",
       "      <td>1744</td>\n",
       "    </tr>\n",
       "    <tr>\n",
       "      <th>Portugal</th>\n",
       "      <td>88.256787</td>\n",
       "      <td>27.619222</td>\n",
       "      <td>2726</td>\n",
       "    </tr>\n",
       "    <tr>\n",
       "      <th>Romania</th>\n",
       "      <td>85.254717</td>\n",
       "      <td>16.292453</td>\n",
       "      <td>106</td>\n",
       "    </tr>\n",
       "    <tr>\n",
       "      <th>Serbia</th>\n",
       "      <td>87.700000</td>\n",
       "      <td>24.700000</td>\n",
       "      <td>10</td>\n",
       "    </tr>\n",
       "    <tr>\n",
       "      <th>Slovakia</th>\n",
       "      <td>84.500000</td>\n",
       "      <td>15.500000</td>\n",
       "      <td>2</td>\n",
       "    </tr>\n",
       "    <tr>\n",
       "      <th>Slovenia</th>\n",
       "      <td>88.200000</td>\n",
       "      <td>27.800000</td>\n",
       "      <td>65</td>\n",
       "    </tr>\n",
       "    <tr>\n",
       "      <th>South Africa</th>\n",
       "      <td>87.240437</td>\n",
       "      <td>21.581967</td>\n",
       "      <td>1464</td>\n",
       "    </tr>\n",
       "    <tr>\n",
       "      <th>South Korea</th>\n",
       "      <td>81.500000</td>\n",
       "      <td>13.500000</td>\n",
       "      <td>2</td>\n",
       "    </tr>\n",
       "    <tr>\n",
       "      <th>Spain</th>\n",
       "      <td>86.752328</td>\n",
       "      <td>27.928864</td>\n",
       "      <td>5370</td>\n",
       "    </tr>\n",
       "    <tr>\n",
       "      <th>Switzerland</th>\n",
       "      <td>87.250000</td>\n",
       "      <td>26.500000</td>\n",
       "      <td>4</td>\n",
       "    </tr>\n",
       "    <tr>\n",
       "      <th>Turkey</th>\n",
       "      <td>88.200000</td>\n",
       "      <td>26.866667</td>\n",
       "      <td>45</td>\n",
       "    </tr>\n",
       "    <tr>\n",
       "      <th>US</th>\n",
       "      <td>87.906763</td>\n",
       "      <td>34.122366</td>\n",
       "      <td>40338</td>\n",
       "    </tr>\n",
       "    <tr>\n",
       "      <th>US-France</th>\n",
       "      <td>88.000000</td>\n",
       "      <td>50.000000</td>\n",
       "      <td>1</td>\n",
       "    </tr>\n",
       "    <tr>\n",
       "      <th>Ukraine</th>\n",
       "      <td>84.600000</td>\n",
       "      <td>13.000000</td>\n",
       "      <td>5</td>\n",
       "    </tr>\n",
       "    <tr>\n",
       "      <th>Uruguay</th>\n",
       "      <td>84.775510</td>\n",
       "      <td>24.387755</td>\n",
       "      <td>49</td>\n",
       "    </tr>\n",
       "  </tbody>\n",
       "</table>\n",
       "</div>"
      ],
      "text/plain": [
       "                        Avg. Points  Avg. Price  Count of Wine\n",
       "country                                                       \n",
       "Albania                   88.000000   20.000000              1\n",
       "Argentina                 86.082773   21.234572           3419\n",
       "Australia                 87.943835   31.630407           3098\n",
       "Austria                   89.337093   31.091479           1596\n",
       "Bosnia and Herzegovina    85.333333   12.666667              3\n",
       "Brazil                    83.428571   20.928571             14\n",
       "Bulgaria                  85.767857   11.678571             56\n",
       "Canada                    88.716216   36.040541            148\n",
       "Chile                     86.281892   19.777027           3700\n",
       "China                     82.000000   17.000000              2\n",
       "Croatia                   86.746269   23.089552             67\n",
       "Cyprus                    86.066667   15.533333             15\n",
       "Czech Republic            85.833333   18.000000              6\n",
       "England                   92.750000   47.500000              8\n",
       "France                    88.632266   44.910644          10184\n",
       "Georgia                   85.566667   18.266667             30\n",
       "Germany                   88.831309   42.537787           1482\n",
       "Greece                    86.213084   22.214953            535\n",
       "Hungary                   87.652174   47.166667            138\n",
       "India                     88.428571   13.000000              7\n",
       "Israel                    87.415254   30.853107            354\n",
       "Italy                     88.450379   37.896066          12152\n",
       "Japan                     85.000000   24.000000              1\n",
       "Lebanon                   85.851852   27.111111             27\n",
       "Lithuania                 84.250000   10.000000              4\n",
       "Luxembourg                87.000000   40.666667              3\n",
       "Macedonia                 85.333333   15.333333             12\n",
       "Mexico                    85.092593   29.759259             54\n",
       "Moldova                   85.282609   16.173913             46\n",
       "Montenegro                82.000000   10.000000              1\n",
       "Morocco                   88.272727   19.181818             11\n",
       "New Zealand               87.600917   24.594037           1744\n",
       "Portugal                  88.256787   27.619222           2726\n",
       "Romania                   85.254717   16.292453            106\n",
       "Serbia                    87.700000   24.700000             10\n",
       "Slovakia                  84.500000   15.500000              2\n",
       "Slovenia                  88.200000   27.800000             65\n",
       "South Africa              87.240437   21.581967           1464\n",
       "South Korea               81.500000   13.500000              2\n",
       "Spain                     86.752328   27.928864           5370\n",
       "Switzerland               87.250000   26.500000              4\n",
       "Turkey                    88.200000   26.866667             45\n",
       "US                        87.906763   34.122366          40338\n",
       "US-France                 88.000000   50.000000              1\n",
       "Ukraine                   84.600000   13.000000              5\n",
       "Uruguay                   84.775510   24.387755             49"
      ]
     },
     "execution_count": 19,
     "metadata": {},
     "output_type": "execute_result"
    }
   ],
   "source": [
    "country"
   ]
  },
  {
   "cell_type": "markdown",
   "metadata": {
    "_cell_guid": "4e1ffdc3-3e85-46ed-98cd-c3ef48be6332",
    "_uuid": "e2c113645299037ca4fe10fb7ad955aa7f908916"
   },
   "source": [
    "**Drop countries with count of <30 wines options**"
   ]
  },
  {
   "cell_type": "code",
   "execution_count": 20,
   "metadata": {
    "_cell_guid": "3658b0a2-b50b-4291-bc9c-7d992e237fd6",
    "_uuid": "d943122c596ae124f6558c00f2db33c46cd45698",
    "collapsed": true
   },
   "outputs": [],
   "source": [
    "country= country[country['Count of Wine']>=30]"
   ]
  },
  {
   "cell_type": "code",
   "execution_count": 21,
   "metadata": {
    "_cell_guid": "0cb6cbcb-323d-4fd8-9f5c-960611418620",
    "_uuid": "54123fbca14d25a05aecb93b1f51d6d8e2f6df6a",
    "collapsed": false
   },
   "outputs": [
    {
     "data": {
      "text/plain": [
       "(25, 3)"
      ]
     },
     "execution_count": 21,
     "metadata": {},
     "output_type": "execute_result"
    }
   ],
   "source": [
    "country.shape"
   ]
  },
  {
   "cell_type": "code",
   "execution_count": 22,
   "metadata": {
    "_cell_guid": "a6762bd6-67aa-4927-939e-6d22f7239e95",
    "_uuid": "9b0f740217cba0e7efb3ed89b462b6d5c532f90c",
    "collapsed": false
   },
   "outputs": [
    {
     "name": "stderr",
     "output_type": "stream",
     "text": [
      "/Users/esther/anaconda/lib/python2.7/site-packages/ipykernel/__main__.py:1: SettingWithCopyWarning:\n",
      "\n",
      "\n",
      "A value is trying to be set on a copy of a slice from a DataFrame\n",
      "\n",
      "See the caveats in the documentation: http://pandas.pydata.org/pandas-docs/stable/indexing.html#indexing-view-versus-copy\n",
      "\n"
     ]
    }
   ],
   "source": [
    "country.sort_values(by=['Avg. Points'],inplace=True)"
   ]
  },
  {
   "cell_type": "markdown",
   "metadata": {
    "_cell_guid": "d776239a-09d3-4985-b109-d15673f4ff32",
    "_uuid": "8309fbfe65e46b79ab261f389441b95d01718aa7"
   },
   "source": [
    "**Plot Points/Price per Country**\n",
    "\n",
    "Bar graph is sorted by country points: low to high\n",
    "\n",
    "Wine from New Zealand or South Africa is the best bang for your buck!"
   ]
  },
  {
   "cell_type": "code",
   "execution_count": 23,
   "metadata": {
    "_cell_guid": "71da475c-cba9-458d-857b-f534ceed6e1a",
    "_uuid": "ead7eb17932ff547e2b0c40654a6a46e2f996638",
    "collapsed": false
   },
   "outputs": [
    {
     "data": {
      "text/html": [
       "<script>requirejs.config({paths: { 'plotly': ['https://cdn.plot.ly/plotly-latest.min']},});if(!window.Plotly) {{require(['plotly'],function(plotly) {window.Plotly=plotly;});}}</script>"
      ],
      "text/vnd.plotly.v1+html": [
       "<script>requirejs.config({paths: { 'plotly': ['https://cdn.plot.ly/plotly-latest.min']},});if(!window.Plotly) {{require(['plotly'],function(plotly) {window.Plotly=plotly;});}}</script>"
      ]
     },
     "metadata": {},
     "output_type": "display_data"
    },
    {
     "data": {
      "application/vnd.plotly.v1+json": {
       "data": [
        {
         "name": "Avg. Points",
         "type": "bar",
         "x": [
          "Uruguay",
          "Mexico",
          "Romania",
          "Moldova",
          "Georgia",
          "Bulgaria",
          "Argentina",
          "Greece",
          "Chile",
          "Croatia",
          "Spain",
          "South Africa",
          "Israel",
          "New Zealand",
          "Hungary",
          "US",
          "Australia",
          "Turkey",
          "Slovenia",
          "Portugal",
          "Italy",
          "France",
          "Canada",
          "Germany",
          "Austria"
         ],
         "y": [
          84.77551020408163,
          85.0925925925926,
          85.25471698113208,
          85.28260869565217,
          85.56666666666666,
          85.76785714285714,
          86.08277274056742,
          86.21308411214953,
          86.28189189189189,
          86.74626865671642,
          86.75232774674116,
          87.24043715846994,
          87.41525423728814,
          87.60091743119266,
          87.65217391304348,
          87.90676285388467,
          87.94383473208522,
          88.2,
          88.2,
          88.25678650036684,
          88.45037853851218,
          88.63226630007856,
          88.71621621621621,
          88.83130904183535,
          89.33709273182957
         ]
        },
        {
         "name": "Avg. Price",
         "type": "bar",
         "x": [
          "Uruguay",
          "Mexico",
          "Romania",
          "Moldova",
          "Georgia",
          "Bulgaria",
          "Argentina",
          "Greece",
          "Chile",
          "Croatia",
          "Spain",
          "South Africa",
          "Israel",
          "New Zealand",
          "Hungary",
          "US",
          "Australia",
          "Turkey",
          "Slovenia",
          "Portugal",
          "Italy",
          "France",
          "Canada",
          "Germany",
          "Austria"
         ],
         "y": [
          24.387755102040817,
          29.75925925925926,
          16.29245283018868,
          16.17391304347826,
          18.266666666666666,
          11.678571428571429,
          21.234571512138054,
          22.214953271028037,
          19.777027027027028,
          23.08955223880597,
          27.928864059590317,
          21.581967213114755,
          30.853107344632768,
          24.594036697247706,
          47.166666666666664,
          34.12236600723883,
          31.630406714009037,
          26.866666666666667,
          27.8,
          27.619222303741747,
          37.89606649111258,
          44.91064414768264,
          36.04054054054054,
          42.53778677462888,
          31.091478696741856
         ]
        }
       ],
       "layout": {
        "barmode": "stack"
       }
      },
      "text/html": [
       "<div id=\"eae66ca8-99ba-4faa-a9b3-3f1dd42bfb5b\" style=\"height: 525px; width: 100%;\" class=\"plotly-graph-div\"></div><script type=\"text/javascript\">require([\"plotly\"], function(Plotly) { window.PLOTLYENV=window.PLOTLYENV || {};window.PLOTLYENV.BASE_URL=\"https://plot.ly\";Plotly.newPlot(\"eae66ca8-99ba-4faa-a9b3-3f1dd42bfb5b\", [{\"y\": [84.77551020408163, 85.0925925925926, 85.25471698113208, 85.28260869565217, 85.56666666666666, 85.76785714285714, 86.08277274056742, 86.21308411214953, 86.28189189189189, 86.74626865671642, 86.75232774674116, 87.24043715846994, 87.41525423728814, 87.60091743119266, 87.65217391304348, 87.90676285388467, 87.94383473208522, 88.2, 88.2, 88.25678650036684, 88.45037853851218, 88.63226630007856, 88.71621621621621, 88.83130904183535, 89.33709273182957], \"x\": [\"Uruguay\", \"Mexico\", \"Romania\", \"Moldova\", \"Georgia\", \"Bulgaria\", \"Argentina\", \"Greece\", \"Chile\", \"Croatia\", \"Spain\", \"South Africa\", \"Israel\", \"New Zealand\", \"Hungary\", \"US\", \"Australia\", \"Turkey\", \"Slovenia\", \"Portugal\", \"Italy\", \"France\", \"Canada\", \"Germany\", \"Austria\"], \"type\": \"bar\", \"name\": \"Avg. Points\"}, {\"y\": [24.387755102040817, 29.75925925925926, 16.29245283018868, 16.17391304347826, 18.266666666666666, 11.678571428571429, 21.234571512138054, 22.214953271028037, 19.777027027027028, 23.08955223880597, 27.928864059590317, 21.581967213114755, 30.853107344632768, 24.594036697247706, 47.166666666666664, 34.12236600723883, 31.630406714009037, 26.866666666666667, 27.8, 27.619222303741747, 37.89606649111258, 44.91064414768264, 36.04054054054054, 42.53778677462888, 31.091478696741856], \"x\": [\"Uruguay\", \"Mexico\", \"Romania\", \"Moldova\", \"Georgia\", \"Bulgaria\", \"Argentina\", \"Greece\", \"Chile\", \"Croatia\", \"Spain\", \"South Africa\", \"Israel\", \"New Zealand\", \"Hungary\", \"US\", \"Australia\", \"Turkey\", \"Slovenia\", \"Portugal\", \"Italy\", \"France\", \"Canada\", \"Germany\", \"Austria\"], \"type\": \"bar\", \"name\": \"Avg. Price\"}], {\"barmode\": \"stack\"}, {\"linkText\": \"Export to plot.ly\", \"showLink\": true})});</script>"
      ],
      "text/vnd.plotly.v1+html": [
       "<div id=\"eae66ca8-99ba-4faa-a9b3-3f1dd42bfb5b\" style=\"height: 525px; width: 100%;\" class=\"plotly-graph-div\"></div><script type=\"text/javascript\">require([\"plotly\"], function(Plotly) { window.PLOTLYENV=window.PLOTLYENV || {};window.PLOTLYENV.BASE_URL=\"https://plot.ly\";Plotly.newPlot(\"eae66ca8-99ba-4faa-a9b3-3f1dd42bfb5b\", [{\"y\": [84.77551020408163, 85.0925925925926, 85.25471698113208, 85.28260869565217, 85.56666666666666, 85.76785714285714, 86.08277274056742, 86.21308411214953, 86.28189189189189, 86.74626865671642, 86.75232774674116, 87.24043715846994, 87.41525423728814, 87.60091743119266, 87.65217391304348, 87.90676285388467, 87.94383473208522, 88.2, 88.2, 88.25678650036684, 88.45037853851218, 88.63226630007856, 88.71621621621621, 88.83130904183535, 89.33709273182957], \"x\": [\"Uruguay\", \"Mexico\", \"Romania\", \"Moldova\", \"Georgia\", \"Bulgaria\", \"Argentina\", \"Greece\", \"Chile\", \"Croatia\", \"Spain\", \"South Africa\", \"Israel\", \"New Zealand\", \"Hungary\", \"US\", \"Australia\", \"Turkey\", \"Slovenia\", \"Portugal\", \"Italy\", \"France\", \"Canada\", \"Germany\", \"Austria\"], \"type\": \"bar\", \"name\": \"Avg. Points\"}, {\"y\": [24.387755102040817, 29.75925925925926, 16.29245283018868, 16.17391304347826, 18.266666666666666, 11.678571428571429, 21.234571512138054, 22.214953271028037, 19.777027027027028, 23.08955223880597, 27.928864059590317, 21.581967213114755, 30.853107344632768, 24.594036697247706, 47.166666666666664, 34.12236600723883, 31.630406714009037, 26.866666666666667, 27.8, 27.619222303741747, 37.89606649111258, 44.91064414768264, 36.04054054054054, 42.53778677462888, 31.091478696741856], \"x\": [\"Uruguay\", \"Mexico\", \"Romania\", \"Moldova\", \"Georgia\", \"Bulgaria\", \"Argentina\", \"Greece\", \"Chile\", \"Croatia\", \"Spain\", \"South Africa\", \"Israel\", \"New Zealand\", \"Hungary\", \"US\", \"Australia\", \"Turkey\", \"Slovenia\", \"Portugal\", \"Italy\", \"France\", \"Canada\", \"Germany\", \"Austria\"], \"type\": \"bar\", \"name\": \"Avg. Price\"}], {\"barmode\": \"stack\"}, {\"linkText\": \"Export to plot.ly\", \"showLink\": true})});</script>"
      ]
     },
     "metadata": {},
     "output_type": "display_data"
    }
   ],
   "source": [
    "import plotly.offline as py\n",
    "from plotly.offline import iplot\n",
    "py.offline.init_notebook_mode(connected=True)\n",
    "import plotly.graph_objs as go\n",
    "\n",
    "trace1 = go.Bar(\n",
    "    x= country.index,\n",
    "    y= country['Avg. Points'],\n",
    "    name='Avg. Points'\n",
    ")\n",
    "\n",
    "trace2= go.Bar(\n",
    "    x= country.index,\n",
    "    y= country['Avg. Price'],\n",
    "    name='Avg. Price'\n",
    ")\n",
    "\n",
    "data=[trace1, trace2]\n",
    "layout=go.Layout(\n",
    "    barmode='stack')\n",
    "\n",
    "fig=go.Figure(data=data, layout=layout)\n",
    "py.iplot(fig, filename='stacked-bar')"
   ]
  },
  {
   "cell_type": "code",
   "execution_count": null,
   "metadata": {
    "_uuid": "98616231bc0918b810503acc8a9d2ce8dca5dac3",
    "collapsed": true
   },
   "outputs": [],
   "source": []
  }
 ],
 "metadata": {
  "anaconda-cloud": {},
  "kernelspec": {
   "display_name": "Python [Root]",
   "language": "python",
   "name": "Python [Root]"
  },
  "language_info": {
   "codemirror_mode": {
    "name": "ipython",
    "version": 2
   },
   "file_extension": ".py",
   "mimetype": "text/x-python",
   "name": "python",
   "nbconvert_exporter": "python",
   "pygments_lexer": "ipython2",
   "version": "2.7.12"
  }
 },
 "nbformat": 4,
 "nbformat_minor": 1
}
