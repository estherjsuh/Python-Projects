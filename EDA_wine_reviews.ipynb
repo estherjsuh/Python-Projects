{
  "cells": [
    {
      "metadata": {
        "_uuid": "62255da77cf9561fa413c718bd1ab275143cc631"
      },
      "cell_type": "markdown",
      "source": "# Wine Reviews Project \n\n## Exploratory Data Analysis "
    },
    {
      "metadata": {
        "_uuid": "8848489c97e03206998844b00480e9fc13e07f0f"
      },
      "cell_type": "markdown",
      "source": "**Read in Data**"
    },
    {
      "metadata": {
        "_cell_guid": "79c7e3d0-c299-4dcb-8224-4455121ee9b0",
        "_uuid": "d629ff2d2480ee46fbb7e2d37f6b5fab8052498a",
        "trusted": true,
        "collapsed": true
      },
      "cell_type": "code",
      "source": "import numpy as np\nimport pandas as pd\nimport matplotlib.pyplot as plt\nimport seaborn as sns\n%matplotlib inline",
      "execution_count": 162,
      "outputs": []
    },
    {
      "metadata": {
        "trusted": true,
        "_uuid": "a3f4b58682dcabd06620ee69db1d81e20dd5f345"
      },
      "cell_type": "code",
      "source": "data = pd.read_csv('../input/winemag-data_first150k.csv', index_col=0)\ndata.shape",
      "execution_count": 163,
      "outputs": [
        {
          "data": {
            "text/plain": "(150930, 10)"
          },
          "execution_count": 163,
          "metadata": {},
          "output_type": "execute_result"
        }
      ]
    },
    {
      "metadata": {
        "_uuid": "6d23053e77e2e442b9f08bb044b4b4b9137a4748"
      },
      "cell_type": "markdown",
      "source": "**Remove Duplicates**\n\n53,109 rows removed"
    },
    {
      "metadata": {
        "trusted": true,
        "_uuid": "e8aa173732b6f25d9b4586e8c7d21ea28ae40f6a"
      },
      "cell_type": "code",
      "source": "data = data.drop_duplicates('description')\ndata.shape",
      "execution_count": 164,
      "outputs": [
        {
          "data": {
            "text/plain": "(97821, 10)"
          },
          "execution_count": 164,
          "metadata": {},
          "output_type": "execute_result"
        }
      ]
    },
    {
      "metadata": {
        "trusted": true,
        "_uuid": "086bba4e630d7710bcb20f12a5838e5f75e189ac"
      },
      "cell_type": "code",
      "source": "data.head()",
      "execution_count": 165,
      "outputs": [
        {
          "data": {
            "text/html": "<div>\n<style scoped>\n    .dataframe tbody tr th:only-of-type {\n        vertical-align: middle;\n    }\n\n    .dataframe tbody tr th {\n        vertical-align: top;\n    }\n\n    .dataframe thead th {\n        text-align: right;\n    }\n</style>\n<table border=\"1\" class=\"dataframe\">\n  <thead>\n    <tr style=\"text-align: right;\">\n      <th></th>\n      <th>country</th>\n      <th>description</th>\n      <th>designation</th>\n      <th>points</th>\n      <th>price</th>\n      <th>province</th>\n      <th>region_1</th>\n      <th>region_2</th>\n      <th>variety</th>\n      <th>winery</th>\n    </tr>\n  </thead>\n  <tbody>\n    <tr>\n      <th>0</th>\n      <td>US</td>\n      <td>This tremendous 100% varietal wine hails from ...</td>\n      <td>Martha's Vineyard</td>\n      <td>96</td>\n      <td>235.0</td>\n      <td>California</td>\n      <td>Napa Valley</td>\n      <td>Napa</td>\n      <td>Cabernet Sauvignon</td>\n      <td>Heitz</td>\n    </tr>\n    <tr>\n      <th>1</th>\n      <td>Spain</td>\n      <td>Ripe aromas of fig, blackberry and cassis are ...</td>\n      <td>Carodorum Selección Especial Reserva</td>\n      <td>96</td>\n      <td>110.0</td>\n      <td>Northern Spain</td>\n      <td>Toro</td>\n      <td>NaN</td>\n      <td>Tinta de Toro</td>\n      <td>Bodega Carmen Rodríguez</td>\n    </tr>\n    <tr>\n      <th>2</th>\n      <td>US</td>\n      <td>Mac Watson honors the memory of a wine once ma...</td>\n      <td>Special Selected Late Harvest</td>\n      <td>96</td>\n      <td>90.0</td>\n      <td>California</td>\n      <td>Knights Valley</td>\n      <td>Sonoma</td>\n      <td>Sauvignon Blanc</td>\n      <td>Macauley</td>\n    </tr>\n    <tr>\n      <th>3</th>\n      <td>US</td>\n      <td>This spent 20 months in 30% new French oak, an...</td>\n      <td>Reserve</td>\n      <td>96</td>\n      <td>65.0</td>\n      <td>Oregon</td>\n      <td>Willamette Valley</td>\n      <td>Willamette Valley</td>\n      <td>Pinot Noir</td>\n      <td>Ponzi</td>\n    </tr>\n    <tr>\n      <th>4</th>\n      <td>France</td>\n      <td>This is the top wine from La Bégude, named aft...</td>\n      <td>La Brûlade</td>\n      <td>95</td>\n      <td>66.0</td>\n      <td>Provence</td>\n      <td>Bandol</td>\n      <td>NaN</td>\n      <td>Provence red blend</td>\n      <td>Domaine de la Bégude</td>\n    </tr>\n  </tbody>\n</table>\n</div>",
            "text/plain": "  country                                        description  \\\n0      US  This tremendous 100% varietal wine hails from ...   \n1   Spain  Ripe aromas of fig, blackberry and cassis are ...   \n2      US  Mac Watson honors the memory of a wine once ma...   \n3      US  This spent 20 months in 30% new French oak, an...   \n4  France  This is the top wine from La Bégude, named aft...   \n\n                            designation  points  price        province  \\\n0                     Martha's Vineyard      96  235.0      California   \n1  Carodorum Selección Especial Reserva      96  110.0  Northern Spain   \n2         Special Selected Late Harvest      96   90.0      California   \n3                               Reserve      96   65.0          Oregon   \n4                            La Brûlade      95   66.0        Provence   \n\n            region_1           region_2             variety  \\\n0        Napa Valley               Napa  Cabernet Sauvignon   \n1               Toro                NaN       Tinta de Toro   \n2     Knights Valley             Sonoma     Sauvignon Blanc   \n3  Willamette Valley  Willamette Valley          Pinot Noir   \n4             Bandol                NaN  Provence red blend   \n\n                    winery  \n0                    Heitz  \n1  Bodega Carmen Rodríguez  \n2                 Macauley  \n3                    Ponzi  \n4     Domaine de la Bégude  "
          },
          "execution_count": 165,
          "metadata": {},
          "output_type": "execute_result"
        }
      ]
    },
    {
      "metadata": {
        "trusted": true,
        "_uuid": "788f8bba1cea0d6dbb69ea088578fcf4b26ef284"
      },
      "cell_type": "code",
      "source": "data.isnull().sum()",
      "execution_count": 166,
      "outputs": [
        {
          "data": {
            "text/plain": "country            3\ndescription        0\ndesignation    29885\npoints             0\nprice           8713\nprovince           3\nregion_1       15926\nregion_2       58343\nvariety            0\nwinery             0\ndtype: int64"
          },
          "execution_count": 166,
          "metadata": {},
          "output_type": "execute_result"
        }
      ]
    },
    {
      "metadata": {
        "trusted": true,
        "_uuid": "e61d9a47c9a2269fbb19f8cdd3550c2779b20729"
      },
      "cell_type": "code",
      "source": "data.dtypes",
      "execution_count": 167,
      "outputs": [
        {
          "data": {
            "text/plain": "country         object\ndescription     object\ndesignation     object\npoints           int64\nprice          float64\nprovince        object\nregion_1        object\nregion_2        object\nvariety         object\nwinery          object\ndtype: object"
          },
          "execution_count": 167,
          "metadata": {},
          "output_type": "execute_result"
        }
      ]
    },
    {
      "metadata": {
        "_uuid": "f52f209449899ee97f02b472c90105975cc768a9"
      },
      "cell_type": "markdown",
      "source": "**Drop null values from price & country columns only**"
    },
    {
      "metadata": {
        "trusted": true,
        "_uuid": "889fb418dd4e5e3a73f718e4746f517f66344cfa"
      },
      "cell_type": "code",
      "source": "data.dropna(subset=['price','country'],inplace=True)\ndata.shape",
      "execution_count": 168,
      "outputs": [
        {
          "data": {
            "text/plain": "(89105, 10)"
          },
          "execution_count": 168,
          "metadata": {},
          "output_type": "execute_result"
        }
      ]
    },
    {
      "metadata": {
        "_uuid": "6331dc4d3bc8539a9b86c1792b2f84cc7da48d0e"
      },
      "cell_type": "markdown",
      "source": "**Plot histogram to analyze the frequency of variables**\n\nPoints (or ratings) are on the higher spectrum, considering that the wines were reviewed by [Wine Enthusiasts](https://www.winemag.com/)"
    },
    {
      "metadata": {
        "trusted": true,
        "_uuid": "6fe7cd596bee441373f90b2d704631c9377647b2"
      },
      "cell_type": "code",
      "source": "sns.set_style('whitegrid')\nplt.figure(figsize=(10,6))\ndata['points'].hist(bins=30, alpha=.65)\nplt.xlabel('Points')",
      "execution_count": 169,
      "outputs": [
        {
          "data": {
            "text/plain": "Text(0.5,0,'Points')"
          },
          "execution_count": 169,
          "metadata": {},
          "output_type": "execute_result"
        },
        {
          "data": {
            "image/png": "[encoded data removed]",
            "text/plain": "<matplotlib.figure.Figure at 0x7f0105c23e80>"
          },
          "metadata": {},
          "output_type": "display_data"
        }
      ]
    },
    {
      "metadata": {
        "trusted": true,
        "_uuid": "2d1bee13aef8141ccd7680c08ec72ad4de61946d"
      },
      "cell_type": "code",
      "source": "plt.figure(figsize=(10,6))\ndata['price'].hist(bins=50, alpha=.65)\nplt.xlabel('Price $')",
      "execution_count": 170,
      "outputs": [
        {
          "data": {
            "text/plain": "Text(0.5,0,'Price $')"
          },
          "execution_count": 170,
          "metadata": {},
          "output_type": "execute_result"
        },
        {
          "data": {
            "image/png": "[encoded data removed]",
            "text/plain": "<matplotlib.figure.Figure at 0x7f00fa820e10>"
          },
          "metadata": {},
          "output_type": "display_data"
        }
      ]
    },
    {
      "metadata": {
        "_uuid": "ad53d3b4b216ef12edc77ddad238c5b0e9b2f2ea"
      },
      "cell_type": "markdown",
      "source": "**Round wine prices to nearest tens**\n\nThe histogram (above) for wine prices seemed vague (range $0-100), so prices have been rounded to the nearest tens & re-plotted.\n\nThe bar graph below shows that most wine prices range between $20-30."
    },
    {
      "metadata": {
        "trusted": true,
        "collapsed": true,
        "_uuid": "d8e4ccbbab1ef8332da7f3c8309fc369ec7cd889"
      },
      "cell_type": "code",
      "source": "import math\ndata['rounded_price']= data['price'].apply(lambda x: math.ceil(x/10.0)*10)",
      "execution_count": 171,
      "outputs": []
    },
    {
      "metadata": {
        "trusted": true,
        "_uuid": "63ca25d3a8702e07247d843ada8c74a1a47f8b06"
      },
      "cell_type": "code",
      "source": "plt.figure(figsize=(20,10))\ndata['rounded_price'].value_counts().sort_index().plot.bar()\nplt.xlabel('Rounded Price $')\nplt.ylabel('count')",
      "execution_count": 205,
      "outputs": [
        {
          "data": {
            "text/plain": "Text(0,0.5,'count')"
          },
          "execution_count": 205,
          "metadata": {},
          "output_type": "execute_result"
        },
        {
          "data": {
            "image/png": "[encoded data removed]",
            "text/plain": "<matplotlib.figure.Figure at 0x7f01013d1eb8>"
          },
          "metadata": {},
          "output_type": "display_data"
        }
      ]
    },
    {
      "metadata": {
        "_uuid": "f462cb4cf009d59c67631571144cc1392568a3fe"
      },
      "cell_type": "markdown",
      "source": "**Analyze wine from countries**"
    },
    {
      "metadata": {
        "trusted": true,
        "_uuid": "d8a6cac01710bee78faffdf7197a5010bc677078"
      },
      "cell_type": "code",
      "source": "print('Countries in dataset: ' + '\\n' + str(list(data['country'].unique())))\nprint('\\n')\nprint('Number of unique Countries in dataset: ' + str(data['country'].nunique()))",
      "execution_count": 152,
      "outputs": [
        {
          "name": "stdout",
          "output_type": "stream",
          "text": "Countries in dataset: \n['US', 'Spain', 'France', 'Italy', 'New Zealand', 'Bulgaria', 'Argentina', 'Australia', 'Portugal', 'Israel', 'South Africa', 'Greece', 'Chile', 'Morocco', 'Romania', 'Germany', 'Canada', 'Moldova', 'Hungary', 'Austria', 'Croatia', 'Slovenia', 'India', 'Turkey', 'Macedonia', 'Lebanon', 'Serbia', 'Uruguay', 'Switzerland', 'Albania', 'Bosnia and Herzegovina', 'Brazil', 'Cyprus', 'Lithuania', 'Japan', 'China', 'South Korea', 'Ukraine', 'England', 'Mexico', 'Georgia', 'Montenegro', 'Luxembourg', 'Slovakia', 'Czech Republic', 'US-France']\n\n\nNumber of unique Countries in dataset: 46\n"
        }
      ]
    },
    {
      "metadata": {
        "trusted": true,
        "collapsed": true,
        "_uuid": "9a1317ec2f32ddbfca69e1ff7343783d229581b7"
      },
      "cell_type": "code",
      "source": "df = pd.DataFrame(data.groupby('country')['points','price'].mean())\ndf1 = pd.DataFrame(data.groupby('country')['description'].count())\ncountry= df.join(df1)",
      "execution_count": 153,
      "outputs": []
    },
    {
      "metadata": {
        "trusted": true,
        "collapsed": true,
        "_uuid": "2adc8578599611b70fa360e9a94aebcdb003bf13"
      },
      "cell_type": "code",
      "source": "country.columns= ['Avg. Points', 'Avg. Price', 'Count of Wine']",
      "execution_count": 154,
      "outputs": []
    },
    {
      "metadata": {
        "trusted": true,
        "_uuid": "f06cfc11213a89372d03cb8c3fb49d375b4d7eea"
      },
      "cell_type": "code",
      "source": "country",
      "execution_count": 155,
      "outputs": [
        {
          "data": {
            "text/html": "<div>\n<style scoped>\n    .dataframe tbody tr th:only-of-type {\n        vertical-align: middle;\n    }\n\n    .dataframe tbody tr th {\n        vertical-align: top;\n    }\n\n    .dataframe thead th {\n        text-align: right;\n    }\n</style>\n<table border=\"1\" class=\"dataframe\">\n  <thead>\n    <tr style=\"text-align: right;\">\n      <th></th>\n      <th>Avg. Points</th>\n      <th>Avg. Price</th>\n      <th>Count of Wine</th>\n    </tr>\n    <tr>\n      <th>country</th>\n      <th></th>\n      <th></th>\n      <th></th>\n    </tr>\n  </thead>\n  <tbody>\n    <tr>\n      <th>Albania</th>\n      <td>88.000000</td>\n      <td>20.000000</td>\n      <td>1</td>\n    </tr>\n    <tr>\n      <th>Argentina</th>\n      <td>86.082773</td>\n      <td>21.234572</td>\n      <td>3419</td>\n    </tr>\n    <tr>\n      <th>Australia</th>\n      <td>87.943835</td>\n      <td>31.630407</td>\n      <td>3098</td>\n    </tr>\n    <tr>\n      <th>Austria</th>\n      <td>89.337093</td>\n      <td>31.091479</td>\n      <td>1596</td>\n    </tr>\n    <tr>\n      <th>Bosnia and Herzegovina</th>\n      <td>85.333333</td>\n      <td>12.666667</td>\n      <td>3</td>\n    </tr>\n    <tr>\n      <th>Brazil</th>\n      <td>83.428571</td>\n      <td>20.928571</td>\n      <td>14</td>\n    </tr>\n    <tr>\n      <th>Bulgaria</th>\n      <td>85.767857</td>\n      <td>11.678571</td>\n      <td>56</td>\n    </tr>\n    <tr>\n      <th>Canada</th>\n      <td>88.716216</td>\n      <td>36.040541</td>\n      <td>148</td>\n    </tr>\n    <tr>\n      <th>Chile</th>\n      <td>86.281892</td>\n      <td>19.777027</td>\n      <td>3700</td>\n    </tr>\n    <tr>\n      <th>China</th>\n      <td>82.000000</td>\n      <td>17.000000</td>\n      <td>2</td>\n    </tr>\n    <tr>\n      <th>Croatia</th>\n      <td>86.746269</td>\n      <td>23.089552</td>\n      <td>67</td>\n    </tr>\n    <tr>\n      <th>Cyprus</th>\n      <td>86.066667</td>\n      <td>15.533333</td>\n      <td>15</td>\n    </tr>\n    <tr>\n      <th>Czech Republic</th>\n      <td>85.833333</td>\n      <td>18.000000</td>\n      <td>6</td>\n    </tr>\n    <tr>\n      <th>England</th>\n      <td>92.750000</td>\n      <td>47.500000</td>\n      <td>8</td>\n    </tr>\n    <tr>\n      <th>France</th>\n      <td>88.632266</td>\n      <td>44.910644</td>\n      <td>10184</td>\n    </tr>\n    <tr>\n      <th>Georgia</th>\n      <td>85.566667</td>\n      <td>18.266667</td>\n      <td>30</td>\n    </tr>\n    <tr>\n      <th>Germany</th>\n      <td>88.831309</td>\n      <td>42.537787</td>\n      <td>1482</td>\n    </tr>\n    <tr>\n      <th>Greece</th>\n      <td>86.213084</td>\n      <td>22.214953</td>\n      <td>535</td>\n    </tr>\n    <tr>\n      <th>Hungary</th>\n      <td>87.652174</td>\n      <td>47.166667</td>\n      <td>138</td>\n    </tr>\n    <tr>\n      <th>India</th>\n      <td>88.428571</td>\n      <td>13.000000</td>\n      <td>7</td>\n    </tr>\n    <tr>\n      <th>Israel</th>\n      <td>87.415254</td>\n      <td>30.853107</td>\n      <td>354</td>\n    </tr>\n    <tr>\n      <th>Italy</th>\n      <td>88.450379</td>\n      <td>37.896066</td>\n      <td>12152</td>\n    </tr>\n    <tr>\n      <th>Japan</th>\n      <td>85.000000</td>\n      <td>24.000000</td>\n      <td>1</td>\n    </tr>\n    <tr>\n      <th>Lebanon</th>\n      <td>85.851852</td>\n      <td>27.111111</td>\n      <td>27</td>\n    </tr>\n    <tr>\n      <th>Lithuania</th>\n      <td>84.250000</td>\n      <td>10.000000</td>\n      <td>4</td>\n    </tr>\n    <tr>\n      <th>Luxembourg</th>\n      <td>87.000000</td>\n      <td>40.666667</td>\n      <td>3</td>\n    </tr>\n    <tr>\n      <th>Macedonia</th>\n      <td>85.333333</td>\n      <td>15.333333</td>\n      <td>12</td>\n    </tr>\n    <tr>\n      <th>Mexico</th>\n      <td>85.092593</td>\n      <td>29.759259</td>\n      <td>54</td>\n    </tr>\n    <tr>\n      <th>Moldova</th>\n      <td>85.282609</td>\n      <td>16.173913</td>\n      <td>46</td>\n    </tr>\n    <tr>\n      <th>Montenegro</th>\n      <td>82.000000</td>\n      <td>10.000000</td>\n      <td>1</td>\n    </tr>\n    <tr>\n      <th>Morocco</th>\n      <td>88.272727</td>\n      <td>19.181818</td>\n      <td>11</td>\n    </tr>\n    <tr>\n      <th>New Zealand</th>\n      <td>87.600917</td>\n      <td>24.594037</td>\n      <td>1744</td>\n    </tr>\n    <tr>\n      <th>Portugal</th>\n      <td>88.256787</td>\n      <td>27.619222</td>\n      <td>2726</td>\n    </tr>\n    <tr>\n      <th>Romania</th>\n      <td>85.254717</td>\n      <td>16.292453</td>\n      <td>106</td>\n    </tr>\n    <tr>\n      <th>Serbia</th>\n      <td>87.700000</td>\n      <td>24.700000</td>\n      <td>10</td>\n    </tr>\n    <tr>\n      <th>Slovakia</th>\n      <td>84.500000</td>\n      <td>15.500000</td>\n      <td>2</td>\n    </tr>\n    <tr>\n      <th>Slovenia</th>\n      <td>88.200000</td>\n      <td>27.800000</td>\n      <td>65</td>\n    </tr>\n    <tr>\n      <th>South Africa</th>\n      <td>87.240437</td>\n      <td>21.581967</td>\n      <td>1464</td>\n    </tr>\n    <tr>\n      <th>South Korea</th>\n      <td>81.500000</td>\n      <td>13.500000</td>\n      <td>2</td>\n    </tr>\n    <tr>\n      <th>Spain</th>\n      <td>86.752328</td>\n      <td>27.928864</td>\n      <td>5370</td>\n    </tr>\n    <tr>\n      <th>Switzerland</th>\n      <td>87.250000</td>\n      <td>26.500000</td>\n      <td>4</td>\n    </tr>\n    <tr>\n      <th>Turkey</th>\n      <td>88.200000</td>\n      <td>26.866667</td>\n      <td>45</td>\n    </tr>\n    <tr>\n      <th>US</th>\n      <td>87.906763</td>\n      <td>34.122366</td>\n      <td>40338</td>\n    </tr>\n    <tr>\n      <th>US-France</th>\n      <td>88.000000</td>\n      <td>50.000000</td>\n      <td>1</td>\n    </tr>\n    <tr>\n      <th>Ukraine</th>\n      <td>84.600000</td>\n      <td>13.000000</td>\n      <td>5</td>\n    </tr>\n    <tr>\n      <th>Uruguay</th>\n      <td>84.775510</td>\n      <td>24.387755</td>\n      <td>49</td>\n    </tr>\n  </tbody>\n</table>\n</div>",
            "text/plain": "                        Avg. Points  Avg. Price  Count of Wine\ncountry                                                       \nAlbania                   88.000000   20.000000              1\nArgentina                 86.082773   21.234572           3419\nAustralia                 87.943835   31.630407           3098\nAustria                   89.337093   31.091479           1596\nBosnia and Herzegovina    85.333333   12.666667              3\nBrazil                    83.428571   20.928571             14\nBulgaria                  85.767857   11.678571             56\nCanada                    88.716216   36.040541            148\nChile                     86.281892   19.777027           3700\nChina                     82.000000   17.000000              2\nCroatia                   86.746269   23.089552             67\nCyprus                    86.066667   15.533333             15\nCzech Republic            85.833333   18.000000              6\nEngland                   92.750000   47.500000              8\nFrance                    88.632266   44.910644          10184\nGeorgia                   85.566667   18.266667             30\nGermany                   88.831309   42.537787           1482\nGreece                    86.213084   22.214953            535\nHungary                   87.652174   47.166667            138\nIndia                     88.428571   13.000000              7\nIsrael                    87.415254   30.853107            354\nItaly                     88.450379   37.896066          12152\nJapan                     85.000000   24.000000              1\nLebanon                   85.851852   27.111111             27\nLithuania                 84.250000   10.000000              4\nLuxembourg                87.000000   40.666667              3\nMacedonia                 85.333333   15.333333             12\nMexico                    85.092593   29.759259             54\nMoldova                   85.282609   16.173913             46\nMontenegro                82.000000   10.000000              1\nMorocco                   88.272727   19.181818             11\nNew Zealand               87.600917   24.594037           1744\nPortugal                  88.256787   27.619222           2726\nRomania                   85.254717   16.292453            106\nSerbia                    87.700000   24.700000             10\nSlovakia                  84.500000   15.500000              2\nSlovenia                  88.200000   27.800000             65\nSouth Africa              87.240437   21.581967           1464\nSouth Korea               81.500000   13.500000              2\nSpain                     86.752328   27.928864           5370\nSwitzerland               87.250000   26.500000              4\nTurkey                    88.200000   26.866667             45\nUS                        87.906763   34.122366          40338\nUS-France                 88.000000   50.000000              1\nUkraine                   84.600000   13.000000              5\nUruguay                   84.775510   24.387755             49"
          },
          "execution_count": 155,
          "metadata": {},
          "output_type": "execute_result"
        }
      ]
    },
    {
      "metadata": {
        "_uuid": "3cbecd8e5e3d4a401d42201f2357d40e9b7ba5ec"
      },
      "cell_type": "markdown",
      "source": "**Drop countries with count of <30 wines options**"
    },
    {
      "metadata": {
        "trusted": true,
        "collapsed": true,
        "_uuid": "4d5e62504e7308ad7d4d4ac690468f92f1fc4500"
      },
      "cell_type": "code",
      "source": "country= country[country['Count of Wine']>=30]",
      "execution_count": 156,
      "outputs": []
    },
    {
      "metadata": {
        "trusted": true,
        "_uuid": "a7722d2a079c8a6f9ab218c438380a89800ee46b"
      },
      "cell_type": "code",
      "source": "country.shape",
      "execution_count": 157,
      "outputs": [
        {
          "data": {
            "text/plain": "(25, 3)"
          },
          "execution_count": 157,
          "metadata": {},
          "output_type": "execute_result"
        }
      ]
    },
    {
      "metadata": {
        "trusted": true,
        "_uuid": "ce03ea69202a5c7241828d29dee2042198934c3f"
      },
      "cell_type": "code",
      "source": "country.sort_values(by=['Avg. Points'],inplace=True)",
      "execution_count": 173,
      "outputs": [
        {
          "name": "stderr",
          "output_type": "stream",
          "text": "/opt/conda/lib/python3.6/site-packages/ipykernel_launcher.py:1: SettingWithCopyWarning:\n\n\nA value is trying to be set on a copy of a slice from a DataFrame\n\nSee the caveats in the documentation: http://pandas.pydata.org/pandas-docs/stable/indexing.html#indexing-view-versus-copy\n\n"
        }
      ]
    },
    {
      "metadata": {
        "_uuid": "c9ea3e5ccb530cae2f9b0897b3fe0f09d7a465e5"
      },
      "cell_type": "markdown",
      "source": "**Plot Points/Price per Country**\n\nBar graph is sorted by country points: low to high\n\nWine from New Zealand or South Africa is the best bang for your buck!"
    },
    {
      "metadata": {
        "trusted": true,
        "_uuid": "09ba0015ec99e0ae6a66ef915fe326fb35291f13"
      },
      "cell_type": "code",
      "source": "import plotly.offline as py\npy.init_notebook_mode(connected=True)\nimport plotly.graph_objs as go\n\ntrace1 = go.Bar(\n    x= country.index,\n    y= country['Avg. Points'],\n    name='Avg. Points'\n)\n\ntrace2= go.Bar(\n    x= country.index,\n    y= country['Avg. Price'],\n    name='Avg. Price'\n)\ndata=[trace1, trace2]\nlayout=go.Layout(\n    barmode='stack')\n\nfig=go.Figure(data=data, layout=layout)\npy.iplot(fig, filename='stacked-bar')",
      "execution_count": 159,
      "outputs": [
        {
          "data": {
            "text/html": "<script>requirejs.config({paths: { 'plotly': ['https://cdn.plot.ly/plotly-latest.min']},});if(!window.Plotly) {{require(['plotly'],function(plotly) {window.Plotly=plotly;});}}</script>",
            "text/vnd.plotly.v1+html": "<script>requirejs.config({paths: { 'plotly': ['https://cdn.plot.ly/plotly-latest.min']},});if(!window.Plotly) {{require(['plotly'],function(plotly) {window.Plotly=plotly;});}}</script>"
          },
          "metadata": {},
          "output_type": "display_data"
        },
        {
          "data": {
            "application/vnd.plotly.v1+json": {
              "data": [
                {
                  "name": "Avg. Points",
                  "type": "bar",
                  "x": [
                    "Uruguay",
                    "Mexico",
                    "Romania",
                    "Moldova",
                    "Georgia",
                    "Bulgaria",
                    "Argentina",
                    "Greece",
                    "Chile",
                    "Croatia",
                    "Spain",
                    "South Africa",
                    "Israel",
                    "New Zealand",
                    "Hungary",
                    "US",
                    "Australia",
                    "Turkey",
                    "Slovenia",
                    "Portugal",
                    "Italy",
                    "France",
                    "Canada",
                    "Germany",
                    "Austria"
                  ],
                  "y": [
                    84.77551020408163,
                    85.0925925925926,
                    85.25471698113208,
                    85.28260869565217,
                    85.56666666666666,
                    85.76785714285714,
                    86.08277274056742,
                    86.21308411214953,
                    86.28189189189189,
                    86.74626865671642,
                    86.75232774674116,
                    87.24043715846994,
                    87.41525423728814,
                    87.60091743119266,
                    87.65217391304348,
                    87.90676285388467,
                    87.94383473208522,
                    88.2,
                    88.2,
                    88.25678650036684,
                    88.45037853851218,
                    88.63226630007856,
                    88.71621621621621,
                    88.83130904183535,
                    89.33709273182957
                  ]
                },
                {
                  "name": "Avg. Price",
                  "type": "bar",
                  "x": [
                    "Uruguay",
                    "Mexico",
                    "Romania",
                    "Moldova",
                    "Georgia",
                    "Bulgaria",
                    "Argentina",
                    "Greece",
                    "Chile",
                    "Croatia",
                    "Spain",
                    "South Africa",
                    "Israel",
                    "New Zealand",
                    "Hungary",
                    "US",
                    "Australia",
                    "Turkey",
                    "Slovenia",
                    "Portugal",
                    "Italy",
                    "France",
                    "Canada",
                    "Germany",
                    "Austria"
                  ],
                  "y": [
                    24.387755102040817,
                    29.75925925925926,
                    16.29245283018868,
                    16.17391304347826,
                    18.266666666666666,
                    11.678571428571429,
                    21.234571512138054,
                    22.214953271028037,
                    19.777027027027028,
                    23.08955223880597,
                    27.928864059590317,
                    21.581967213114755,
                    30.853107344632768,
                    24.594036697247706,
                    47.166666666666664,
                    34.12236600723883,
                    31.630406714009037,
                    26.866666666666667,
                    27.8,
                    27.619222303741747,
                    37.89606649111258,
                    44.91064414768264,
                    36.04054054054054,
                    42.53778677462888,
                    31.091478696741856
                  ]
                }
              ],
              "layout": {
                "barmode": "stack"
              }
            },
            "text/html": "<div id=\"e02e961d-c03b-4e76-b76f-010c4a90551e\" style=\"height: 525px; width: 100%;\" class=\"plotly-graph-div\"></div><script type=\"text/javascript\">require([\"plotly\"], function(Plotly) { window.PLOTLYENV=window.PLOTLYENV || {};window.PLOTLYENV.BASE_URL=\"https://plot.ly\";Plotly.newPlot(\"e02e961d-c03b-4e76-b76f-010c4a90551e\", [{\"type\": \"bar\", \"x\": [\"Uruguay\", \"Mexico\", \"Romania\", \"Moldova\", \"Georgia\", \"Bulgaria\", \"Argentina\", \"Greece\", \"Chile\", \"Croatia\", \"Spain\", \"South Africa\", \"Israel\", \"New Zealand\", \"Hungary\", \"US\", \"Australia\", \"Turkey\", \"Slovenia\", \"Portugal\", \"Italy\", \"France\", \"Canada\", \"Germany\", \"Austria\"], \"y\": [84.77551020408163, 85.0925925925926, 85.25471698113208, 85.28260869565217, 85.56666666666666, 85.76785714285714, 86.08277274056742, 86.21308411214953, 86.28189189189189, 86.74626865671642, 86.75232774674116, 87.24043715846994, 87.41525423728814, 87.60091743119266, 87.65217391304348, 87.90676285388467, 87.94383473208522, 88.2, 88.2, 88.25678650036684, 88.45037853851218, 88.63226630007856, 88.71621621621621, 88.83130904183535, 89.33709273182957], \"name\": \"Avg. Points\"}, {\"type\": \"bar\", \"x\": [\"Uruguay\", \"Mexico\", \"Romania\", \"Moldova\", \"Georgia\", \"Bulgaria\", \"Argentina\", \"Greece\", \"Chile\", \"Croatia\", \"Spain\", \"South Africa\", \"Israel\", \"New Zealand\", \"Hungary\", \"US\", \"Australia\", \"Turkey\", \"Slovenia\", \"Portugal\", \"Italy\", \"France\", \"Canada\", \"Germany\", \"Austria\"], \"y\": [24.387755102040817, 29.75925925925926, 16.29245283018868, 16.17391304347826, 18.266666666666666, 11.678571428571429, 21.234571512138054, 22.214953271028037, 19.777027027027028, 23.08955223880597, 27.928864059590317, 21.581967213114755, 30.853107344632768, 24.594036697247706, 47.166666666666664, 34.12236600723883, 31.630406714009037, 26.866666666666667, 27.8, 27.619222303741747, 37.89606649111258, 44.91064414768264, 36.04054054054054, 42.53778677462888, 31.091478696741856], \"name\": \"Avg. Price\"}], {\"barmode\": \"stack\"}, {\"showLink\": true, \"linkText\": \"Export to plot.ly\"})});</script>",
            "text/vnd.plotly.v1+html": "<div id=\"e02e961d-c03b-4e76-b76f-010c4a90551e\" style=\"height: 525px; width: 100%;\" class=\"plotly-graph-div\"></div><script type=\"text/javascript\">require([\"plotly\"], function(Plotly) { window.PLOTLYENV=window.PLOTLYENV || {};window.PLOTLYENV.BASE_URL=\"https://plot.ly\";Plotly.newPlot(\"e02e961d-c03b-4e76-b76f-010c4a90551e\", [{\"type\": \"bar\", \"x\": [\"Uruguay\", \"Mexico\", \"Romania\", \"Moldova\", \"Georgia\", \"Bulgaria\", \"Argentina\", \"Greece\", \"Chile\", \"Croatia\", \"Spain\", \"South Africa\", \"Israel\", \"New Zealand\", \"Hungary\", \"US\", \"Australia\", \"Turkey\", \"Slovenia\", \"Portugal\", \"Italy\", \"France\", \"Canada\", \"Germany\", \"Austria\"], \"y\": [84.77551020408163, 85.0925925925926, 85.25471698113208, 85.28260869565217, 85.56666666666666, 85.76785714285714, 86.08277274056742, 86.21308411214953, 86.28189189189189, 86.74626865671642, 86.75232774674116, 87.24043715846994, 87.41525423728814, 87.60091743119266, 87.65217391304348, 87.90676285388467, 87.94383473208522, 88.2, 88.2, 88.25678650036684, 88.45037853851218, 88.63226630007856, 88.71621621621621, 88.83130904183535, 89.33709273182957], \"name\": \"Avg. Points\"}, {\"type\": \"bar\", \"x\": [\"Uruguay\", \"Mexico\", \"Romania\", \"Moldova\", \"Georgia\", \"Bulgaria\", \"Argentina\", \"Greece\", \"Chile\", \"Croatia\", \"Spain\", \"South Africa\", \"Israel\", \"New Zealand\", \"Hungary\", \"US\", \"Australia\", \"Turkey\", \"Slovenia\", \"Portugal\", \"Italy\", \"France\", \"Canada\", \"Germany\", \"Austria\"], \"y\": [24.387755102040817, 29.75925925925926, 16.29245283018868, 16.17391304347826, 18.266666666666666, 11.678571428571429, 21.234571512138054, 22.214953271028037, 19.777027027027028, 23.08955223880597, 27.928864059590317, 21.581967213114755, 30.853107344632768, 24.594036697247706, 47.166666666666664, 34.12236600723883, 31.630406714009037, 26.866666666666667, 27.8, 27.619222303741747, 37.89606649111258, 44.91064414768264, 36.04054054054054, 42.53778677462888, 31.091478696741856], \"name\": \"Avg. Price\"}], {\"barmode\": \"stack\"}, {\"showLink\": true, \"linkText\": \"Export to plot.ly\"})});</script>"
          },
          "metadata": {},
          "output_type": "display_data"
        }
      ]
    },
    {
      "metadata": {
        "_uuid": "db93653e210110568c3005beb761c21e8b4833de"
      },
      "cell_type": "markdown",
      "source": "**Correlation Coefficient between Price and Points**\n\nSlightly correlated.."
    },
    {
      "metadata": {
        "trusted": true,
        "_uuid": "62c89e24c714f6db9903765bc750d7b99635d59a"
      },
      "cell_type": "code",
      "source": "data[['price','points']].corr()",
      "execution_count": 207,
      "outputs": [
        {
          "output_type": "execute_result",
          "execution_count": 207,
          "data": {
            "text/plain": "           price    points\nprice   1.000000  0.447288\npoints  0.447288  1.000000",
            "text/html": "<div>\n<style scoped>\n    .dataframe tbody tr th:only-of-type {\n        vertical-align: middle;\n    }\n\n    .dataframe tbody tr th {\n        vertical-align: top;\n    }\n\n    .dataframe thead th {\n        text-align: right;\n    }\n</style>\n<table border=\"1\" class=\"dataframe\">\n  <thead>\n    <tr style=\"text-align: right;\">\n      <th></th>\n      <th>price</th>\n      <th>points</th>\n    </tr>\n  </thead>\n  <tbody>\n    <tr>\n      <th>price</th>\n      <td>1.000000</td>\n      <td>0.447288</td>\n    </tr>\n    <tr>\n      <th>points</th>\n      <td>0.447288</td>\n      <td>1.000000</td>\n    </tr>\n  </tbody>\n</table>\n</div>"
          },
          "metadata": {}
        }
      ]
    },
    {
      "metadata": {
        "_uuid": "f2f14fa45636ab75da778eebc503dfaf3b75098f"
      },
      "cell_type": "markdown",
      "source": "**Most expensive wine award goes to..**"
    },
    {
      "metadata": {
        "trusted": true,
        "_uuid": "9920ecdcab57f69a7feb97f9bd0ed092af011840"
      },
      "cell_type": "code",
      "source": "max_price = data.loc[[data['price'].idxmax()]]\nmax_price",
      "execution_count": 208,
      "outputs": [
        {
          "output_type": "execute_result",
          "execution_count": 208,
          "data": {
            "text/plain": "      country                                        description designation  \\\n34920  France  A big, powerful wine that sums up the richness...         NaN   \n\n       points   price  province  region_1 region_2                   variety  \\\n34920      99  2300.0  Bordeaux  Pauillac      NaN  Bordeaux-style Red Blend   \n\n               winery  rounded_price  \n34920  Château Latour           2300  ",
            "text/html": "<div>\n<style scoped>\n    .dataframe tbody tr th:only-of-type {\n        vertical-align: middle;\n    }\n\n    .dataframe tbody tr th {\n        vertical-align: top;\n    }\n\n    .dataframe thead th {\n        text-align: right;\n    }\n</style>\n<table border=\"1\" class=\"dataframe\">\n  <thead>\n    <tr style=\"text-align: right;\">\n      <th></th>\n      <th>country</th>\n      <th>description</th>\n      <th>designation</th>\n      <th>points</th>\n      <th>price</th>\n      <th>province</th>\n      <th>region_1</th>\n      <th>region_2</th>\n      <th>variety</th>\n      <th>winery</th>\n      <th>rounded_price</th>\n    </tr>\n  </thead>\n  <tbody>\n    <tr>\n      <th>34920</th>\n      <td>France</td>\n      <td>A big, powerful wine that sums up the richness...</td>\n      <td>NaN</td>\n      <td>99</td>\n      <td>2300.0</td>\n      <td>Bordeaux</td>\n      <td>Pauillac</td>\n      <td>NaN</td>\n      <td>Bordeaux-style Red Blend</td>\n      <td>Château Latour</td>\n      <td>2300</td>\n    </tr>\n  </tbody>\n</table>\n</div>"
          },
          "metadata": {}
        }
      ]
    },
    {
      "metadata": {
        "_uuid": "f8e572ae1b2a7b80cec521740515b534cc970b71"
      },
      "cell_type": "markdown",
      "source": "**Perfect wines 💯**"
    },
    {
      "metadata": {
        "trusted": true,
        "_uuid": "9e5fa4f4aaaf558cf4b28a04b2905eb7fd6f0173"
      },
      "cell_type": "code",
      "source": "max_score =data[data['points']==100]\nprint(\"Number of wines with perfect scores: \" + str(len(max_score)))\nprint('\\n')\nprint('List of wines with perfect scores, price low to high :')\nmax_score[['country', 'price', 'province', 'variety', 'winery']].sort_values(by=['price'])",
      "execution_count": 200,
      "outputs": [
        {
          "name": "stdout",
          "output_type": "stream",
          "text": "Number of wines with perfect scores: 11\n\n\nList of wines with perfect scores, price low to high :\n"
        },
        {
          "data": {
            "text/html": "<div>\n<style scoped>\n    .dataframe tbody tr th:only-of-type {\n        vertical-align: middle;\n    }\n\n    .dataframe tbody tr th {\n        vertical-align: top;\n    }\n\n    .dataframe thead th {\n        text-align: right;\n    }\n</style>\n<table border=\"1\" class=\"dataframe\">\n  <thead>\n    <tr style=\"text-align: right;\">\n      <th></th>\n      <th>country</th>\n      <th>price</th>\n      <th>province</th>\n      <th>variety</th>\n      <th>winery</th>\n    </tr>\n  </thead>\n  <tbody>\n    <tr>\n      <th>19354</th>\n      <td>US</td>\n      <td>65.0</td>\n      <td>Oregon</td>\n      <td>Syrah</td>\n      <td>Cayuse</td>\n    </tr>\n    <tr>\n      <th>98647</th>\n      <td>US</td>\n      <td>100.0</td>\n      <td>California</td>\n      <td>Pinot Noir</td>\n      <td>Williams Selyem</td>\n    </tr>\n    <tr>\n      <th>28954</th>\n      <td>Italy</td>\n      <td>195.0</td>\n      <td>Tuscany</td>\n      <td>Red Blend</td>\n      <td>Giovanni Chiappini</td>\n    </tr>\n    <tr>\n      <th>89399</th>\n      <td>US</td>\n      <td>200.0</td>\n      <td>California</td>\n      <td>Cabernet Sauvignon</td>\n      <td>Cardinale</td>\n    </tr>\n    <tr>\n      <th>111087</th>\n      <td>Italy</td>\n      <td>210.0</td>\n      <td>Tuscany</td>\n      <td>Prugnolo Gentile</td>\n      <td>Avignonesi</td>\n    </tr>\n    <tr>\n      <th>92916</th>\n      <td>US</td>\n      <td>215.0</td>\n      <td>California</td>\n      <td>Cabernet Sauvignon</td>\n      <td>Shafer</td>\n    </tr>\n    <tr>\n      <th>114272</th>\n      <td>US</td>\n      <td>245.0</td>\n      <td>California</td>\n      <td>Cabernet Blend</td>\n      <td>Sloan</td>\n    </tr>\n    <tr>\n      <th>19355</th>\n      <td>Australia</td>\n      <td>300.0</td>\n      <td>Victoria</td>\n      <td>Muscat</td>\n      <td>Chambers Rosewood Vineyards</td>\n    </tr>\n    <tr>\n      <th>24151</th>\n      <td>Italy</td>\n      <td>460.0</td>\n      <td>Tuscany</td>\n      <td>Merlot</td>\n      <td>Tenuta dell'Ornellaia</td>\n    </tr>\n    <tr>\n      <th>2145</th>\n      <td>France</td>\n      <td>848.0</td>\n      <td>Bordeaux</td>\n      <td>Bordeaux-style White Blend</td>\n      <td>Château Haut-Brion</td>\n    </tr>\n    <tr>\n      <th>26296</th>\n      <td>France</td>\n      <td>1400.0</td>\n      <td>Champagne</td>\n      <td>Chardonnay</td>\n      <td>Krug</td>\n    </tr>\n  </tbody>\n</table>\n</div>",
            "text/plain": "          country   price    province                     variety  \\\n19354          US    65.0      Oregon                       Syrah   \n98647          US   100.0  California                  Pinot Noir   \n28954       Italy   195.0     Tuscany                   Red Blend   \n89399          US   200.0  California          Cabernet Sauvignon   \n111087      Italy   210.0     Tuscany            Prugnolo Gentile   \n92916          US   215.0  California          Cabernet Sauvignon   \n114272         US   245.0  California              Cabernet Blend   \n19355   Australia   300.0    Victoria                      Muscat   \n24151       Italy   460.0     Tuscany                      Merlot   \n2145       France   848.0    Bordeaux  Bordeaux-style White Blend   \n26296      France  1400.0   Champagne                  Chardonnay   \n\n                             winery  \n19354                        Cayuse  \n98647               Williams Selyem  \n28954            Giovanni Chiappini  \n89399                     Cardinale  \n111087                   Avignonesi  \n92916                        Shafer  \n114272                        Sloan  \n19355   Chambers Rosewood Vineyards  \n24151         Tenuta dell'Ornellaia  \n2145             Château Haut-Brion  \n26296                          Krug  "
          },
          "execution_count": 200,
          "metadata": {},
          "output_type": "execute_result"
        }
      ]
    }
  ],
  "metadata": {
    "kernelspec": {
      "display_name": "Python 3",
      "language": "python",
      "name": "python3"
    },
    "language_info": {
      "name": "python",
      "version": "3.6.5",
      "mimetype": "text/x-python",
      "codemirror_mode": {
        "name": "ipython",
        "version": 3
      },
      "pygments_lexer": "ipython3",
      "nbconvert_exporter": "python",
      "file_extension": ".py"
    }
  },
  "nbformat": 4,
  "nbformat_minor": 1
}